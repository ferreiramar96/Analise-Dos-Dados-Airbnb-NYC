{
  "cells": [
    {
      "cell_type": "markdown",
      "metadata": {
        "id": "view-in-github",
        "colab_type": "text"
      },
      "source": [
        "<a href=\"https://colab.research.google.com/github/ferreiramar96/Analise-Dos-Dados-Airbnb-NYC/blob/main/An%C3%A1lise_Dos_Dados_Airbnb_NYC.ipynb\" target=\"_parent\"><img src=\"https://colab.research.google.com/assets/colab-badge.svg\" alt=\"Open In Colab\"/></a>"
      ]
    },
    {
      "cell_type": "markdown",
      "id": "ed15c675",
      "metadata": {
        "id": "ed15c675"
      },
      "source": [
        "# **Análise dos Dados do Airbnb - Nova York**\n",
        "\n",
        "O [Airbnb](https://www.airbnb.com.br/) é uma plataforma para alugar acomodação por temporada e promover experiências únicas. Só que tem um fato curioso sobre esta empresa, **eles não possuem nenhum hotel**!\n",
        "\n",
        "A empresa ajuda a tornar o compartilhamento fácil, agradável e seguro. Perfis pessoais e anúncios são verificados, eles matém um sistema de mensagens inteligente para que anfitriões e hóspedes possam se comunicar com segurança e gerenciam uma plataforma confiável para recolher e transferir pagamentos.\n",
        "\n",
        "Em meados de 2021, A Startup fundada 13 anos atrás(2008), chegou a marca impressionante de **1 bilhão de pessoas hospedadas**, e bem na semana em que se comemora o Dia Mundia do Turismo.\n",
        "\n",
        "Uma das iniciativas do Airbnb é disponibilizar dados de sua empresa em algumas cidades. Por meio do site [Inside Airbnb](http://insideairbnb.com/get-the-data/), Dessa forma sendo possivel realizar o download desses dados e serem feitos projetos e análise de dados de *Data Science*.\n",
        "\n",
        "<center><img alt=\"Analisando Airbnb\" width=\"10%\" src=\"https://www.area360.com.au/wp-content/uploads/2017/09/airbnb-logo.jpg\"></center>\n",
        "\n",
        "\n",
        "<center><b>O PROJETO A SEGUIR SERÁ REALIZADO UTILIZANDO OS DADOS DO AIRBNB DE NOVA YORK</b></center>\n",
        "\n",
        "\n",
        "<img src=\"new_york_city_10.png\"/>\n",
        "\n",
        "Segundo o site [Melhores Destinos](https://www.melhoresdestinos.com.br/cidades-mais-visitadas-do-mundo.html) a cidade de Nova York é impressionante por diversos motivos. É um lugar onde ao lado de arranha-céus, vivem parques extremamente arborizados. Além disso temos também vários pontos turísticos como: A Estátua da Liberdade, Times Square, Central Park e Empire State, Entre muitos outros.\n",
        "\n",
        "Com **mais de 50 milhões de visitantes por ano**, mais de 8 milhões de moradores, mais de 400 estações de metrô, milhares de restaurantes, diversos museus, muitas lojas e uma infinidade de pontos turísticos para conhecer - Nova York é assim, uma das cidades mais espetaculares do mundo, com uma variedade incrível de coisas para ver e fazer. Ela é a **cidade mais populosa dos Estados Unidos**, cenário de centenas filmes e um destino capaz de agradar pessoas com gostos completamente distintos.\n",
        "\n",
        "Como a cidade é muito visitada, é importante obtermos informações à respeito dos imóveis.Imagine que você queira visita-la, mas não tem nenhuma informação sobre preço das diárias dos hoteis, quantos dias ficar na cidade, quais os mais caros ou mais baratos, etc. Sendo assim, uma análise exploratória dos dados se faz crucial. Este é o objetivo do presente projeto."
      ]
    },
    {
      "cell_type": "markdown",
      "id": "7c2c4323",
      "metadata": {
        "id": "7c2c4323"
      },
      "source": [
        "## **Obtenção dos Dados**\n",
        "\n",
        "Todos os dados foram retirados do site do [Inside Airbnb](http://insideairbnb.com/get-the-data.html). Está é uma versão dos dados atualizados de 2019"
      ]
    },
    {
      "cell_type": "code",
      "execution_count": null,
      "id": "70eab2a9",
      "metadata": {
        "id": "70eab2a9"
      },
      "outputs": [],
      "source": [
        "# Importando os pacotes nescessários\n",
        "import pandas as pd\n",
        "import numpy as np\n",
        "import matplotlib.pyplot as plt\n",
        "import seaborn as sns\n",
        "import folium\n",
        "\n",
        "%matplotlib inline"
      ]
    },
    {
      "cell_type": "code",
      "execution_count": null,
      "id": "209b0bf7",
      "metadata": {
        "id": "209b0bf7"
      },
      "outputs": [],
      "source": [
        "# Importandos os dados para o nosso notebook\n",
        "df = pd.read_csv('https://raw.githubusercontent.com/ferreiramar96/Analise-Dos-Dados-Airbnb-NYC/main/airbnb_nyc_2019.csv')"
      ]
    },
    {
      "cell_type": "markdown",
      "id": "eb3e9cc2",
      "metadata": {
        "id": "eb3e9cc2"
      },
      "source": [
        "## **Análise dos Dados**"
      ]
    },
    {
      "cell_type": "markdown",
      "id": "0a4a9406",
      "metadata": {
        "id": "0a4a9406"
      },
      "source": [
        "Começando aqui nossa análise de dados, para podermos extrair informações relevantes para quem quiser conhcer uma das maiores cidades americana."
      ]
    },
    {
      "cell_type": "markdown",
      "id": "67369aa5",
      "metadata": {
        "id": "67369aa5"
      },
      "source": [
        "**Colunas do Dataset**\n",
        "\n",
        "* `id` - Identificador do registro na base de dados\n",
        "* `name` - Nome do Anúncio na plataforma do Airbnb\n",
        "* `host_id` - Número de id do proprietário (anfitrião) da propriedade\n",
        "* `host_name` - Nome do anfitrião\n",
        "* `neighbourhood_group` - Região da Cidade de Nova York\n",
        "* `neighbourhood` - Bairro (Está dentro de uma das Regiões)\n",
        "* `latitude` - Coordenada da latitude da propriedade\n",
        "* `longitude` - Coordenada da longitude da propriedade\n",
        "* `room_type` - Tipo da Locação (Quarto, Casa inteira, etc)\n",
        "* `price` - Preço do aluguel (diária)\n",
        "* `minimum_nights` - Diárias Mínimas para Locação\n",
        "* `number_of_reviews` - Quantidade de Avaliações\n",
        "* `last_review` - Data do último review\n",
        "* `reviews_per_month` - Quantidade de reviews por mês\n",
        "* `calculated_host_listings_count` - Quantidade de Anúncios do Host do Imóvel\n",
        "* `availability_365` - Tempo (dias) em que o anúncio está disponível\n",
        "\n",
        "\n",
        "A seguir vamos verificar as 5 primeiras linhas do nosso dataset"
      ]
    },
    {
      "cell_type": "code",
      "execution_count": null,
      "id": "75143dd9",
      "metadata": {
        "colab": {
          "base_uri": "https://localhost:8080/",
          "height": 461
        },
        "id": "75143dd9",
        "outputId": "e16e7f92-ab56-4053-c0ec-0f36d0d0619b"
      },
      "outputs": [
        {
          "output_type": "execute_result",
          "data": {
            "text/plain": [
              "     id                                              name  host_id  \\\n",
              "0  2539                Clean & quiet apt home by the park     2787   \n",
              "1  2595                             Skylit Midtown Castle     2845   \n",
              "2  3647               THE VILLAGE OF HARLEM....NEW YORK !     4632   \n",
              "3  3831                   Cozy Entire Floor of Brownstone     4869   \n",
              "4  5022  Entire Apt: Spacious Studio/Loft by central park     7192   \n",
              "\n",
              "     host_name neighbourhood_group neighbourhood  latitude  longitude  \\\n",
              "0         John            Brooklyn    Kensington  40.64749  -73.97237   \n",
              "1     Jennifer           Manhattan       Midtown  40.75362  -73.98377   \n",
              "2    Elisabeth           Manhattan        Harlem  40.80902  -73.94190   \n",
              "3  LisaRoxanne            Brooklyn  Clinton Hill  40.68514  -73.95976   \n",
              "4        Laura           Manhattan   East Harlem  40.79851  -73.94399   \n",
              "\n",
              "         room_type  price  minimum_nights  number_of_reviews last_review  \\\n",
              "0     Private room    149               1                  9  2018-10-19   \n",
              "1  Entire home/apt    225               1                 45  2019-05-21   \n",
              "2     Private room    150               3                  0         NaN   \n",
              "3  Entire home/apt     89               1                270  2019-07-05   \n",
              "4  Entire home/apt     80              10                  9  2018-11-19   \n",
              "\n",
              "   reviews_per_month  calculated_host_listings_count  availability_365  \n",
              "0               0.21                               6               365  \n",
              "1               0.38                               2               355  \n",
              "2                NaN                               1               365  \n",
              "3               4.64                               1               194  \n",
              "4               0.10                               1                 0  "
            ],
            "text/html": [
              "\n",
              "  <div id=\"df-f53aed47-cab8-48ef-8b82-187a8bc0d0de\">\n",
              "    <div class=\"colab-df-container\">\n",
              "      <div>\n",
              "<style scoped>\n",
              "    .dataframe tbody tr th:only-of-type {\n",
              "        vertical-align: middle;\n",
              "    }\n",
              "\n",
              "    .dataframe tbody tr th {\n",
              "        vertical-align: top;\n",
              "    }\n",
              "\n",
              "    .dataframe thead th {\n",
              "        text-align: right;\n",
              "    }\n",
              "</style>\n",
              "<table border=\"1\" class=\"dataframe\">\n",
              "  <thead>\n",
              "    <tr style=\"text-align: right;\">\n",
              "      <th></th>\n",
              "      <th>id</th>\n",
              "      <th>name</th>\n",
              "      <th>host_id</th>\n",
              "      <th>host_name</th>\n",
              "      <th>neighbourhood_group</th>\n",
              "      <th>neighbourhood</th>\n",
              "      <th>latitude</th>\n",
              "      <th>longitude</th>\n",
              "      <th>room_type</th>\n",
              "      <th>price</th>\n",
              "      <th>minimum_nights</th>\n",
              "      <th>number_of_reviews</th>\n",
              "      <th>last_review</th>\n",
              "      <th>reviews_per_month</th>\n",
              "      <th>calculated_host_listings_count</th>\n",
              "      <th>availability_365</th>\n",
              "    </tr>\n",
              "  </thead>\n",
              "  <tbody>\n",
              "    <tr>\n",
              "      <th>0</th>\n",
              "      <td>2539</td>\n",
              "      <td>Clean &amp; quiet apt home by the park</td>\n",
              "      <td>2787</td>\n",
              "      <td>John</td>\n",
              "      <td>Brooklyn</td>\n",
              "      <td>Kensington</td>\n",
              "      <td>40.64749</td>\n",
              "      <td>-73.97237</td>\n",
              "      <td>Private room</td>\n",
              "      <td>149</td>\n",
              "      <td>1</td>\n",
              "      <td>9</td>\n",
              "      <td>2018-10-19</td>\n",
              "      <td>0.21</td>\n",
              "      <td>6</td>\n",
              "      <td>365</td>\n",
              "    </tr>\n",
              "    <tr>\n",
              "      <th>1</th>\n",
              "      <td>2595</td>\n",
              "      <td>Skylit Midtown Castle</td>\n",
              "      <td>2845</td>\n",
              "      <td>Jennifer</td>\n",
              "      <td>Manhattan</td>\n",
              "      <td>Midtown</td>\n",
              "      <td>40.75362</td>\n",
              "      <td>-73.98377</td>\n",
              "      <td>Entire home/apt</td>\n",
              "      <td>225</td>\n",
              "      <td>1</td>\n",
              "      <td>45</td>\n",
              "      <td>2019-05-21</td>\n",
              "      <td>0.38</td>\n",
              "      <td>2</td>\n",
              "      <td>355</td>\n",
              "    </tr>\n",
              "    <tr>\n",
              "      <th>2</th>\n",
              "      <td>3647</td>\n",
              "      <td>THE VILLAGE OF HARLEM....NEW YORK !</td>\n",
              "      <td>4632</td>\n",
              "      <td>Elisabeth</td>\n",
              "      <td>Manhattan</td>\n",
              "      <td>Harlem</td>\n",
              "      <td>40.80902</td>\n",
              "      <td>-73.94190</td>\n",
              "      <td>Private room</td>\n",
              "      <td>150</td>\n",
              "      <td>3</td>\n",
              "      <td>0</td>\n",
              "      <td>NaN</td>\n",
              "      <td>NaN</td>\n",
              "      <td>1</td>\n",
              "      <td>365</td>\n",
              "    </tr>\n",
              "    <tr>\n",
              "      <th>3</th>\n",
              "      <td>3831</td>\n",
              "      <td>Cozy Entire Floor of Brownstone</td>\n",
              "      <td>4869</td>\n",
              "      <td>LisaRoxanne</td>\n",
              "      <td>Brooklyn</td>\n",
              "      <td>Clinton Hill</td>\n",
              "      <td>40.68514</td>\n",
              "      <td>-73.95976</td>\n",
              "      <td>Entire home/apt</td>\n",
              "      <td>89</td>\n",
              "      <td>1</td>\n",
              "      <td>270</td>\n",
              "      <td>2019-07-05</td>\n",
              "      <td>4.64</td>\n",
              "      <td>1</td>\n",
              "      <td>194</td>\n",
              "    </tr>\n",
              "    <tr>\n",
              "      <th>4</th>\n",
              "      <td>5022</td>\n",
              "      <td>Entire Apt: Spacious Studio/Loft by central park</td>\n",
              "      <td>7192</td>\n",
              "      <td>Laura</td>\n",
              "      <td>Manhattan</td>\n",
              "      <td>East Harlem</td>\n",
              "      <td>40.79851</td>\n",
              "      <td>-73.94399</td>\n",
              "      <td>Entire home/apt</td>\n",
              "      <td>80</td>\n",
              "      <td>10</td>\n",
              "      <td>9</td>\n",
              "      <td>2018-11-19</td>\n",
              "      <td>0.10</td>\n",
              "      <td>1</td>\n",
              "      <td>0</td>\n",
              "    </tr>\n",
              "  </tbody>\n",
              "</table>\n",
              "</div>\n",
              "      <button class=\"colab-df-convert\" onclick=\"convertToInteractive('df-f53aed47-cab8-48ef-8b82-187a8bc0d0de')\"\n",
              "              title=\"Convert this dataframe to an interactive table.\"\n",
              "              style=\"display:none;\">\n",
              "        \n",
              "  <svg xmlns=\"http://www.w3.org/2000/svg\" height=\"24px\"viewBox=\"0 0 24 24\"\n",
              "       width=\"24px\">\n",
              "    <path d=\"M0 0h24v24H0V0z\" fill=\"none\"/>\n",
              "    <path d=\"M18.56 5.44l.94 2.06.94-2.06 2.06-.94-2.06-.94-.94-2.06-.94 2.06-2.06.94zm-11 1L8.5 8.5l.94-2.06 2.06-.94-2.06-.94L8.5 2.5l-.94 2.06-2.06.94zm10 10l.94 2.06.94-2.06 2.06-.94-2.06-.94-.94-2.06-.94 2.06-2.06.94z\"/><path d=\"M17.41 7.96l-1.37-1.37c-.4-.4-.92-.59-1.43-.59-.52 0-1.04.2-1.43.59L10.3 9.45l-7.72 7.72c-.78.78-.78 2.05 0 2.83L4 21.41c.39.39.9.59 1.41.59.51 0 1.02-.2 1.41-.59l7.78-7.78 2.81-2.81c.8-.78.8-2.07 0-2.86zM5.41 20L4 18.59l7.72-7.72 1.47 1.35L5.41 20z\"/>\n",
              "  </svg>\n",
              "      </button>\n",
              "      \n",
              "  <style>\n",
              "    .colab-df-container {\n",
              "      display:flex;\n",
              "      flex-wrap:wrap;\n",
              "      gap: 12px;\n",
              "    }\n",
              "\n",
              "    .colab-df-convert {\n",
              "      background-color: #E8F0FE;\n",
              "      border: none;\n",
              "      border-radius: 50%;\n",
              "      cursor: pointer;\n",
              "      display: none;\n",
              "      fill: #1967D2;\n",
              "      height: 32px;\n",
              "      padding: 0 0 0 0;\n",
              "      width: 32px;\n",
              "    }\n",
              "\n",
              "    .colab-df-convert:hover {\n",
              "      background-color: #E2EBFA;\n",
              "      box-shadow: 0px 1px 2px rgba(60, 64, 67, 0.3), 0px 1px 3px 1px rgba(60, 64, 67, 0.15);\n",
              "      fill: #174EA6;\n",
              "    }\n",
              "\n",
              "    [theme=dark] .colab-df-convert {\n",
              "      background-color: #3B4455;\n",
              "      fill: #D2E3FC;\n",
              "    }\n",
              "\n",
              "    [theme=dark] .colab-df-convert:hover {\n",
              "      background-color: #434B5C;\n",
              "      box-shadow: 0px 1px 3px 1px rgba(0, 0, 0, 0.15);\n",
              "      filter: drop-shadow(0px 1px 2px rgba(0, 0, 0, 0.3));\n",
              "      fill: #FFFFFF;\n",
              "    }\n",
              "  </style>\n",
              "\n",
              "      <script>\n",
              "        const buttonEl =\n",
              "          document.querySelector('#df-f53aed47-cab8-48ef-8b82-187a8bc0d0de button.colab-df-convert');\n",
              "        buttonEl.style.display =\n",
              "          google.colab.kernel.accessAllowed ? 'block' : 'none';\n",
              "\n",
              "        async function convertToInteractive(key) {\n",
              "          const element = document.querySelector('#df-f53aed47-cab8-48ef-8b82-187a8bc0d0de');\n",
              "          const dataTable =\n",
              "            await google.colab.kernel.invokeFunction('convertToInteractive',\n",
              "                                                     [key], {});\n",
              "          if (!dataTable) return;\n",
              "\n",
              "          const docLinkHtml = 'Like what you see? Visit the ' +\n",
              "            '<a target=\"_blank\" href=https://colab.research.google.com/notebooks/data_table.ipynb>data table notebook</a>'\n",
              "            + ' to learn more about interactive tables.';\n",
              "          element.innerHTML = '';\n",
              "          dataTable['output_type'] = 'display_data';\n",
              "          await google.colab.output.renderOutput(dataTable, element);\n",
              "          const docLink = document.createElement('div');\n",
              "          docLink.innerHTML = docLinkHtml;\n",
              "          element.appendChild(docLink);\n",
              "        }\n",
              "      </script>\n",
              "    </div>\n",
              "  </div>\n",
              "  "
            ]
          },
          "metadata": {},
          "execution_count": 4
        }
      ],
      "source": [
        "#Mostrando 5 primeiras linhas do nosso conjunto de dados\n",
        "df.head()"
      ]
    },
    {
      "cell_type": "markdown",
      "id": "65c2bbfe",
      "metadata": {
        "id": "65c2bbfe"
      },
      "source": [
        "* Para realizar uma análise mais clara, vou converter o valor de dólares para reais. Para podermos ter uma base melhor, de qual valor estamos falando em nossa realidade"
      ]
    },
    {
      "cell_type": "code",
      "execution_count": null,
      "id": "1310a47e",
      "metadata": {
        "id": "1310a47e"
      },
      "outputs": [],
      "source": [
        "#Criando nova coluna\n",
        "df['Preço em R$'] = df['price'] * 5.05"
      ]
    },
    {
      "cell_type": "markdown",
      "id": "bc5afe3d",
      "metadata": {
        "id": "bc5afe3d"
      },
      "source": [
        "Coluna criada, cujo o valor atual do dolar é R$5,05"
      ]
    },
    {
      "cell_type": "markdown",
      "id": "99f06f44",
      "metadata": {
        "id": "99f06f44"
      },
      "source": [
        "### **Q1. Quantas colunas(váriaveis) e quantas linhas(entradas) o nosso dataset possui? E quais são os tipos de dados que nós temos?**"
      ]
    },
    {
      "cell_type": "code",
      "execution_count": null,
      "id": "e8dc8611",
      "metadata": {
        "colab": {
          "base_uri": "https://localhost:8080/"
        },
        "id": "e8dc8611",
        "outputId": "e68754dd-daf9-4e50-ca9a-1965eececc4f"
      },
      "outputs": [
        {
          "output_type": "stream",
          "name": "stdout",
          "text": [
            "Colunas: 17\n",
            "Linhas: 48895\n"
          ]
        }
      ],
      "source": [
        "#Vendo as linhas e colunas \n",
        "print(f'Colunas: {df.shape[1]}')\n",
        "print(f'Linhas: {df.shape[0]}')"
      ]
    },
    {
      "cell_type": "code",
      "execution_count": null,
      "id": "831cc2e4",
      "metadata": {
        "colab": {
          "base_uri": "https://localhost:8080/",
          "height": 329
        },
        "id": "831cc2e4",
        "outputId": "3b9af3df-14af-4453-ceb7-dca75ce62ed4"
      },
      "outputs": [
        {
          "output_type": "display_data",
          "data": {
            "text/plain": [
              "id                                  int64\n",
              "name                               object\n",
              "host_id                             int64\n",
              "host_name                          object\n",
              "neighbourhood_group                object\n",
              "neighbourhood                      object\n",
              "latitude                          float64\n",
              "longitude                         float64\n",
              "room_type                          object\n",
              "price                               int64\n",
              "minimum_nights                      int64\n",
              "number_of_reviews                   int64\n",
              "last_review                        object\n",
              "reviews_per_month                 float64\n",
              "calculated_host_listings_count      int64\n",
              "availability_365                    int64\n",
              "Preço em R$                       float64\n",
              "dtype: object"
            ]
          },
          "metadata": {}
        }
      ],
      "source": [
        "#Verificando os tipos de dados\n",
        "display(df.dtypes)"
      ]
    },
    {
      "cell_type": "markdown",
      "id": "0c465cf2",
      "metadata": {
        "id": "0c465cf2"
      },
      "source": [
        "* Podemos observar que esse nosso dataset possui um total de 48.895 linhas e 17 colunas. E os tipos dos dados são: Inteiro, Float e Objeto"
      ]
    },
    {
      "cell_type": "markdown",
      "id": "43f610c2",
      "metadata": {
        "id": "43f610c2"
      },
      "source": [
        "### **Q2. Qual a porcentagem de valores ausentes  no dataset?**"
      ]
    },
    {
      "cell_type": "code",
      "execution_count": null,
      "id": "438ba858",
      "metadata": {
        "colab": {
          "base_uri": "https://localhost:8080/"
        },
        "id": "438ba858",
        "outputId": "26a0d201-4b18-4535-87d1-29f519fd2646"
      },
      "outputs": [
        {
          "output_type": "execute_result",
          "data": {
            "text/plain": [
              "reviews_per_month                 20.558339\n",
              "last_review                       20.558339\n",
              "host_name                          0.042949\n",
              "name                               0.032723\n",
              "id                                 0.000000\n",
              "minimum_nights                     0.000000\n",
              "availability_365                   0.000000\n",
              "calculated_host_listings_count     0.000000\n",
              "number_of_reviews                  0.000000\n",
              "room_type                          0.000000\n",
              "price                              0.000000\n",
              "longitude                          0.000000\n",
              "latitude                           0.000000\n",
              "neighbourhood                      0.000000\n",
              "neighbourhood_group                0.000000\n",
              "host_id                            0.000000\n",
              "Preço em R$                        0.000000\n",
              "dtype: float64"
            ]
          },
          "metadata": {},
          "execution_count": 8
        }
      ],
      "source": [
        "#Organizando de forma decrescente a porcentagem de dados faltantes de cada coluna \n",
        "((df.isnull().sum() / df.shape[0]).sort_values(ascending=False)) * 100"
      ]
    },
    {
      "cell_type": "markdown",
      "id": "34dd4513",
      "metadata": {
        "id": "34dd4513"
      },
      "source": [
        "* É possível observar que as colunas `reviews_per_month` e `last_review` tem exatamente 20,55% dos dados ausentes. \n",
        "\n",
        "* E as colunas `host_name` e `name` tem pouca menos de 0,1% dos dados ausentes. \n",
        "\n",
        "* E as demais colunas, não possuem nenhum valor ausente"
      ]
    },
    {
      "cell_type": "markdown",
      "id": "26139143",
      "metadata": {
        "id": "26139143"
      },
      "source": [
        "### **Q3. Existem valores Outliers?**\n",
        "\n",
        "Para podermos identificar se existem valores discrepantes(outliers), vamos utilizar algumas métricas estatísticas e logo em seguida plotar boxplots, e vamos calcular os limites utilizando a regra do IQR Score.\n",
        "\n",
        "O IQR não é nada mais do que: \n",
        "\n",
        "* Subtrair o Terceiro Quartil(75%) pelo Primeiro Quartil(25%).\n",
        "\n",
        "# IQR = Q3 - Q1\n",
        "\n",
        "<img src=\"https://miro.medium.com/max/474/1*myHCqePy705Bn8oDHY9Fcg.jpeg\"/>\n",
        "\n",
        "Logo após calcular o IQR, podemos então calcular os limites superior e inferior, utilizando a seguinte fórmula: \n",
        "\n",
        "<img src=\"https://aprendendogestao.com.br/wp-content/uploads/2016/08/OUT-Figura-5.png\" height=\"180\" width=\"450\"/>\n",
        "\n",
        "\n",
        "\n",
        "\n",
        "Vamos dar uma olhada nos dados para idendificarmos o que será preciso fazer.\n",
        "\n"
      ]
    },
    {
      "cell_type": "code",
      "execution_count": null,
      "id": "f797e0ea",
      "metadata": {
        "colab": {
          "base_uri": "https://localhost:8080/",
          "height": 300
        },
        "id": "f797e0ea",
        "outputId": "870143c6-4b6a-4fa2-d4b5-92abcc584a94"
      },
      "outputs": [
        {
          "output_type": "execute_result",
          "data": {
            "text/plain": [
              "              price   Preço em R$  minimum_nights  number_of_reviews  \\\n",
              "count  48895.000000  48895.000000    48895.000000       48895.000000   \n",
              "mean     152.720687    771.239470        7.029962          23.274466   \n",
              "std      240.154170   1212.778557       20.510550          44.550582   \n",
              "min        0.000000      0.000000        1.000000           0.000000   \n",
              "25%       69.000000    348.450000        1.000000           1.000000   \n",
              "50%      106.000000    535.300000        3.000000           5.000000   \n",
              "75%      175.000000    883.750000        5.000000          24.000000   \n",
              "max    10000.000000  50500.000000     1250.000000         629.000000   \n",
              "\n",
              "       reviews_per_month  calculated_host_listings_count  availability_365  \n",
              "count       38843.000000                    48895.000000      48895.000000  \n",
              "mean            1.373221                        7.143982        112.781327  \n",
              "std             1.680442                       32.952519        131.622289  \n",
              "min             0.010000                        1.000000          0.000000  \n",
              "25%             0.190000                        1.000000          0.000000  \n",
              "50%             0.720000                        1.000000         45.000000  \n",
              "75%             2.020000                        2.000000        227.000000  \n",
              "max            58.500000                      327.000000        365.000000  "
            ],
            "text/html": [
              "\n",
              "  <div id=\"df-b4fbd3f8-234c-4b62-9a1d-28defee2e4f9\">\n",
              "    <div class=\"colab-df-container\">\n",
              "      <div>\n",
              "<style scoped>\n",
              "    .dataframe tbody tr th:only-of-type {\n",
              "        vertical-align: middle;\n",
              "    }\n",
              "\n",
              "    .dataframe tbody tr th {\n",
              "        vertical-align: top;\n",
              "    }\n",
              "\n",
              "    .dataframe thead th {\n",
              "        text-align: right;\n",
              "    }\n",
              "</style>\n",
              "<table border=\"1\" class=\"dataframe\">\n",
              "  <thead>\n",
              "    <tr style=\"text-align: right;\">\n",
              "      <th></th>\n",
              "      <th>price</th>\n",
              "      <th>Preço em R$</th>\n",
              "      <th>minimum_nights</th>\n",
              "      <th>number_of_reviews</th>\n",
              "      <th>reviews_per_month</th>\n",
              "      <th>calculated_host_listings_count</th>\n",
              "      <th>availability_365</th>\n",
              "    </tr>\n",
              "  </thead>\n",
              "  <tbody>\n",
              "    <tr>\n",
              "      <th>count</th>\n",
              "      <td>48895.000000</td>\n",
              "      <td>48895.000000</td>\n",
              "      <td>48895.000000</td>\n",
              "      <td>48895.000000</td>\n",
              "      <td>38843.000000</td>\n",
              "      <td>48895.000000</td>\n",
              "      <td>48895.000000</td>\n",
              "    </tr>\n",
              "    <tr>\n",
              "      <th>mean</th>\n",
              "      <td>152.720687</td>\n",
              "      <td>771.239470</td>\n",
              "      <td>7.029962</td>\n",
              "      <td>23.274466</td>\n",
              "      <td>1.373221</td>\n",
              "      <td>7.143982</td>\n",
              "      <td>112.781327</td>\n",
              "    </tr>\n",
              "    <tr>\n",
              "      <th>std</th>\n",
              "      <td>240.154170</td>\n",
              "      <td>1212.778557</td>\n",
              "      <td>20.510550</td>\n",
              "      <td>44.550582</td>\n",
              "      <td>1.680442</td>\n",
              "      <td>32.952519</td>\n",
              "      <td>131.622289</td>\n",
              "    </tr>\n",
              "    <tr>\n",
              "      <th>min</th>\n",
              "      <td>0.000000</td>\n",
              "      <td>0.000000</td>\n",
              "      <td>1.000000</td>\n",
              "      <td>0.000000</td>\n",
              "      <td>0.010000</td>\n",
              "      <td>1.000000</td>\n",
              "      <td>0.000000</td>\n",
              "    </tr>\n",
              "    <tr>\n",
              "      <th>25%</th>\n",
              "      <td>69.000000</td>\n",
              "      <td>348.450000</td>\n",
              "      <td>1.000000</td>\n",
              "      <td>1.000000</td>\n",
              "      <td>0.190000</td>\n",
              "      <td>1.000000</td>\n",
              "      <td>0.000000</td>\n",
              "    </tr>\n",
              "    <tr>\n",
              "      <th>50%</th>\n",
              "      <td>106.000000</td>\n",
              "      <td>535.300000</td>\n",
              "      <td>3.000000</td>\n",
              "      <td>5.000000</td>\n",
              "      <td>0.720000</td>\n",
              "      <td>1.000000</td>\n",
              "      <td>45.000000</td>\n",
              "    </tr>\n",
              "    <tr>\n",
              "      <th>75%</th>\n",
              "      <td>175.000000</td>\n",
              "      <td>883.750000</td>\n",
              "      <td>5.000000</td>\n",
              "      <td>24.000000</td>\n",
              "      <td>2.020000</td>\n",
              "      <td>2.000000</td>\n",
              "      <td>227.000000</td>\n",
              "    </tr>\n",
              "    <tr>\n",
              "      <th>max</th>\n",
              "      <td>10000.000000</td>\n",
              "      <td>50500.000000</td>\n",
              "      <td>1250.000000</td>\n",
              "      <td>629.000000</td>\n",
              "      <td>58.500000</td>\n",
              "      <td>327.000000</td>\n",
              "      <td>365.000000</td>\n",
              "    </tr>\n",
              "  </tbody>\n",
              "</table>\n",
              "</div>\n",
              "      <button class=\"colab-df-convert\" onclick=\"convertToInteractive('df-b4fbd3f8-234c-4b62-9a1d-28defee2e4f9')\"\n",
              "              title=\"Convert this dataframe to an interactive table.\"\n",
              "              style=\"display:none;\">\n",
              "        \n",
              "  <svg xmlns=\"http://www.w3.org/2000/svg\" height=\"24px\"viewBox=\"0 0 24 24\"\n",
              "       width=\"24px\">\n",
              "    <path d=\"M0 0h24v24H0V0z\" fill=\"none\"/>\n",
              "    <path d=\"M18.56 5.44l.94 2.06.94-2.06 2.06-.94-2.06-.94-.94-2.06-.94 2.06-2.06.94zm-11 1L8.5 8.5l.94-2.06 2.06-.94-2.06-.94L8.5 2.5l-.94 2.06-2.06.94zm10 10l.94 2.06.94-2.06 2.06-.94-2.06-.94-.94-2.06-.94 2.06-2.06.94z\"/><path d=\"M17.41 7.96l-1.37-1.37c-.4-.4-.92-.59-1.43-.59-.52 0-1.04.2-1.43.59L10.3 9.45l-7.72 7.72c-.78.78-.78 2.05 0 2.83L4 21.41c.39.39.9.59 1.41.59.51 0 1.02-.2 1.41-.59l7.78-7.78 2.81-2.81c.8-.78.8-2.07 0-2.86zM5.41 20L4 18.59l7.72-7.72 1.47 1.35L5.41 20z\"/>\n",
              "  </svg>\n",
              "      </button>\n",
              "      \n",
              "  <style>\n",
              "    .colab-df-container {\n",
              "      display:flex;\n",
              "      flex-wrap:wrap;\n",
              "      gap: 12px;\n",
              "    }\n",
              "\n",
              "    .colab-df-convert {\n",
              "      background-color: #E8F0FE;\n",
              "      border: none;\n",
              "      border-radius: 50%;\n",
              "      cursor: pointer;\n",
              "      display: none;\n",
              "      fill: #1967D2;\n",
              "      height: 32px;\n",
              "      padding: 0 0 0 0;\n",
              "      width: 32px;\n",
              "    }\n",
              "\n",
              "    .colab-df-convert:hover {\n",
              "      background-color: #E2EBFA;\n",
              "      box-shadow: 0px 1px 2px rgba(60, 64, 67, 0.3), 0px 1px 3px 1px rgba(60, 64, 67, 0.15);\n",
              "      fill: #174EA6;\n",
              "    }\n",
              "\n",
              "    [theme=dark] .colab-df-convert {\n",
              "      background-color: #3B4455;\n",
              "      fill: #D2E3FC;\n",
              "    }\n",
              "\n",
              "    [theme=dark] .colab-df-convert:hover {\n",
              "      background-color: #434B5C;\n",
              "      box-shadow: 0px 1px 3px 1px rgba(0, 0, 0, 0.15);\n",
              "      filter: drop-shadow(0px 1px 2px rgba(0, 0, 0, 0.3));\n",
              "      fill: #FFFFFF;\n",
              "    }\n",
              "  </style>\n",
              "\n",
              "      <script>\n",
              "        const buttonEl =\n",
              "          document.querySelector('#df-b4fbd3f8-234c-4b62-9a1d-28defee2e4f9 button.colab-df-convert');\n",
              "        buttonEl.style.display =\n",
              "          google.colab.kernel.accessAllowed ? 'block' : 'none';\n",
              "\n",
              "        async function convertToInteractive(key) {\n",
              "          const element = document.querySelector('#df-b4fbd3f8-234c-4b62-9a1d-28defee2e4f9');\n",
              "          const dataTable =\n",
              "            await google.colab.kernel.invokeFunction('convertToInteractive',\n",
              "                                                     [key], {});\n",
              "          if (!dataTable) return;\n",
              "\n",
              "          const docLinkHtml = 'Like what you see? Visit the ' +\n",
              "            '<a target=\"_blank\" href=https://colab.research.google.com/notebooks/data_table.ipynb>data table notebook</a>'\n",
              "            + ' to learn more about interactive tables.';\n",
              "          element.innerHTML = '';\n",
              "          dataTable['output_type'] = 'display_data';\n",
              "          await google.colab.output.renderOutput(dataTable, element);\n",
              "          const docLink = document.createElement('div');\n",
              "          docLink.innerHTML = docLinkHtml;\n",
              "          element.appendChild(docLink);\n",
              "        }\n",
              "      </script>\n",
              "    </div>\n",
              "  </div>\n",
              "  "
            ]
          },
          "metadata": {},
          "execution_count": 10
        }
      ],
      "source": [
        "#Verificando a distribuição estatística \n",
        "df[['price', 'Preço em R$', 'minimum_nights', 'number_of_reviews', 'reviews_per_month',\n",
        "    'calculated_host_listings_count', 'availability_365']].describe()"
      ]
    },
    {
      "cell_type": "markdown",
      "id": "e02bf96d",
      "metadata": {
        "id": "e02bf96d"
      },
      "source": [
        "Podemos notar algumas coisas que chamam nossa atenção, como por exemplo:\n",
        "\n",
        "* A variável `minimum_nights` tem como valore maxímo 1250, sendo que o Q3 está em 5.\n",
        "\n",
        "* A coluna de `Preço em R$`, 75% do mesmo está abaixo de 883.75 reais, e o seu valor máximo é R$ 50.500.\n",
        "\n",
        "* A variável `Preço em R$` tem o valor mínimo 0."
      ]
    },
    {
      "cell_type": "markdown",
      "id": "3b04706d",
      "metadata": {
        "id": "3b04706d"
      },
      "source": [
        "* Podemos observar que acima de 30 noites, já são valores extremamente discrepantes. Pois não faz sentido um aluguel com um mínimo de mais de 30 dias para poder alugar."
      ]
    },
    {
      "cell_type": "code",
      "source": [
        "#Verificando as distribuições\n",
        "df.hist(bins=15, figsize=(15, 12), color='royalblue')\n",
        "plt.show()"
      ],
      "metadata": {
        "colab": {
          "base_uri": "https://localhost:8080/",
          "height": 716
        },
        "id": "bigXRQ71ulEq",
        "outputId": "07ca80db-8e1a-427b-d4ab-fb13e1967c7d"
      },
      "id": "bigXRQ71ulEq",
      "execution_count": null,
      "outputs": [
        {
          "output_type": "display_data",
          "data": {
            "text/plain": [
              "<Figure size 1080x864 with 12 Axes>"
            ],
            "image/png": "[encoded data removed]"
          },
          "metadata": {
            "needs_background": "light"
          }
        }
      ]
    },
    {
      "cell_type": "markdown",
      "source": [
        "Verificamos os histogramas, conseguimos ver claramente que existem outliers. Para tratá-los vamos seguir os seguintes passos:\n",
        "\n",
        "* Definir o Q1 e Q3 para as variáveis que serão limpas.\n",
        "* Calcular o IQR para as variáveis.\n",
        "* Definir o limite superior e inferior para cortar os outliers.\n",
        "* Remover os outliers."
      ],
      "metadata": {
        "id": "Of8Boc85un32"
      },
      "id": "Of8Boc85un32"
    },
    {
      "cell_type": "markdown",
      "id": "db116209",
      "metadata": {
        "id": "db116209"
      },
      "source": [
        "#### **Tratando Valores Outliers**"
      ]
    },
    {
      "cell_type": "code",
      "source": [
        "#Identificando os outliers para a variavel price e Preço em R$\n",
        "q1_price = df['price'].quantile(.25)\n",
        "q3_price = df['price'].quantile(.75)\n",
        "IQR_price = q3_price - q1_price\n",
        "print(f\"IQR da variável price: {IQR_price}\")\n",
        "\n",
        "q1_preco = df['Preço em R$'].quantile(.25)\n",
        "q3_preco = df['Preço em R$'].quantile(.75)\n",
        "IQR_preco = q3_preco - q1_preco\n",
        "print(f\"IQR da variável Preço em R$: {IQR_preco}\")\n",
        "\n",
        "#Definindo os limites\n",
        "sup_price = q3_price + 1.5 * IQR_price\n",
        "inf_price = q3_price - 1.5 * IQR_price\n",
        "print(f\"Limite superior de price: {sup_price}\")\n",
        "print(f\"Limite inferior de price: {inf_price}\")\n",
        "\n",
        "sup_preco = q3_preco + 1.5 * IQR_preco\n",
        "inf_preco = q3_preco - 1.5 * IQR_preco\n",
        "print(f\"Limite superior de preco: {sup_preco:.2f}\")\n",
        "print(f\"Limite inferior de preco: {inf_preco:.2f}\")"
      ],
      "metadata": {
        "colab": {
          "base_uri": "https://localhost:8080/"
        },
        "id": "ZwTub5tnvNSu",
        "outputId": "78dd0495-ebfa-4fe9-9d3a-50f741f94c31"
      },
      "id": "ZwTub5tnvNSu",
      "execution_count": null,
      "outputs": [
        {
          "output_type": "stream",
          "name": "stdout",
          "text": [
            "IQR da variável price: 106.0\n",
            "IQR da variável Preço em R$: 535.3\n",
            "Limite superior de price: 334.0\n",
            "Limite inferior de price: 16.0\n",
            "Limite superior de preco: 1686.70\n",
            "Limite inferior de preco: 80.80\n"
          ]
        }
      ]
    },
    {
      "cell_type": "code",
      "source": [
        "# verificando o conjunto original\n",
        "fig, ax = plt.subplots(figsize=(15,3))\n",
        "df['price'].plot(kind='box', vert=False);\n",
        "ax.set_title('Dataset Original - price')\n",
        "plt.show()\n",
        "print(\"O dataset possui {} colunas\".format(df.shape[0]))\n",
        "print(\"{} Entradas acima de 334\".format(len(df[df['price'] > 334])))\n",
        "print(\"Representam {:.2f}% do dataset\".format((len(df[df['price'] > 334]) / df.shape[0])*100))"
      ],
      "metadata": {
        "colab": {
          "base_uri": "https://localhost:8080/",
          "height": 279
        },
        "id": "1tPPFqrJzaAG",
        "outputId": "bf224733-d16b-4296-af9b-0a00cd1829cb"
      },
      "id": "1tPPFqrJzaAG",
      "execution_count": null,
      "outputs": [
        {
          "output_type": "display_data",
          "data": {
            "text/plain": [
              "<Figure size 1080x216 with 1 Axes>"
            ],
            "image/png": "[encoded data removed]"
          },
          "metadata": {
            "needs_background": "light"
          }
        },
        {
          "output_type": "stream",
          "name": "stdout",
          "text": [
            "O dataset possui 48895 colunas\n",
            "2972 Entradas acima de 334\n",
            "Representam 6.08% do dataset\n"
          ]
        }
      ]
    },
    {
      "cell_type": "code",
      "source": [
        "# identificando os outliers para a variável minimum_nights\n",
        "q1_minimum_nights = df.minimum_nights.quantile(.25)\n",
        "q3_minimum_nights = df.minimum_nights.quantile(.75)\n",
        "IQR_minimum_nights = q3_minimum_nights - q1_minimum_nights\n",
        "print('IQR da variável minimum_nights: ', IQR_minimum_nights)\n",
        "\n",
        "# definindo os limites                                       \n",
        "sup_minimum_nights = q3_minimum_nights + 1.5 * IQR_minimum_nights\n",
        "inf_minimum_nights = q1_minimum_nights - 1.5 * IQR_minimum_nights\n",
        "\n",
        "print('Limite superior de minimum_nights: ', sup_minimum_nights)\n",
        "print('Limite inferior de minimum_nights: ', inf_minimum_nights)"
      ],
      "metadata": {
        "colab": {
          "base_uri": "https://localhost:8080/"
        },
        "id": "FqInHLl81Wao",
        "outputId": "b9ba682e-7daf-4193-a2b8-ec6ee1dfa590"
      },
      "id": "FqInHLl81Wao",
      "execution_count": null,
      "outputs": [
        {
          "output_type": "stream",
          "name": "stdout",
          "text": [
            "IQR da variável minimum_nights:  4.0\n",
            "Limite superior de minimum_nights:  11.0\n",
            "Limite inferior de minimum_nights:  -5.0\n"
          ]
        }
      ]
    },
    {
      "cell_type": "code",
      "source": [
        "# verificando o conjunto original\n",
        "fig, ax = plt.subplots(figsize=(15,3))\n",
        "df[\"minimum_nights\"].plot(kind='box', vert=False);\n",
        "ax.set_title('Dataset Original - minimum_nights')\n",
        "plt.show()\n",
        "print(\"O dataset possui {} colunas\".format(df.shape[0]))\n",
        "print(\"{} Entradas acima de 11.0\".format(len(df[df[\"minimum_nights\"] > 11.0])))\n",
        "print(\"Representam {:.2f}% do dataset\".format((len(df[df[\"minimum_nights\"] > 11.0]) / df.shape[0])*100))"
      ],
      "metadata": {
        "colab": {
          "base_uri": "https://localhost:8080/",
          "height": 279
        },
        "id": "MGVH1ygp1lEv",
        "outputId": "e1cc53ac-17ed-49bb-d245-81b5584f9647"
      },
      "id": "MGVH1ygp1lEv",
      "execution_count": null,
      "outputs": [
        {
          "output_type": "display_data",
          "data": {
            "text/plain": [
              "<Figure size 1080x216 with 1 Axes>"
            ],
            "image/png": "[encoded data removed]"
          },
          "metadata": {
            "needs_background": "light"
          }
        },
        {
          "output_type": "stream",
          "name": "stdout",
          "text": [
            "O dataset possui 48895 colunas\n",
            "6607 Entradas acima de 11.0\n",
            "Representam 13.51% do dataset\n"
          ]
        }
      ]
    },
    {
      "cell_type": "code",
      "source": [
        "#Limpando o Dataset\n",
        "df_clean = df.copy()\n",
        "\n",
        "df_clean.drop(df_clean[df_clean[\"price\"] > 334].index, axis=0, inplace=True)\n",
        "df_clean.drop(df_clean[df_clean[\"price\"] == 0.0].index, axis=0, inplace=True)\n",
        "df_clean.drop(df_clean[df_clean[\"Preço em R$\"] > 1686.70].index, axis=0, inplace=True)\n",
        "df_clean.drop(df_clean[df_clean[\"Preço em R$\"] == 0.0].index, axis=0, inplace=True)\n",
        "df_clean.drop(df_clean[df_clean[\"minimum_nights\"] > 11].index, axis=0, inplace=True)\n",
        "\n",
        "print('Shape antes da limpeza: ', df.shape)\n",
        "print('Shape após a limpeza: ',df_clean.shape)\n"
      ],
      "metadata": {
        "colab": {
          "base_uri": "https://localhost:8080/"
        },
        "id": "9-7nsSIa2Zsa",
        "outputId": "19f99e89-6cef-4b5d-ccab-f6590787a6b0"
      },
      "id": "9-7nsSIa2Zsa",
      "execution_count": null,
      "outputs": [
        {
          "output_type": "stream",
          "name": "stdout",
          "text": [
            "Shape antes da limpeza:  (48895, 17)\n",
            "Shape após a limpeza:  (39729, 17)\n"
          ]
        }
      ]
    },
    {
      "cell_type": "code",
      "source": [
        "# plotando novamente o boxplot original\n",
        "fig, ax = plt.subplots(figsize=(15,3))\n",
        "df['price'].plot(kind='box', vert=False);\n",
        "ax.set_title('Dataset Original - price')\n",
        "plt.show()\n",
        "print(\"O dataset possui {} colunas\".format(df.shape[0]))\n",
        "print(\"{} Entradas acima de 334\".format(len(df[df['price'] > 334])))\n",
        "print(\"Representam {:.2f}% do dataset\".format((len(df[df['price'] > 334]) / df.shape[0])*100))"
      ],
      "metadata": {
        "colab": {
          "base_uri": "https://localhost:8080/",
          "height": 279
        },
        "id": "13IQz0yc4eDD",
        "outputId": "ddeb7783-eb99-4aed-bac9-c7eaeb2e4c3e"
      },
      "id": "13IQz0yc4eDD",
      "execution_count": null,
      "outputs": [
        {
          "output_type": "display_data",
          "data": {
            "text/plain": [
              "<Figure size 1080x216 with 1 Axes>"
            ],
            "image/png": "[encoded data removed]"
          },
          "metadata": {
            "needs_background": "light"
          }
        },
        {
          "output_type": "stream",
          "name": "stdout",
          "text": [
            "O dataset possui 48895 colunas\n",
            "2972 Entradas acima de 334\n",
            "Representam 6.08% do dataset\n"
          ]
        }
      ]
    },
    {
      "cell_type": "code",
      "source": [
        "#Agora verificando o conjunto limpo\n",
        "fig, ax = plt.subplots(figsize=(15,3))\n",
        "df_clean[\"price\"].plot(kind='box', vert=False);\n",
        "ax.set_title('Dataset Limpo - price')\n",
        "plt.show()\n",
        "print(\"Tamanho original: {} colunas\".format(df.shape[0]))\n",
        "print(\"Tamanho atual: {} colunas\".format(df.shape[0]))"
      ],
      "metadata": {
        "colab": {
          "base_uri": "https://localhost:8080/",
          "height": 262
        },
        "id": "NM8EDIju4pTf",
        "outputId": "f655a594-13bc-4e38-dc83-ced03822a2ef"
      },
      "id": "NM8EDIju4pTf",
      "execution_count": null,
      "outputs": [
        {
          "output_type": "display_data",
          "data": {
            "text/plain": [
              "<Figure size 1080x216 with 1 Axes>"
            ],
            "image/png": "[encoded data removed]"
          },
          "metadata": {
            "needs_background": "light"
          }
        },
        {
          "output_type": "stream",
          "name": "stdout",
          "text": [
            "Tamanho original: 48895 colunas\n",
            "Tamanho atual: 48895 colunas\n"
          ]
        }
      ]
    },
    {
      "cell_type": "markdown",
      "source": [
        "Aqui podemos ver o resultado da limpeza.\n",
        "\n",
        "O boxplot ainda mostra alguns valores outliers, entretanto nós fizemos a remoção no que era permitido, seguindo a regra do IQR Score.\n",
        "\n",
        "Para garantirmos que não estamos lidando com valores discrepantes que podem prejudicar nossa análise, iremos checar os histogramas novamente."
      ],
      "metadata": {
        "id": "5t6iNTYc5AHf"
      },
      "id": "5t6iNTYc5AHf"
    },
    {
      "cell_type": "code",
      "source": [
        "df_clean.describe()"
      ],
      "metadata": {
        "colab": {
          "base_uri": "https://localhost:8080/",
          "height": 364
        },
        "id": "2uHHITch6KWr",
        "outputId": "a7c46ac2-1b8a-4b4d-924a-01b08c080463"
      },
      "id": "2uHHITch6KWr",
      "execution_count": null,
      "outputs": [
        {
          "output_type": "execute_result",
          "data": {
            "text/plain": [
              "                 id       host_id      latitude     longitude         price  \\\n",
              "count  3.972900e+04  3.972900e+04  39729.000000  39729.000000  39729.000000   \n",
              "mean   1.883311e+07  6.622030e+07     40.727576    -73.949150    119.028216   \n",
              "std    1.084448e+07  7.750717e+07      0.056295      0.047711     67.167992   \n",
              "min    2.539000e+03  2.571000e+03     40.499790    -74.244420     10.000000   \n",
              "25%    9.414521e+06  7.824337e+06     40.688080    -73.981050     65.000000   \n",
              "50%    1.947195e+07  3.073664e+07     40.720080    -73.953320    100.000000   \n",
              "75%    2.861471e+07  1.036283e+08     40.763270    -73.932190    155.000000   \n",
              "max    3.648724e+07  2.743213e+08     40.913060    -73.712990    334.000000   \n",
              "\n",
              "       minimum_nights  number_of_reviews  reviews_per_month  \\\n",
              "count    39729.000000       39729.000000       33029.000000   \n",
              "mean         2.696242          26.374210           1.481883   \n",
              "std          1.863632          47.475556           1.743099   \n",
              "min          1.000000           0.000000           0.010000   \n",
              "25%          1.000000           1.000000           0.210000   \n",
              "50%          2.000000           7.000000           0.850000   \n",
              "75%          3.000000          29.000000           2.230000   \n",
              "max         11.000000         629.000000          58.500000   \n",
              "\n",
              "       calculated_host_listings_count  availability_365   Preço em R$  \n",
              "count                    39729.000000      39729.000000  39729.000000  \n",
              "mean                         3.072869         97.170253    601.092492  \n",
              "std                         19.746075        124.372854    339.198358  \n",
              "min                          1.000000          0.000000     50.500000  \n",
              "25%                          1.000000          0.000000    328.250000  \n",
              "50%                          1.000000         25.000000    505.000000  \n",
              "75%                          2.000000        179.000000    782.750000  \n",
              "max                        327.000000        365.000000   1686.700000  "
            ],
            "text/html": [
              "\n",
              "  <div id=\"df-b763f9a8-fa2c-4bf5-a6e2-81b840d7a6fa\">\n",
              "    <div class=\"colab-df-container\">\n",
              "      <div>\n",
              "<style scoped>\n",
              "    .dataframe tbody tr th:only-of-type {\n",
              "        vertical-align: middle;\n",
              "    }\n",
              "\n",
              "    .dataframe tbody tr th {\n",
              "        vertical-align: top;\n",
              "    }\n",
              "\n",
              "    .dataframe thead th {\n",
              "        text-align: right;\n",
              "    }\n",
              "</style>\n",
              "<table border=\"1\" class=\"dataframe\">\n",
              "  <thead>\n",
              "    <tr style=\"text-align: right;\">\n",
              "      <th></th>\n",
              "      <th>id</th>\n",
              "      <th>host_id</th>\n",
              "      <th>latitude</th>\n",
              "      <th>longitude</th>\n",
              "      <th>price</th>\n",
              "      <th>minimum_nights</th>\n",
              "      <th>number_of_reviews</th>\n",
              "      <th>reviews_per_month</th>\n",
              "      <th>calculated_host_listings_count</th>\n",
              "      <th>availability_365</th>\n",
              "      <th>Preço em R$</th>\n",
              "    </tr>\n",
              "  </thead>\n",
              "  <tbody>\n",
              "    <tr>\n",
              "      <th>count</th>\n",
              "      <td>3.972900e+04</td>\n",
              "      <td>3.972900e+04</td>\n",
              "      <td>39729.000000</td>\n",
              "      <td>39729.000000</td>\n",
              "      <td>39729.000000</td>\n",
              "      <td>39729.000000</td>\n",
              "      <td>39729.000000</td>\n",
              "      <td>33029.000000</td>\n",
              "      <td>39729.000000</td>\n",
              "      <td>39729.000000</td>\n",
              "      <td>39729.000000</td>\n",
              "    </tr>\n",
              "    <tr>\n",
              "      <th>mean</th>\n",
              "      <td>1.883311e+07</td>\n",
              "      <td>6.622030e+07</td>\n",
              "      <td>40.727576</td>\n",
              "      <td>-73.949150</td>\n",
              "      <td>119.028216</td>\n",
              "      <td>2.696242</td>\n",
              "      <td>26.374210</td>\n",
              "      <td>1.481883</td>\n",
              "      <td>3.072869</td>\n",
              "      <td>97.170253</td>\n",
              "      <td>601.092492</td>\n",
              "    </tr>\n",
              "    <tr>\n",
              "      <th>std</th>\n",
              "      <td>1.084448e+07</td>\n",
              "      <td>7.750717e+07</td>\n",
              "      <td>0.056295</td>\n",
              "      <td>0.047711</td>\n",
              "      <td>67.167992</td>\n",
              "      <td>1.863632</td>\n",
              "      <td>47.475556</td>\n",
              "      <td>1.743099</td>\n",
              "      <td>19.746075</td>\n",
              "      <td>124.372854</td>\n",
              "      <td>339.198358</td>\n",
              "    </tr>\n",
              "    <tr>\n",
              "      <th>min</th>\n",
              "      <td>2.539000e+03</td>\n",
              "      <td>2.571000e+03</td>\n",
              "      <td>40.499790</td>\n",
              "      <td>-74.244420</td>\n",
              "      <td>10.000000</td>\n",
              "      <td>1.000000</td>\n",
              "      <td>0.000000</td>\n",
              "      <td>0.010000</td>\n",
              "      <td>1.000000</td>\n",
              "      <td>0.000000</td>\n",
              "      <td>50.500000</td>\n",
              "    </tr>\n",
              "    <tr>\n",
              "      <th>25%</th>\n",
              "      <td>9.414521e+06</td>\n",
              "      <td>7.824337e+06</td>\n",
              "      <td>40.688080</td>\n",
              "      <td>-73.981050</td>\n",
              "      <td>65.000000</td>\n",
              "      <td>1.000000</td>\n",
              "      <td>1.000000</td>\n",
              "      <td>0.210000</td>\n",
              "      <td>1.000000</td>\n",
              "      <td>0.000000</td>\n",
              "      <td>328.250000</td>\n",
              "    </tr>\n",
              "    <tr>\n",
              "      <th>50%</th>\n",
              "      <td>1.947195e+07</td>\n",
              "      <td>3.073664e+07</td>\n",
              "      <td>40.720080</td>\n",
              "      <td>-73.953320</td>\n",
              "      <td>100.000000</td>\n",
              "      <td>2.000000</td>\n",
              "      <td>7.000000</td>\n",
              "      <td>0.850000</td>\n",
              "      <td>1.000000</td>\n",
              "      <td>25.000000</td>\n",
              "      <td>505.000000</td>\n",
              "    </tr>\n",
              "    <tr>\n",
              "      <th>75%</th>\n",
              "      <td>2.861471e+07</td>\n",
              "      <td>1.036283e+08</td>\n",
              "      <td>40.763270</td>\n",
              "      <td>-73.932190</td>\n",
              "      <td>155.000000</td>\n",
              "      <td>3.000000</td>\n",
              "      <td>29.000000</td>\n",
              "      <td>2.230000</td>\n",
              "      <td>2.000000</td>\n",
              "      <td>179.000000</td>\n",
              "      <td>782.750000</td>\n",
              "    </tr>\n",
              "    <tr>\n",
              "      <th>max</th>\n",
              "      <td>3.648724e+07</td>\n",
              "      <td>2.743213e+08</td>\n",
              "      <td>40.913060</td>\n",
              "      <td>-73.712990</td>\n",
              "      <td>334.000000</td>\n",
              "      <td>11.000000</td>\n",
              "      <td>629.000000</td>\n",
              "      <td>58.500000</td>\n",
              "      <td>327.000000</td>\n",
              "      <td>365.000000</td>\n",
              "      <td>1686.700000</td>\n",
              "    </tr>\n",
              "  </tbody>\n",
              "</table>\n",
              "</div>\n",
              "      <button class=\"colab-df-convert\" onclick=\"convertToInteractive('df-b763f9a8-fa2c-4bf5-a6e2-81b840d7a6fa')\"\n",
              "              title=\"Convert this dataframe to an interactive table.\"\n",
              "              style=\"display:none;\">\n",
              "        \n",
              "  <svg xmlns=\"http://www.w3.org/2000/svg\" height=\"24px\"viewBox=\"0 0 24 24\"\n",
              "       width=\"24px\">\n",
              "    <path d=\"M0 0h24v24H0V0z\" fill=\"none\"/>\n",
              "    <path d=\"M18.56 5.44l.94 2.06.94-2.06 2.06-.94-2.06-.94-.94-2.06-.94 2.06-2.06.94zm-11 1L8.5 8.5l.94-2.06 2.06-.94-2.06-.94L8.5 2.5l-.94 2.06-2.06.94zm10 10l.94 2.06.94-2.06 2.06-.94-2.06-.94-.94-2.06-.94 2.06-2.06.94z\"/><path d=\"M17.41 7.96l-1.37-1.37c-.4-.4-.92-.59-1.43-.59-.52 0-1.04.2-1.43.59L10.3 9.45l-7.72 7.72c-.78.78-.78 2.05 0 2.83L4 21.41c.39.39.9.59 1.41.59.51 0 1.02-.2 1.41-.59l7.78-7.78 2.81-2.81c.8-.78.8-2.07 0-2.86zM5.41 20L4 18.59l7.72-7.72 1.47 1.35L5.41 20z\"/>\n",
              "  </svg>\n",
              "      </button>\n",
              "      \n",
              "  <style>\n",
              "    .colab-df-container {\n",
              "      display:flex;\n",
              "      flex-wrap:wrap;\n",
              "      gap: 12px;\n",
              "    }\n",
              "\n",
              "    .colab-df-convert {\n",
              "      background-color: #E8F0FE;\n",
              "      border: none;\n",
              "      border-radius: 50%;\n",
              "      cursor: pointer;\n",
              "      display: none;\n",
              "      fill: #1967D2;\n",
              "      height: 32px;\n",
              "      padding: 0 0 0 0;\n",
              "      width: 32px;\n",
              "    }\n",
              "\n",
              "    .colab-df-convert:hover {\n",
              "      background-color: #E2EBFA;\n",
              "      box-shadow: 0px 1px 2px rgba(60, 64, 67, 0.3), 0px 1px 3px 1px rgba(60, 64, 67, 0.15);\n",
              "      fill: #174EA6;\n",
              "    }\n",
              "\n",
              "    [theme=dark] .colab-df-convert {\n",
              "      background-color: #3B4455;\n",
              "      fill: #D2E3FC;\n",
              "    }\n",
              "\n",
              "    [theme=dark] .colab-df-convert:hover {\n",
              "      background-color: #434B5C;\n",
              "      box-shadow: 0px 1px 3px 1px rgba(0, 0, 0, 0.15);\n",
              "      filter: drop-shadow(0px 1px 2px rgba(0, 0, 0, 0.3));\n",
              "      fill: #FFFFFF;\n",
              "    }\n",
              "  </style>\n",
              "\n",
              "      <script>\n",
              "        const buttonEl =\n",
              "          document.querySelector('#df-b763f9a8-fa2c-4bf5-a6e2-81b840d7a6fa button.colab-df-convert');\n",
              "        buttonEl.style.display =\n",
              "          google.colab.kernel.accessAllowed ? 'block' : 'none';\n",
              "\n",
              "        async function convertToInteractive(key) {\n",
              "          const element = document.querySelector('#df-b763f9a8-fa2c-4bf5-a6e2-81b840d7a6fa');\n",
              "          const dataTable =\n",
              "            await google.colab.kernel.invokeFunction('convertToInteractive',\n",
              "                                                     [key], {});\n",
              "          if (!dataTable) return;\n",
              "\n",
              "          const docLinkHtml = 'Like what you see? Visit the ' +\n",
              "            '<a target=\"_blank\" href=https://colab.research.google.com/notebooks/data_table.ipynb>data table notebook</a>'\n",
              "            + ' to learn more about interactive tables.';\n",
              "          element.innerHTML = '';\n",
              "          dataTable['output_type'] = 'display_data';\n",
              "          await google.colab.output.renderOutput(dataTable, element);\n",
              "          const docLink = document.createElement('div');\n",
              "          docLink.innerHTML = docLinkHtml;\n",
              "          element.appendChild(docLink);\n",
              "        }\n",
              "      </script>\n",
              "    </div>\n",
              "  </div>\n",
              "  "
            ]
          },
          "metadata": {},
          "execution_count": 50
        }
      ]
    },
    {
      "cell_type": "code",
      "source": [
        "df_clean.hist(figsize=(15,12), color='royalblue')\n",
        "plt.show()"
      ],
      "metadata": {
        "colab": {
          "base_uri": "https://localhost:8080/",
          "height": 716
        },
        "id": "4Hmp7mZ95bRS",
        "outputId": "e3c2a2b2-1bc4-48be-ec5d-a44b788b8d6a"
      },
      "id": "4Hmp7mZ95bRS",
      "execution_count": null,
      "outputs": [
        {
          "output_type": "display_data",
          "data": {
            "text/plain": [
              "<Figure size 1080x864 with 12 Axes>"
            ],
            "image/png": "[encoded data removed]"
          },
          "metadata": {
            "needs_background": "light"
          }
        }
      ]
    },
    {
      "cell_type": "markdown",
      "source": [
        "Após visualizar essa novo distruição dos dados, chegamos a algumas conclusões:\n",
        "\n",
        "* A mediana dos preços não foi tão afetada\n",
        "* A médias dos preços foram reduzidas drasticamente\n",
        "* Respeitamos as regras do IQR"
      ],
      "metadata": {
        "id": "EFW2Yydu5uTC"
      },
      "id": "EFW2Yydu5uTC"
    },
    {
      "cell_type": "markdown",
      "source": [
        "### **Q4. Existe alguma correlação entre as variáveis?**"
      ],
      "metadata": {
        "id": "flpl5BkgOTcd"
      },
      "id": "flpl5BkgOTcd"
    },
    {
      "cell_type": "markdown",
      "source": [
        "Atravéz da correlação podemos descobrir se há algum ligamento ou relação entre duas ou mais variáveis. Essa relação pode ser medida, e é função do coeficiente de correlação estabelecer qual a intensidade dela.\n",
        "\n",
        "Para identificar as correlações existentes, vou:\n",
        "* Criar uma matriz de correlação\n",
        "* Gerar um *mapa de calor* utilizando a matriz\n",
        "\n"
      ],
      "metadata": {
        "id": "Z1LW_KA4Opmu"
      },
      "id": "Z1LW_KA4Opmu"
    },
    {
      "cell_type": "code",
      "source": [
        "#Criando a matriz\n",
        "corr = df_clean[['price', 'Preço em R$' ,'minimum_nights', 'number_of_reviews', 'reviews_per_month', \n",
        "                 'calculated_host_listings_count', 'availability_365']].corr()\n",
        "corr"
      ],
      "metadata": {
        "colab": {
          "base_uri": "https://localhost:8080/",
          "height": 269
        },
        "id": "3O7-bv7lPkLC",
        "outputId": "e24340f3-eed1-4911-da3b-77be63d327ea"
      },
      "id": "3O7-bv7lPkLC",
      "execution_count": null,
      "outputs": [
        {
          "output_type": "execute_result",
          "data": {
            "text/plain": [
              "                                   price  Preço em R$  minimum_nights  \\\n",
              "price                           1.000000     1.000000        0.055353   \n",
              "Preço em R$                     1.000000     1.000000        0.055353   \n",
              "minimum_nights                  0.055353     0.055353        1.000000   \n",
              "number_of_reviews              -0.055579    -0.055579       -0.149157   \n",
              "reviews_per_month              -0.028224    -0.028224       -0.217262   \n",
              "calculated_host_listings_count  0.152311     0.152311        0.332440   \n",
              "availability_365                0.109050     0.109050        0.242785   \n",
              "\n",
              "                                number_of_reviews  reviews_per_month  \\\n",
              "price                                   -0.055579          -0.028224   \n",
              "Preço em R$                             -0.055579          -0.028224   \n",
              "minimum_nights                          -0.149157          -0.217262   \n",
              "number_of_reviews                        1.000000           0.549333   \n",
              "reviews_per_month                        0.549333           1.000000   \n",
              "calculated_host_listings_count          -0.072980          -0.009428   \n",
              "availability_365                         0.180028           0.193048   \n",
              "\n",
              "                                calculated_host_listings_count  \\\n",
              "price                                                 0.152311   \n",
              "Preço em R$                                           0.152311   \n",
              "minimum_nights                                        0.332440   \n",
              "number_of_reviews                                    -0.072980   \n",
              "reviews_per_month                                    -0.009428   \n",
              "calculated_host_listings_count                        1.000000   \n",
              "availability_365                                      0.229863   \n",
              "\n",
              "                                availability_365  \n",
              "price                                   0.109050  \n",
              "Preço em R$                             0.109050  \n",
              "minimum_nights                          0.242785  \n",
              "number_of_reviews                       0.180028  \n",
              "reviews_per_month                       0.193048  \n",
              "calculated_host_listings_count          0.229863  \n",
              "availability_365                        1.000000  "
            ],
            "text/html": [
              "\n",
              "  <div id=\"df-519d71f6-087c-4d65-92d1-f0b67da73d88\">\n",
              "    <div class=\"colab-df-container\">\n",
              "      <div>\n",
              "<style scoped>\n",
              "    .dataframe tbody tr th:only-of-type {\n",
              "        vertical-align: middle;\n",
              "    }\n",
              "\n",
              "    .dataframe tbody tr th {\n",
              "        vertical-align: top;\n",
              "    }\n",
              "\n",
              "    .dataframe thead th {\n",
              "        text-align: right;\n",
              "    }\n",
              "</style>\n",
              "<table border=\"1\" class=\"dataframe\">\n",
              "  <thead>\n",
              "    <tr style=\"text-align: right;\">\n",
              "      <th></th>\n",
              "      <th>price</th>\n",
              "      <th>Preço em R$</th>\n",
              "      <th>minimum_nights</th>\n",
              "      <th>number_of_reviews</th>\n",
              "      <th>reviews_per_month</th>\n",
              "      <th>calculated_host_listings_count</th>\n",
              "      <th>availability_365</th>\n",
              "    </tr>\n",
              "  </thead>\n",
              "  <tbody>\n",
              "    <tr>\n",
              "      <th>price</th>\n",
              "      <td>1.000000</td>\n",
              "      <td>1.000000</td>\n",
              "      <td>0.055353</td>\n",
              "      <td>-0.055579</td>\n",
              "      <td>-0.028224</td>\n",
              "      <td>0.152311</td>\n",
              "      <td>0.109050</td>\n",
              "    </tr>\n",
              "    <tr>\n",
              "      <th>Preço em R$</th>\n",
              "      <td>1.000000</td>\n",
              "      <td>1.000000</td>\n",
              "      <td>0.055353</td>\n",
              "      <td>-0.055579</td>\n",
              "      <td>-0.028224</td>\n",
              "      <td>0.152311</td>\n",
              "      <td>0.109050</td>\n",
              "    </tr>\n",
              "    <tr>\n",
              "      <th>minimum_nights</th>\n",
              "      <td>0.055353</td>\n",
              "      <td>0.055353</td>\n",
              "      <td>1.000000</td>\n",
              "      <td>-0.149157</td>\n",
              "      <td>-0.217262</td>\n",
              "      <td>0.332440</td>\n",
              "      <td>0.242785</td>\n",
              "    </tr>\n",
              "    <tr>\n",
              "      <th>number_of_reviews</th>\n",
              "      <td>-0.055579</td>\n",
              "      <td>-0.055579</td>\n",
              "      <td>-0.149157</td>\n",
              "      <td>1.000000</td>\n",
              "      <td>0.549333</td>\n",
              "      <td>-0.072980</td>\n",
              "      <td>0.180028</td>\n",
              "    </tr>\n",
              "    <tr>\n",
              "      <th>reviews_per_month</th>\n",
              "      <td>-0.028224</td>\n",
              "      <td>-0.028224</td>\n",
              "      <td>-0.217262</td>\n",
              "      <td>0.549333</td>\n",
              "      <td>1.000000</td>\n",
              "      <td>-0.009428</td>\n",
              "      <td>0.193048</td>\n",
              "    </tr>\n",
              "    <tr>\n",
              "      <th>calculated_host_listings_count</th>\n",
              "      <td>0.152311</td>\n",
              "      <td>0.152311</td>\n",
              "      <td>0.332440</td>\n",
              "      <td>-0.072980</td>\n",
              "      <td>-0.009428</td>\n",
              "      <td>1.000000</td>\n",
              "      <td>0.229863</td>\n",
              "    </tr>\n",
              "    <tr>\n",
              "      <th>availability_365</th>\n",
              "      <td>0.109050</td>\n",
              "      <td>0.109050</td>\n",
              "      <td>0.242785</td>\n",
              "      <td>0.180028</td>\n",
              "      <td>0.193048</td>\n",
              "      <td>0.229863</td>\n",
              "      <td>1.000000</td>\n",
              "    </tr>\n",
              "  </tbody>\n",
              "</table>\n",
              "</div>\n",
              "      <button class=\"colab-df-convert\" onclick=\"convertToInteractive('df-519d71f6-087c-4d65-92d1-f0b67da73d88')\"\n",
              "              title=\"Convert this dataframe to an interactive table.\"\n",
              "              style=\"display:none;\">\n",
              "        \n",
              "  <svg xmlns=\"http://www.w3.org/2000/svg\" height=\"24px\"viewBox=\"0 0 24 24\"\n",
              "       width=\"24px\">\n",
              "    <path d=\"M0 0h24v24H0V0z\" fill=\"none\"/>\n",
              "    <path d=\"M18.56 5.44l.94 2.06.94-2.06 2.06-.94-2.06-.94-.94-2.06-.94 2.06-2.06.94zm-11 1L8.5 8.5l.94-2.06 2.06-.94-2.06-.94L8.5 2.5l-.94 2.06-2.06.94zm10 10l.94 2.06.94-2.06 2.06-.94-2.06-.94-.94-2.06-.94 2.06-2.06.94z\"/><path d=\"M17.41 7.96l-1.37-1.37c-.4-.4-.92-.59-1.43-.59-.52 0-1.04.2-1.43.59L10.3 9.45l-7.72 7.72c-.78.78-.78 2.05 0 2.83L4 21.41c.39.39.9.59 1.41.59.51 0 1.02-.2 1.41-.59l7.78-7.78 2.81-2.81c.8-.78.8-2.07 0-2.86zM5.41 20L4 18.59l7.72-7.72 1.47 1.35L5.41 20z\"/>\n",
              "  </svg>\n",
              "      </button>\n",
              "      \n",
              "  <style>\n",
              "    .colab-df-container {\n",
              "      display:flex;\n",
              "      flex-wrap:wrap;\n",
              "      gap: 12px;\n",
              "    }\n",
              "\n",
              "    .colab-df-convert {\n",
              "      background-color: #E8F0FE;\n",
              "      border: none;\n",
              "      border-radius: 50%;\n",
              "      cursor: pointer;\n",
              "      display: none;\n",
              "      fill: #1967D2;\n",
              "      height: 32px;\n",
              "      padding: 0 0 0 0;\n",
              "      width: 32px;\n",
              "    }\n",
              "\n",
              "    .colab-df-convert:hover {\n",
              "      background-color: #E2EBFA;\n",
              "      box-shadow: 0px 1px 2px rgba(60, 64, 67, 0.3), 0px 1px 3px 1px rgba(60, 64, 67, 0.15);\n",
              "      fill: #174EA6;\n",
              "    }\n",
              "\n",
              "    [theme=dark] .colab-df-convert {\n",
              "      background-color: #3B4455;\n",
              "      fill: #D2E3FC;\n",
              "    }\n",
              "\n",
              "    [theme=dark] .colab-df-convert:hover {\n",
              "      background-color: #434B5C;\n",
              "      box-shadow: 0px 1px 3px 1px rgba(0, 0, 0, 0.15);\n",
              "      filter: drop-shadow(0px 1px 2px rgba(0, 0, 0, 0.3));\n",
              "      fill: #FFFFFF;\n",
              "    }\n",
              "  </style>\n",
              "\n",
              "      <script>\n",
              "        const buttonEl =\n",
              "          document.querySelector('#df-519d71f6-087c-4d65-92d1-f0b67da73d88 button.colab-df-convert');\n",
              "        buttonEl.style.display =\n",
              "          google.colab.kernel.accessAllowed ? 'block' : 'none';\n",
              "\n",
              "        async function convertToInteractive(key) {\n",
              "          const element = document.querySelector('#df-519d71f6-087c-4d65-92d1-f0b67da73d88');\n",
              "          const dataTable =\n",
              "            await google.colab.kernel.invokeFunction('convertToInteractive',\n",
              "                                                     [key], {});\n",
              "          if (!dataTable) return;\n",
              "\n",
              "          const docLinkHtml = 'Like what you see? Visit the ' +\n",
              "            '<a target=\"_blank\" href=https://colab.research.google.com/notebooks/data_table.ipynb>data table notebook</a>'\n",
              "            + ' to learn more about interactive tables.';\n",
              "          element.innerHTML = '';\n",
              "          dataTable['output_type'] = 'display_data';\n",
              "          await google.colab.output.renderOutput(dataTable, element);\n",
              "          const docLink = document.createElement('div');\n",
              "          docLink.innerHTML = docLinkHtml;\n",
              "          element.appendChild(docLink);\n",
              "        }\n",
              "      </script>\n",
              "    </div>\n",
              "  </div>\n",
              "  "
            ]
          },
          "metadata": {},
          "execution_count": 16
        }
      ]
    },
    {
      "cell_type": "code",
      "source": [
        "sns.heatmap(corr, cmap='YlOrBr', fmt='.2f', square=True, linecolor='white', annot=True)"
      ],
      "metadata": {
        "colab": {
          "base_uri": "https://localhost:8080/",
          "height": 428
        },
        "id": "EpL2OeOpQd0y",
        "outputId": "1f135ba7-454a-4075-9870-94a4c9cf4687"
      },
      "id": "EpL2OeOpQd0y",
      "execution_count": null,
      "outputs": [
        {
          "output_type": "execute_result",
          "data": {
            "text/plain": [
              "<matplotlib.axes._subplots.AxesSubplot at 0x7f962f672fa0>"
            ]
          },
          "metadata": {},
          "execution_count": 17
        },
        {
          "output_type": "display_data",
          "data": {
            "text/plain": [
              "<Figure size 432x288 with 2 Axes>"
            ],
            "image/png": "[encoded data removed]"
          },
          "metadata": {
            "needs_background": "light"
          }
        }
      ]
    },
    {
      "cell_type": "markdown",
      "source": [
        "* Quando olhamos para esse mapa de calor, intuitivamente já deduzimos que as cores mais fortes, tendem a ter uma correlação maior. \n",
        "* Os valores que estão mais próximos de 1, tem uma correlação maior.\n",
        "* Os que abaixo de 0.4, não possuim quase que nenhuma ligação."
      ],
      "metadata": {
        "id": "RoXXyfoyRoxs"
      },
      "id": "RoXXyfoyRoxs"
    },
    {
      "cell_type": "markdown",
      "id": "ef138880",
      "metadata": {
        "id": "ef138880"
      },
      "source": [
        "### **Q5. Algumas Perguntas Relevantes**"
      ]
    },
    {
      "cell_type": "markdown",
      "source": [
        "**As perguntas a serem feitas a seguir, são baseadas em perguntas de négocios. Direcionadas para serem retirados vários insights e conclusões que serão relevantes para a domada de decisão da companhia.**"
      ],
      "metadata": {
        "id": "UwktdPFUsq6N"
      },
      "id": "UwktdPFUsq6N"
    },
    {
      "cell_type": "markdown",
      "id": "846e4743",
      "metadata": {
        "id": "846e4743"
      },
      "source": [
        "#### **Qual o valor médio do aluguel na cidade de Nova York?**"
      ]
    },
    {
      "cell_type": "code",
      "execution_count": null,
      "id": "81d52c98",
      "metadata": {
        "colab": {
          "base_uri": "https://localhost:8080/"
        },
        "id": "81d52c98",
        "outputId": "89eb5b6f-9648-4029-ac17-1e31bcd9aa7c"
      },
      "outputs": [
        {
          "output_type": "stream",
          "name": "stdout",
          "text": [
            "Média em R$: 692.83\n",
            "Média em US$: 137.19\n"
          ]
        }
      ],
      "source": [
        "#Fazer a média dos preços\n",
        "print('Média em R$: {:.2f}'.format(df_clean['Preço em R$'].mean()))\n",
        "print('Média em US$: {:.2f}'.format(df_clean['price'].mean()))"
      ]
    },
    {
      "cell_type": "markdown",
      "id": "6ffec83c",
      "metadata": {
        "id": "6ffec83c"
      },
      "source": [
        "* A média dos preço do aluguel diário na cidade de Nova York é de 137.19 dolares, que é equivalente a aproximadamente 692.83 reais\n",
        "\n",
        "\n",
        "#### **Quais os nomes das regiões que existem na cidade de Nova York?**"
      ]
    },
    {
      "cell_type": "code",
      "execution_count": null,
      "id": "3a805116",
      "metadata": {
        "colab": {
          "base_uri": "https://localhost:8080/"
        },
        "id": "3a805116",
        "outputId": "2d98c85e-dc16-4faa-f592-1702ba767db9"
      },
      "outputs": [
        {
          "output_type": "stream",
          "name": "stdout",
          "text": [
            "As regiõs em Nova York são:\n",
            "Brooklyn\n",
            "Manhattan\n",
            "Queens\n",
            "Staten Island\n",
            "Bronx\n"
          ]
        }
      ],
      "source": [
        "#Vamos ver o nome das regiões únicas da coluna \"neighbourhood_group\"\n",
        "unicos = df_clean['neighbourhood_group'].unique()\n",
        "print('As regiõs em Nova York são:')\n",
        "\n",
        "for regiao in unicos:\n",
        "    print(regiao)"
      ]
    },
    {
      "cell_type": "markdown",
      "id": "a73ebaca",
      "metadata": {
        "id": "a73ebaca"
      },
      "source": [
        "#### **Qual o valor do aluguel diário mais caro da cidade de Nova York?**"
      ]
    },
    {
      "cell_type": "code",
      "execution_count": null,
      "id": "57a6a056",
      "metadata": {
        "colab": {
          "base_uri": "https://localhost:8080/"
        },
        "id": "57a6a056",
        "outputId": "7f54cba2-d7e0-4816-ae1b-ec4665a86317"
      },
      "outputs": [
        {
          "output_type": "stream",
          "name": "stdout",
          "text": [
            "Mais caro em Dolar: 790\n",
            "Mais caro em Reais: 3989.50\n"
          ]
        }
      ],
      "source": [
        "#Ver o valor máximo do aluguel diário em Dolar e em Reais\n",
        "print('Mais caro em Dolar: {}'.format(df_clean['price'].max()))\n",
        "print('Mais caro em Reais: {:.2f}'.format(df_clean['Preço em R$'].max()))"
      ]
    },
    {
      "cell_type": "markdown",
      "id": "65ddeff4",
      "metadata": {
        "id": "65ddeff4"
      },
      "source": [
        "#### **Quais são as categorias de imóveis que estão cadastradas dentro da base de dados da cidade de Nova York?**\n"
      ]
    },
    {
      "cell_type": "code",
      "execution_count": null,
      "id": "87c884a2",
      "metadata": {
        "colab": {
          "base_uri": "https://localhost:8080/"
        },
        "id": "87c884a2",
        "outputId": "5e03b02f-5f78-4c5e-9b01-3620b0eb44fb"
      },
      "outputs": [
        {
          "output_type": "stream",
          "name": "stdout",
          "text": [
            "Os tipos de locações que existem são: \n",
            "Private room\n",
            "Entire home/apt\n",
            "Shared room\n"
          ]
        }
      ],
      "source": [
        "#Para respondermos essa pergunta, vamos utilizar a coluna 'room_type'\n",
        "unico = df_clean['room_type'].unique()\n",
        "print('Os tipos de locações que existem são: ')\n",
        "\n",
        "for tipo in unico:\n",
        "    print(tipo)"
      ]
    },
    {
      "cell_type": "markdown",
      "id": "0eb495b1",
      "metadata": {
        "id": "0eb495b1"
      },
      "source": [
        "Os tipos acima correspondem a: \n",
        "* `Private room` - Apenas um quarto\n",
        "* `Entire home/apt` - Apartamento inteiro\n",
        "* `Shared room` - Quarto compartilhado"
      ]
    },
    {
      "cell_type": "markdown",
      "id": "f34f7e12",
      "metadata": {
        "id": "f34f7e12"
      },
      "source": [
        "#### **Existem mais imóveis baratos ou caros?**"
      ]
    },
    {
      "cell_type": "code",
      "execution_count": null,
      "id": "b7071446",
      "metadata": {
        "colab": {
          "base_uri": "https://localhost:8080/",
          "height": 451
        },
        "id": "b7071446",
        "outputId": "a957efbd-7a06-40c4-e7af-70baf7039908"
      },
      "outputs": [
        {
          "output_type": "display_data",
          "data": {
            "text/plain": [
              "<Figure size 576x360 with 1 Axes>"
            ],
            "image/png": "[encoded data removed]"
          },
          "metadata": {
            "needs_background": "light"
          }
        }
      ],
      "source": [
        "#Vamos fazer uma vizualização para um mais fácil entendimento\n",
        "df_org = df_clean['price'].value_counts()\n",
        "\n",
        "fig = plt.figure(figsize=(8, 5))\n",
        "ax = fig.add_axes([0,0,1,1])\n",
        "\n",
        "ax.set_title('Comparação Imóveis: Baratos x Caros', fontsize=18, pad=10)\n",
        "ax.set_xlabel('Preço', fontsize=15)\n",
        "ax.set_ylabel('Quantidade', fontsize=15)\n",
        "\n",
        "ax.set_yticks([0, 50, 100, 150, 200])\n",
        "ax.set_yticklabels(['0', '50', '100', '150', '200'])\n",
        "\n",
        "ax.hist(df_org, bins=50)\n",
        "plt.show()"
      ]
    },
    {
      "cell_type": "markdown",
      "id": "c9f10bd0",
      "metadata": {
        "id": "c9f10bd0"
      },
      "source": [
        "* Apartir desse histograma, percebemos que existem mais imovéis considerados 'baratos', do que os 'caros'. Ficando a maioria entre USS 30(RS 151,50) a USS 200(RS 1010).\n",
        "\n"
      ]
    },
    {
      "cell_type": "markdown",
      "id": "c1ae8f8f",
      "metadata": {
        "id": "c1ae8f8f"
      },
      "source": [
        "#### **Qual é o valor do aluguel mais caro de cada região? E o mais barato?**"
      ]
    },
    {
      "cell_type": "code",
      "execution_count": null,
      "id": "477880d5",
      "metadata": {
        "colab": {
          "base_uri": "https://localhost:8080/"
        },
        "id": "477880d5",
        "outputId": "ca351c5d-6f06-42de-adc1-8d230906cd03"
      },
      "outputs": [
        {
          "output_type": "stream",
          "name": "stdout",
          "text": [
            "Em dolar: neighbourhood_group\n",
            "Manhattan        790\n",
            "Brooklyn         789\n",
            "Queens           750\n",
            "Staten Island    700\n",
            "Bronx            680\n",
            "Name: price, dtype: int64\n",
            "\n",
            "Em Real: neighbourhood_group\n",
            "Manhattan        3989.50\n",
            "Brooklyn         3984.45\n",
            "Queens           3787.50\n",
            "Staten Island    3535.00\n",
            "Bronx            3434.00\n",
            "Name: Preço em R$, dtype: float64\n"
          ]
        }
      ],
      "source": [
        "#Mais caro por região\n",
        "df_max = (df_clean.groupby('neighbourhood_group')['price'].max()).sort_values(ascending=False)\n",
        "df_maxr = (df_clean.groupby('neighbourhood_group')['Preço em R$'].max()).sort_values(ascending=False)\n",
        "\n",
        "print('Em dolar: {}'.format(df_max))\n",
        "print('\\nEm Real: {}'.format(df_maxr))"
      ]
    },
    {
      "cell_type": "code",
      "execution_count": null,
      "id": "c9173d46",
      "metadata": {
        "colab": {
          "base_uri": "https://localhost:8080/"
        },
        "id": "c9173d46",
        "outputId": "9cc605cd-2006-48c1-e58e-f807fea8bf81"
      },
      "outputs": [
        {
          "output_type": "stream",
          "name": "stdout",
          "text": [
            "Em dolar: neighbourhood_group\n",
            "Bronx            10\n",
            "Brooklyn         10\n",
            "Manhattan        10\n",
            "Queens           10\n",
            "Staten Island    13\n",
            "Name: price, dtype: int64\n",
            "\n",
            "Em Real: neighbourhood_group\n",
            "Bronx            50.50\n",
            "Brooklyn         50.50\n",
            "Manhattan        50.50\n",
            "Queens           50.50\n",
            "Staten Island    65.65\n",
            "Name: Preço em R$, dtype: float64\n"
          ]
        }
      ],
      "source": [
        "#Mais barato por região\n",
        "price = df_clean[df_clean['price'] > 0]\n",
        "preco = df_clean[df_clean['Preço em R$'] > 0]\n",
        "\n",
        "df_min = price.groupby('neighbourhood_group')['price'].min()\n",
        "df_minr = preco.groupby('neighbourhood_group')['Preço em R$'].min()\n",
        "\n",
        "print('Em dolar: {}'.format(df_min))\n",
        "print('\\nEm Real: {}'.format(df_minr))"
      ]
    },
    {
      "cell_type": "markdown",
      "source": [
        "* Nas duas células acima agrupei os dados pelas regiões, e a partir daí pude usar as funções para poder extrair os valores mais baratos e mais caros  de cada uma das regiões."
      ],
      "metadata": {
        "id": "Y2YyRjvaqQrl"
      },
      "id": "Y2YyRjvaqQrl"
    },
    {
      "cell_type": "markdown",
      "id": "433c22c8",
      "metadata": {
        "id": "433c22c8"
      },
      "source": [
        "#### **Qual a soma dos valores do aluguel por região? E qual o mais caro?**"
      ]
    },
    {
      "cell_type": "code",
      "execution_count": null,
      "id": "dc1c7da4",
      "metadata": {
        "colab": {
          "base_uri": "https://localhost:8080/",
          "height": 578
        },
        "id": "dc1c7da4",
        "outputId": "a217b5f6-876e-4390-c34e-d5ef0f5aa0f9"
      },
      "outputs": [
        {
          "output_type": "display_data",
          "data": {
            "text/plain": [
              "<Figure size 576x360 with 1 Axes>"
            ],
            "image/png": "[encoded data removed]"
          },
          "metadata": {
            "needs_background": "light"
          }
        },
        {
          "output_type": "stream",
          "name": "stdout",
          "text": [
            "neighbourhood_group\n",
            "Manhattan        3600252\n",
            "Brooklyn         2288252\n",
            "Queens            527844\n",
            "Bronx              90265\n",
            "Staten Island      34515\n",
            "Name: price, dtype: int64\n"
          ]
        }
      ],
      "source": [
        "#Vamos plotar um gráfico de barras para melhor vizualização\n",
        "cores = {'Manhattan': 'red',\n",
        "         'Brooklyn': 'darkorange',\n",
        "         'Queens': 'yellow',\n",
        "         'Bronx': 'lawngreen',\n",
        "         'Staten Island':'dodgerblue'}\n",
        "labels = list(cores.keys())\n",
        "\n",
        "y = (df_clean.groupby('neighbourhood_group')['price'].sum()).sort_values(ascending=False)\n",
        "\n",
        "fig = plt.figure(figsize=(8,5))\n",
        "ax = fig.add_axes([1,1,1,1])\n",
        "\n",
        "ax.bar(labels, y, color=cores.values(), alpha=0.9)\n",
        "ax.set_title('Regiões mais carass (Ordem decrescente)', fontsize=18, pad=15)\n",
        "ax.set_xlabel('Regiões', fontsize=15)\n",
        "ax.set_ylabel('Preço Em Dolar', fontsize=15)\n",
        "\n",
        "ax.set_yticks([0, 500000, 1000000, 1500000, 2000000, 2500000, 3000000])\n",
        "ax.set_yticklabels(['0', '500.000', '1.000.000', '1.500.000', '2.000.000', '2.500.000', '3.000.000'])\n",
        "\n",
        "handles = [plt.Rectangle((0,0),1,1, color=cores[label]) for label in labels]\n",
        "ax.legend(handles, labels)\n",
        "plt.show()\n",
        "\n",
        "print(y)"
      ]
    },
    {
      "cell_type": "markdown",
      "id": "17b67c95",
      "metadata": {
        "id": "17b67c95"
      },
      "source": [
        " * Observando o gráfico, chegamos a conclusão que a região mais cara de Nova York é a de Manhattan, vejamos a seguir o por que.\n",
        "\n",
        "### **Por que Manhattan é a região mais cara?**"
      ]
    },
    {
      "cell_type": "markdown",
      "id": "58fc3fef",
      "metadata": {
        "id": "58fc3fef"
      },
      "source": [
        "Considerado o coração de Nova York, Manhattan é um distrito rico, cosmopolita e efervescente, que apresenta bem o que esperar de uma viagem à chamada Big Apple, na Costa Leste dos Estados Unidos. Recebendo um total de 34,6 milhões de visitantes no ano de 2021.\n",
        "\n",
        "\n",
        "<center><img alt=\"Analisando Airbnb\" width=\"10%\" src=\"https://www.area360.com.au/wp-content/uploads/2017/09/airbnb-logo.jpg\"></center>\n",
        "\n",
        "<img src=\"https://images.alphacoders.com/102/1026379.jpg\"/>\n",
        "\n",
        "\n",
        "Manhattan possui alguns dos pontos turisticos mais movimentados do mundo, tais como: \n",
        "* `Times Square` -  É uma imensa avenida onde letreiros coloridos e outdoors chamativos disputam espaço com artistas de rua, lojas, trânsito e várias atrações incríveis, onde mais de 300 mil pessoas visitam a avenida todos os dias.\n",
        "\n",
        "\n",
        "* `Central Park` - O parque mais famoso do planeta ocupa uma área de mais de 3,4 km² no coração da cidade, como se fosse um grande oásis em meio à selva urbana.\n",
        "\n",
        "\n",
        "* `Empire State Building` - Um dos edifícios mais famosos do mundo, o Empire State Building foi construído no começo da década de 1930 e reinou absoluto sobre Nova York até meados da década de 1972, quando as Torres Gêmeas foram construídas\n",
        "\n",
        "\n",
        "* `Museus` - Os principais museus de Nova York ficam no distrito, como o Metropolitan Museum of Art (MET), o Museu de Arte Moderna (MoMa) e o Whitney Museum of Art.\n",
        "\n",
        "\n",
        "\n",
        "Devidos a essas e muitas outras atrações, que contribuem para que Manhattan se torne a região mais cara de Nova York."
      ]
    },
    {
      "cell_type": "markdown",
      "id": "5de3e2a2",
      "metadata": {
        "id": "5de3e2a2"
      },
      "source": [
        "### **Q6. Conseguimos saber onde estão localizados os imóveis com o valor do aluguel mais caro?**\n",
        "\n",
        "Para finalizar nossa análise, vou montar um mapa aonde estão localizados os imóveis com o valor do aluguel mais caro."
      ]
    },
    {
      "cell_type": "code",
      "execution_count": null,
      "id": "4bf55036",
      "metadata": {
        "colab": {
          "base_uri": "https://localhost:8080/",
          "height": 760
        },
        "id": "4bf55036",
        "outputId": "85b9d66d-a6b6-406e-8c7f-9fc8815963b7"
      },
      "outputs": [
        {
          "output_type": "execute_result",
          "data": {
            "text/plain": [
              "<folium.folium.Map at 0x7f962e1c5a60>"
            ],
            "text/html": [
              "<div style=\"width:100%;\"><div style=\"position:relative;width:100%;height:0;padding-bottom:60%;\"><span style=\"color:#565656\">Make this Notebook Trusted to load map: File -> Trust Notebook</span><iframe srcdoc=\"&lt;!DOCTYPE html&gt;\n",
              "&lt;html&gt;\n",
              "&lt;head&gt;\n",
              "    \n",
              "    &lt;meta http-equiv=&quot;content-type&quot; content=&quot;text/html; charset=UTF-8&quot; /&gt;\n",
              "    \n",
              "        &lt;script&gt;\n",
              "            L_NO_TOUCH = false;\n",
              "            L_DISABLE_3D = false;\n",
              "        &lt;/script&gt;\n",
              "    \n",
              "    &lt;style&gt;html, body {width: 100%;height: 100%;margin: 0;padding: 0;}&lt;/style&gt;\n",
              "    &lt;style&gt;#map {position:absolute;top:0;bottom:0;right:0;left:0;}&lt;/style&gt;\n",
              "    &lt;script src=&quot;https://cdn.jsdelivr.net/npm/leaflet@1.6.0/dist/leaflet.js&quot;&gt;&lt;/script&gt;\n",
              "    &lt;script src=&quot;https://code.jquery.com/jquery-1.12.4.min.js&quot;&gt;&lt;/script&gt;\n",
              "    &lt;script src=&quot;https://maxcdn.bootstrapcdn.com/bootstrap/3.2.0/js/bootstrap.min.js&quot;&gt;&lt;/script&gt;\n",
              "    &lt;script src=&quot;https://cdnjs.cloudflare.com/ajax/libs/Leaflet.awesome-markers/2.0.2/leaflet.awesome-markers.js&quot;&gt;&lt;/script&gt;\n",
              "    &lt;link rel=&quot;stylesheet&quot; href=&quot;https://cdn.jsdelivr.net/npm/leaflet@1.6.0/dist/leaflet.css&quot;/&gt;\n",
              "    &lt;link rel=&quot;stylesheet&quot; href=&quot;https://maxcdn.bootstrapcdn.com/bootstrap/3.2.0/css/bootstrap.min.css&quot;/&gt;\n",
              "    &lt;link rel=&quot;stylesheet&quot; href=&quot;https://maxcdn.bootstrapcdn.com/bootstrap/3.2.0/css/bootstrap-theme.min.css&quot;/&gt;\n",
              "    &lt;link rel=&quot;stylesheet&quot; href=&quot;https://maxcdn.bootstrapcdn.com/font-awesome/4.6.3/css/font-awesome.min.css&quot;/&gt;\n",
              "    &lt;link rel=&quot;stylesheet&quot; href=&quot;https://cdnjs.cloudflare.com/ajax/libs/Leaflet.awesome-markers/2.0.2/leaflet.awesome-markers.css&quot;/&gt;\n",
              "    &lt;link rel=&quot;stylesheet&quot; href=&quot;https://cdn.jsdelivr.net/gh/python-visualization/folium/folium/templates/leaflet.awesome.rotate.min.css&quot;/&gt;\n",
              "    \n",
              "            &lt;meta name=&quot;viewport&quot; content=&quot;width=device-width,\n",
              "                initial-scale=1.0, maximum-scale=1.0, user-scalable=no&quot; /&gt;\n",
              "            &lt;style&gt;\n",
              "                #map_34cabfd689629c1ec17dae3239ada1b2 {\n",
              "                    position: relative;\n",
              "                    width: 100.0%;\n",
              "                    height: 100.0%;\n",
              "                    left: 0.0%;\n",
              "                    top: 0.0%;\n",
              "                }\n",
              "            &lt;/style&gt;\n",
              "        \n",
              "&lt;/head&gt;\n",
              "&lt;body&gt;\n",
              "    \n",
              "    \n",
              "            &lt;div class=&quot;folium-map&quot; id=&quot;map_34cabfd689629c1ec17dae3239ada1b2&quot; &gt;&lt;/div&gt;\n",
              "        \n",
              "&lt;/body&gt;\n",
              "&lt;script&gt;\n",
              "    \n",
              "    \n",
              "            var map_34cabfd689629c1ec17dae3239ada1b2 = L.map(\n",
              "                &quot;map_34cabfd689629c1ec17dae3239ada1b2&quot;,\n",
              "                {\n",
              "                    center: [0, 0],\n",
              "                    crs: L.CRS.EPSG3857,\n",
              "                    zoom: 1,\n",
              "                    zoomControl: true,\n",
              "                    preferCanvas: false,\n",
              "                }\n",
              "            );\n",
              "\n",
              "            \n",
              "\n",
              "        \n",
              "    \n",
              "            var tile_layer_3b4911bad145fa6eed0a3c41c8610e62 = L.tileLayer(\n",
              "                &quot;https://{s}.tile.openstreetmap.org/{z}/{x}/{y}.png&quot;,\n",
              "                {&quot;attribution&quot;: &quot;Data by \\u0026copy; \\u003ca href=\\&quot;http://openstreetmap.org\\&quot;\\u003eOpenStreetMap\\u003c/a\\u003e, under \\u003ca href=\\&quot;http://www.openstreetmap.org/copyright\\&quot;\\u003eODbL\\u003c/a\\u003e.&quot;, &quot;detectRetina&quot;: false, &quot;maxNativeZoom&quot;: 18, &quot;maxZoom&quot;: 18, &quot;minZoom&quot;: 0, &quot;noWrap&quot;: false, &quot;opacity&quot;: 1, &quot;subdomains&quot;: &quot;abc&quot;, &quot;tms&quot;: false}\n",
              "            ).addTo(map_34cabfd689629c1ec17dae3239ada1b2);\n",
              "        \n",
              "    \n",
              "            var marker_68f002738793a588c430d5a05ea029c7 = L.marker(\n",
              "                [40.91306, -73.78158],\n",
              "                {}\n",
              "            ).addTo(map_34cabfd689629c1ec17dae3239ada1b2);\n",
              "        \n",
              "    \n",
              "        var popup_274dfa0f09f9cb8e0b4e8537851f192a = L.popup({&quot;maxWidth&quot;: &quot;100%&quot;});\n",
              "\n",
              "        \n",
              "            var html_c07b5783264a36fd0bfe362cbdeff673 = $(`&lt;div id=&quot;html_c07b5783264a36fd0bfe362cbdeff673&quot; style=&quot;width: 100.0%; height: 100.0%;&quot;&gt;Bronx&lt;/div&gt;`)[0];\n",
              "            popup_274dfa0f09f9cb8e0b4e8537851f192a.setContent(html_c07b5783264a36fd0bfe362cbdeff673);\n",
              "        \n",
              "\n",
              "        marker_68f002738793a588c430d5a05ea029c7.bindPopup(popup_274dfa0f09f9cb8e0b4e8537851f192a)\n",
              "        ;\n",
              "\n",
              "        \n",
              "    \n",
              "    \n",
              "            var marker_c9bd695de22c9e8c96d05f625748a97f = L.marker(\n",
              "                [40.7389, -73.85676],\n",
              "                {}\n",
              "            ).addTo(map_34cabfd689629c1ec17dae3239ada1b2);\n",
              "        \n",
              "    \n",
              "        var popup_2675aa53d76668c768ba42757cffc61a = L.popup({&quot;maxWidth&quot;: &quot;100%&quot;});\n",
              "\n",
              "        \n",
              "            var html_10e3c742c679e44205dc173ef53fc551 = $(`&lt;div id=&quot;html_10e3c742c679e44205dc173ef53fc551&quot; style=&quot;width: 100.0%; height: 100.0%;&quot;&gt;Brooklyn&lt;/div&gt;`)[0];\n",
              "            popup_2675aa53d76668c768ba42757cffc61a.setContent(html_10e3c742c679e44205dc173ef53fc551);\n",
              "        \n",
              "\n",
              "        marker_c9bd695de22c9e8c96d05f625748a97f.bindPopup(popup_2675aa53d76668c768ba42757cffc61a)\n",
              "        ;\n",
              "\n",
              "        \n",
              "    \n",
              "    \n",
              "            var marker_aff5980cfc0d578be0d58db39c05db64 = L.marker(\n",
              "                [40.87665, -73.90855],\n",
              "                {}\n",
              "            ).addTo(map_34cabfd689629c1ec17dae3239ada1b2);\n",
              "        \n",
              "    \n",
              "        var popup_a4626afa7993de33dda80e62dbed9782 = L.popup({&quot;maxWidth&quot;: &quot;100%&quot;});\n",
              "\n",
              "        \n",
              "            var html_897e4125e539e28edd1bc56a3bc26c39 = $(`&lt;div id=&quot;html_897e4125e539e28edd1bc56a3bc26c39&quot; style=&quot;width: 100.0%; height: 100.0%;&quot;&gt;Manhattan&lt;/div&gt;`)[0];\n",
              "            popup_a4626afa7993de33dda80e62dbed9782.setContent(html_897e4125e539e28edd1bc56a3bc26c39);\n",
              "        \n",
              "\n",
              "        marker_aff5980cfc0d578be0d58db39c05db64.bindPopup(popup_a4626afa7993de33dda80e62dbed9782)\n",
              "        ;\n",
              "\n",
              "        \n",
              "    \n",
              "    \n",
              "            var marker_1d4d9417fb60aa112ea213d0cf694c04 = L.marker(\n",
              "                [40.79721, -73.71299],\n",
              "                {}\n",
              "            ).addTo(map_34cabfd689629c1ec17dae3239ada1b2);\n",
              "        \n",
              "    \n",
              "        var popup_1fba475bfe984f47abdc2c07e28c7a37 = L.popup({&quot;maxWidth&quot;: &quot;100%&quot;});\n",
              "\n",
              "        \n",
              "            var html_3c9d2aa1d5e6724dedd495ddc4634f72 = $(`&lt;div id=&quot;html_3c9d2aa1d5e6724dedd495ddc4634f72&quot; style=&quot;width: 100.0%; height: 100.0%;&quot;&gt;Queens&lt;/div&gt;`)[0];\n",
              "            popup_1fba475bfe984f47abdc2c07e28c7a37.setContent(html_3c9d2aa1d5e6724dedd495ddc4634f72);\n",
              "        \n",
              "\n",
              "        marker_1d4d9417fb60aa112ea213d0cf694c04.bindPopup(popup_1fba475bfe984f47abdc2c07e28c7a37)\n",
              "        ;\n",
              "\n",
              "        \n",
              "    \n",
              "    \n",
              "            var marker_1452debe2d9f029c17e811aba2fa4e26 = L.marker(\n",
              "                [40.64779, -74.06208],\n",
              "                {}\n",
              "            ).addTo(map_34cabfd689629c1ec17dae3239ada1b2);\n",
              "        \n",
              "    \n",
              "        var popup_48216fa6fb4309d7ba06a39078ec02f2 = L.popup({&quot;maxWidth&quot;: &quot;100%&quot;});\n",
              "\n",
              "        \n",
              "            var html_c633cea982d2269e76f4fd01a978db31 = $(`&lt;div id=&quot;html_c633cea982d2269e76f4fd01a978db31&quot; style=&quot;width: 100.0%; height: 100.0%;&quot;&gt;Staten Island&lt;/div&gt;`)[0];\n",
              "            popup_48216fa6fb4309d7ba06a39078ec02f2.setContent(html_c633cea982d2269e76f4fd01a978db31);\n",
              "        \n",
              "\n",
              "        marker_1452debe2d9f029c17e811aba2fa4e26.bindPopup(popup_48216fa6fb4309d7ba06a39078ec02f2)\n",
              "        ;\n",
              "\n",
              "        \n",
              "    \n",
              "&lt;/script&gt;\n",
              "&lt;/html&gt;\" style=\"position:absolute;width:100%;height:100%;left:0;top:0;border:none !important;\" allowfullscreen webkitallowfullscreen mozallowfullscreen></iframe></div></div>"
            ]
          },
          "metadata": {},
          "execution_count": 26
        }
      ],
      "source": [
        "#Conjunto de dados com as coordenadas\n",
        "colunas = ['price','neighbourhood_group','latitude','longitude']\n",
        "data_plot = df_clean.loc[:, colunas].groupby('neighbourhood_group').max().reset_index()\n",
        "\n",
        "#Um comando para desenhar um mapa\n",
        "mapa = folium.Map()\n",
        "\n",
        "#Colocar os pontos de latitude e longitude dentro do mapa\n",
        "for index, location_info in data_plot.iterrows():\n",
        "    folium.Marker([location_info['latitude'], location_info['longitude']],\n",
        "                  popup=location_info['neighbourhood_group']).add_to(mapa)\n",
        "    \n",
        "mapa"
      ]
    },
    {
      "cell_type": "markdown",
      "id": "a729d073",
      "metadata": {
        "id": "a729d073"
      },
      "source": [
        "* E assim de forma clara com este mapa, para identificar a localização dos alugueis mais caros que finalizo este projeto. \n",
        "* Logo abaixo segue algumas conclusões dessas análises feitas."
      ]
    },
    {
      "cell_type": "markdown",
      "id": "963937bd",
      "metadata": {
        "id": "963937bd"
      },
      "source": [
        "## **Conclusões**"
      ]
    },
    {
      "cell_type": "markdown",
      "id": "3e10868d",
      "metadata": {
        "id": "3e10868d"
      },
      "source": [
        "* Podemos concluir que uma análise de dados bem feita, é muito importante e é possivel retirar informações relevantes para responder não só uma, mas várias perguntas. Por exemplo, nós vemos a média dos preços dos imóveis, fizemos uma vizualização de dados. Respondemos perguntas que, para quem tem interesse de conhcer a cidade de Nova York, já vai ter uma noção bem ampla sobre os locais onde quiserem se hospedar.\n",
        "\n",
        "* Fizemos uma limpeza de forma mais profunda nos valores outliers, podendo assim conseguir uma melhor distribuição dos dados. De forma que, agora o dataset está pronto para se aplicar um algoritmo de Machine Learning\n",
        "\n",
        "* E por fim, montei um mapa para podermos vizualizar exatamente onde estão os imóveis mais caros de cada região de Nova York."
      ]
    }
  ],
  "metadata": {
    "kernelspec": {
      "display_name": "Python 3 (ipykernel)",
      "language": "python",
      "name": "python3"
    },
    "language_info": {
      "codemirror_mode": {
        "name": "ipython",
        "version": 3
      },
      "file_extension": ".py",
      "mimetype": "text/x-python",
      "name": "python",
      "nbconvert_exporter": "python",
      "pygments_lexer": "ipython3",
      "version": "3.9.7"
    },
    "colab": {
      "provenance": [],
      "include_colab_link": true
    }
  },
  "nbformat": 4,
  "nbformat_minor": 5
}