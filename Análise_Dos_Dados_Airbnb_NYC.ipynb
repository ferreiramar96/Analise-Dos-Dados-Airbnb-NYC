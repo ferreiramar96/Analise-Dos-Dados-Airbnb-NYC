{
  "cells": [
    {
      "cell_type": "markdown",
      "metadata": {
        "id": "view-in-github",
        "colab_type": "text"
      },
      "source": [
        "<a href=\"https://colab.research.google.com/github/ferreiramar96/Analise-Dos-Dados-Airbnb-NYC/blob/main/An%C3%A1lise_Dos_Dados_Airbnb_NYC.ipynb\" target=\"_parent\"><img src=\"https://colab.research.google.com/assets/colab-badge.svg\" alt=\"Open In Colab\"/></a>"
      ]
    },
    {
      "cell_type": "markdown",
      "id": "ed15c675",
      "metadata": {
        "id": "ed15c675"
      },
      "source": [
        "# Análise dos Dados do Airbnb - *Nova York*\n",
        "\n",
        "O [Airbnb](https://www.airbnb.com.br/) é uma plataforma para alugar acomodação por temporada e promover experiências únicas. Só que tem um fato curioso sobre esta empresa, **eles não possuem nenhum hotel**!\n",
        "\n",
        "A empresa ajuda a tornar o compartilhamento fácil, agradável e seguro. Perfis pessoais e anúncios são verificados, eles matém um sistema de mensagens inteligente para que anfitriões e hóspedes possam se comunicar com segurança e gerenciam uma plataforma confiável para recolher e transferir pagamentos.\n",
        "\n",
        "Em meados de 2021, A Startup fundada 13 anos atrás(2008), chegou a marca impressionante de **1 bilhão de pessoas hospedadas**, e bem na semana em que se comemora o Dia Mundia do Turismo.\n",
        "\n",
        "Uma das iniciativas do Airbnb é disponibilizar dados de sua empresa em algumas cidades. Por meio do site [Inside Airbnb](http://insideairbnb.com/get-the-data/), Dessa forma sendo possivel realizar o download desses dados e serem feitos projetos e análise de dados de *Data Science*.\n",
        "\n",
        "<center><img alt=\"Analisando Airbnb\" width=\"10%\" src=\"https://www.area360.com.au/wp-content/uploads/2017/09/airbnb-logo.jpg\"></center>\n",
        "\n",
        "\n",
        "<center><b>O PROJETO A SEGUIR SERÁ REALIZADO UTILIZANDO OS DADOS DO AIRBNB DE NOVA YORK</b></center>\n",
        "\n",
        "\n",
        "<img src=\"new_york_city_10.png\"/>\n",
        "\n",
        "Segundo o site [Melhores Destinos](https://www.melhoresdestinos.com.br/cidades-mais-visitadas-do-mundo.html) a cidade de Nova York é impressionante por diversos motivos. É um lugar onde ao lado de arranha-céus, vivem parques extremamente arborizados. Além disso temos também vários pontos turísticos como: A Estátua da Liberdade, Times Square, Central Park e Empire State, Entre muitos outros.\n",
        "\n",
        "Com **mais de 50 milhões de visitantes por ano**, mais de 8 milhões de moradores, mais de 400 estações de metrô, milhares de restaurantes, diversos museus, muitas lojas e uma infinidade de pontos turísticos para conhecer - Nova York é assim, uma das cidades mais espetaculares do mundo, com uma variedade incrível de coisas para ver e fazer. Ela é a **cidade mais populosa dos Estados Unidos**, cenário de centenas filmes e um destino capaz de agradar pessoas com gostos completamente distintos.\n",
        "\n",
        "Como a cidade é muito visitada, é importante obtermos informações à respeito dos imóveis.Imagine que você queira visita-la, mas não tem nenhuma informação sobre preço das diárias dos hoteis, quantos dias ficar na cidade, quais os mais caros ou mais baratos, etc. Sendo assim, uma análise exploratória dos dados se faz crucial. Este é o objetivo do presente projeto."
      ]
    },
    {
      "cell_type": "markdown",
      "id": "7c2c4323",
      "metadata": {
        "id": "7c2c4323"
      },
      "source": [
        "## Obtenção dos Dados\n",
        "\n",
        "Todos os dados foram retirados do site do [Inside Airbnb](http://insideairbnb.com/get-the-data.html). Está é uma versão dos dados atualizados de 2019"
      ]
    },
    {
      "cell_type": "code",
      "execution_count": 49,
      "id": "70eab2a9",
      "metadata": {
        "id": "70eab2a9"
      },
      "outputs": [],
      "source": [
        "# Importando os pacotes nescessários\n",
        "import pandas as pd\n",
        "import numpy as np\n",
        "import matplotlib.pyplot as plt\n",
        "import folium\n",
        "\n",
        "%matplotlib inline"
      ]
    },
    {
      "cell_type": "code",
      "execution_count": 50,
      "id": "209b0bf7",
      "metadata": {
        "id": "209b0bf7"
      },
      "outputs": [],
      "source": [
        "# Importandos os dados para o nosso notebook\n",
        "df = pd.read_csv('airbnb_nyc_2019.csv')"
      ]
    },
    {
      "cell_type": "markdown",
      "id": "eb3e9cc2",
      "metadata": {
        "id": "eb3e9cc2"
      },
      "source": [
        "## Análise dos Dados"
      ]
    },
    {
      "cell_type": "markdown",
      "id": "0a4a9406",
      "metadata": {
        "id": "0a4a9406"
      },
      "source": [
        "Começando aqui nossa análise de dados, para podermos extrair informações relevantes para quem quiser conhcer a cidade americana."
      ]
    },
    {
      "cell_type": "markdown",
      "id": "67369aa5",
      "metadata": {
        "id": "67369aa5"
      },
      "source": [
        "**Colunas do Dataset**\n",
        "\n",
        "* `id` - Identificador do registro na base de dados\n",
        "* `name` - Nome do Anúncio na plataforma do Airbnb\n",
        "* `host_id` - Número de id do proprietário (anfitrião) da propriedade\n",
        "* `host_name` - Nome do anfitrião\n",
        "* `neighbourhood_group` - Região da Cidade de Nova York\n",
        "* `neighbourhood` - Bairro (Está dentro de uma das Regiões)\n",
        "* `latitude` - Coordenada da latitude da propriedade\n",
        "* `longitude` - Coordenada da longitude da propriedade\n",
        "* `room_type` - Tipo da Locação (Quarto, Casa inteira, etc)\n",
        "* `price` - Preço do aluguel (diária)\n",
        "* `minimum_nights` - Diárias Mínimas para Locação\n",
        "* `number_of_reviews` - Quantidade de Avaliações\n",
        "* `last_review` - Data do último review\n",
        "* `reviews_per_month` - Quantidade de reviews por mês\n",
        "* `calculated_host_listings_count` - Quantidade de Anúncios do Host do Imóvel\n",
        "* `availability_365` - Tempo (dias) em que o anúncio está disponível\n",
        "\n",
        "\n",
        "A seguir vamos verificar as 5 primeiras linhas do nosso dataset"
      ]
    },
    {
      "cell_type": "code",
      "execution_count": 51,
      "id": "75143dd9",
      "metadata": {
        "colab": {
          "base_uri": "https://localhost:8080/",
          "height": 461
        },
        "id": "75143dd9",
        "outputId": "52ab6c25-5262-45aa-8725-3da454c2b4e8"
      },
      "outputs": [
        {
          "output_type": "execute_result",
          "data": {
            "text/plain": [
              "     id                                              name  host_id  \\\n",
              "0  2539                Clean & quiet apt home by the park     2787   \n",
              "1  2595                             Skylit Midtown Castle     2845   \n",
              "2  3647               THE VILLAGE OF HARLEM....NEW YORK !     4632   \n",
              "3  3831                   Cozy Entire Floor of Brownstone     4869   \n",
              "4  5022  Entire Apt: Spacious Studio/Loft by central park     7192   \n",
              "\n",
              "     host_name neighbourhood_group neighbourhood  latitude  longitude  \\\n",
              "0         John            Brooklyn    Kensington  40.64749  -73.97237   \n",
              "1     Jennifer           Manhattan       Midtown  40.75362  -73.98377   \n",
              "2    Elisabeth           Manhattan        Harlem  40.80902  -73.94190   \n",
              "3  LisaRoxanne            Brooklyn  Clinton Hill  40.68514  -73.95976   \n",
              "4        Laura           Manhattan   East Harlem  40.79851  -73.94399   \n",
              "\n",
              "         room_type  price  minimum_nights  number_of_reviews last_review  \\\n",
              "0     Private room    149               1                  9  2018-10-19   \n",
              "1  Entire home/apt    225               1                 45  2019-05-21   \n",
              "2     Private room    150               3                  0         NaN   \n",
              "3  Entire home/apt     89               1                270  2019-07-05   \n",
              "4  Entire home/apt     80              10                  9  2018-11-19   \n",
              "\n",
              "   reviews_per_month  calculated_host_listings_count  availability_365  \n",
              "0               0.21                               6               365  \n",
              "1               0.38                               2               355  \n",
              "2                NaN                               1               365  \n",
              "3               4.64                               1               194  \n",
              "4               0.10                               1                 0  "
            ],
            "text/html": [
              "\n",
              "  <div id=\"df-8f45da77-27f9-4a9d-bb49-04fd66b3427e\">\n",
              "    <div class=\"colab-df-container\">\n",
              "      <div>\n",
              "<style scoped>\n",
              "    .dataframe tbody tr th:only-of-type {\n",
              "        vertical-align: middle;\n",
              "    }\n",
              "\n",
              "    .dataframe tbody tr th {\n",
              "        vertical-align: top;\n",
              "    }\n",
              "\n",
              "    .dataframe thead th {\n",
              "        text-align: right;\n",
              "    }\n",
              "</style>\n",
              "<table border=\"1\" class=\"dataframe\">\n",
              "  <thead>\n",
              "    <tr style=\"text-align: right;\">\n",
              "      <th></th>\n",
              "      <th>id</th>\n",
              "      <th>name</th>\n",
              "      <th>host_id</th>\n",
              "      <th>host_name</th>\n",
              "      <th>neighbourhood_group</th>\n",
              "      <th>neighbourhood</th>\n",
              "      <th>latitude</th>\n",
              "      <th>longitude</th>\n",
              "      <th>room_type</th>\n",
              "      <th>price</th>\n",
              "      <th>minimum_nights</th>\n",
              "      <th>number_of_reviews</th>\n",
              "      <th>last_review</th>\n",
              "      <th>reviews_per_month</th>\n",
              "      <th>calculated_host_listings_count</th>\n",
              "      <th>availability_365</th>\n",
              "    </tr>\n",
              "  </thead>\n",
              "  <tbody>\n",
              "    <tr>\n",
              "      <th>0</th>\n",
              "      <td>2539</td>\n",
              "      <td>Clean &amp; quiet apt home by the park</td>\n",
              "      <td>2787</td>\n",
              "      <td>John</td>\n",
              "      <td>Brooklyn</td>\n",
              "      <td>Kensington</td>\n",
              "      <td>40.64749</td>\n",
              "      <td>-73.97237</td>\n",
              "      <td>Private room</td>\n",
              "      <td>149</td>\n",
              "      <td>1</td>\n",
              "      <td>9</td>\n",
              "      <td>2018-10-19</td>\n",
              "      <td>0.21</td>\n",
              "      <td>6</td>\n",
              "      <td>365</td>\n",
              "    </tr>\n",
              "    <tr>\n",
              "      <th>1</th>\n",
              "      <td>2595</td>\n",
              "      <td>Skylit Midtown Castle</td>\n",
              "      <td>2845</td>\n",
              "      <td>Jennifer</td>\n",
              "      <td>Manhattan</td>\n",
              "      <td>Midtown</td>\n",
              "      <td>40.75362</td>\n",
              "      <td>-73.98377</td>\n",
              "      <td>Entire home/apt</td>\n",
              "      <td>225</td>\n",
              "      <td>1</td>\n",
              "      <td>45</td>\n",
              "      <td>2019-05-21</td>\n",
              "      <td>0.38</td>\n",
              "      <td>2</td>\n",
              "      <td>355</td>\n",
              "    </tr>\n",
              "    <tr>\n",
              "      <th>2</th>\n",
              "      <td>3647</td>\n",
              "      <td>THE VILLAGE OF HARLEM....NEW YORK !</td>\n",
              "      <td>4632</td>\n",
              "      <td>Elisabeth</td>\n",
              "      <td>Manhattan</td>\n",
              "      <td>Harlem</td>\n",
              "      <td>40.80902</td>\n",
              "      <td>-73.94190</td>\n",
              "      <td>Private room</td>\n",
              "      <td>150</td>\n",
              "      <td>3</td>\n",
              "      <td>0</td>\n",
              "      <td>NaN</td>\n",
              "      <td>NaN</td>\n",
              "      <td>1</td>\n",
              "      <td>365</td>\n",
              "    </tr>\n",
              "    <tr>\n",
              "      <th>3</th>\n",
              "      <td>3831</td>\n",
              "      <td>Cozy Entire Floor of Brownstone</td>\n",
              "      <td>4869</td>\n",
              "      <td>LisaRoxanne</td>\n",
              "      <td>Brooklyn</td>\n",
              "      <td>Clinton Hill</td>\n",
              "      <td>40.68514</td>\n",
              "      <td>-73.95976</td>\n",
              "      <td>Entire home/apt</td>\n",
              "      <td>89</td>\n",
              "      <td>1</td>\n",
              "      <td>270</td>\n",
              "      <td>2019-07-05</td>\n",
              "      <td>4.64</td>\n",
              "      <td>1</td>\n",
              "      <td>194</td>\n",
              "    </tr>\n",
              "    <tr>\n",
              "      <th>4</th>\n",
              "      <td>5022</td>\n",
              "      <td>Entire Apt: Spacious Studio/Loft by central park</td>\n",
              "      <td>7192</td>\n",
              "      <td>Laura</td>\n",
              "      <td>Manhattan</td>\n",
              "      <td>East Harlem</td>\n",
              "      <td>40.79851</td>\n",
              "      <td>-73.94399</td>\n",
              "      <td>Entire home/apt</td>\n",
              "      <td>80</td>\n",
              "      <td>10</td>\n",
              "      <td>9</td>\n",
              "      <td>2018-11-19</td>\n",
              "      <td>0.10</td>\n",
              "      <td>1</td>\n",
              "      <td>0</td>\n",
              "    </tr>\n",
              "  </tbody>\n",
              "</table>\n",
              "</div>\n",
              "      <button class=\"colab-df-convert\" onclick=\"convertToInteractive('df-8f45da77-27f9-4a9d-bb49-04fd66b3427e')\"\n",
              "              title=\"Convert this dataframe to an interactive table.\"\n",
              "              style=\"display:none;\">\n",
              "        \n",
              "  <svg xmlns=\"http://www.w3.org/2000/svg\" height=\"24px\"viewBox=\"0 0 24 24\"\n",
              "       width=\"24px\">\n",
              "    <path d=\"M0 0h24v24H0V0z\" fill=\"none\"/>\n",
              "    <path d=\"M18.56 5.44l.94 2.06.94-2.06 2.06-.94-2.06-.94-.94-2.06-.94 2.06-2.06.94zm-11 1L8.5 8.5l.94-2.06 2.06-.94-2.06-.94L8.5 2.5l-.94 2.06-2.06.94zm10 10l.94 2.06.94-2.06 2.06-.94-2.06-.94-.94-2.06-.94 2.06-2.06.94z\"/><path d=\"M17.41 7.96l-1.37-1.37c-.4-.4-.92-.59-1.43-.59-.52 0-1.04.2-1.43.59L10.3 9.45l-7.72 7.72c-.78.78-.78 2.05 0 2.83L4 21.41c.39.39.9.59 1.41.59.51 0 1.02-.2 1.41-.59l7.78-7.78 2.81-2.81c.8-.78.8-2.07 0-2.86zM5.41 20L4 18.59l7.72-7.72 1.47 1.35L5.41 20z\"/>\n",
              "  </svg>\n",
              "      </button>\n",
              "      \n",
              "  <style>\n",
              "    .colab-df-container {\n",
              "      display:flex;\n",
              "      flex-wrap:wrap;\n",
              "      gap: 12px;\n",
              "    }\n",
              "\n",
              "    .colab-df-convert {\n",
              "      background-color: #E8F0FE;\n",
              "      border: none;\n",
              "      border-radius: 50%;\n",
              "      cursor: pointer;\n",
              "      display: none;\n",
              "      fill: #1967D2;\n",
              "      height: 32px;\n",
              "      padding: 0 0 0 0;\n",
              "      width: 32px;\n",
              "    }\n",
              "\n",
              "    .colab-df-convert:hover {\n",
              "      background-color: #E2EBFA;\n",
              "      box-shadow: 0px 1px 2px rgba(60, 64, 67, 0.3), 0px 1px 3px 1px rgba(60, 64, 67, 0.15);\n",
              "      fill: #174EA6;\n",
              "    }\n",
              "\n",
              "    [theme=dark] .colab-df-convert {\n",
              "      background-color: #3B4455;\n",
              "      fill: #D2E3FC;\n",
              "    }\n",
              "\n",
              "    [theme=dark] .colab-df-convert:hover {\n",
              "      background-color: #434B5C;\n",
              "      box-shadow: 0px 1px 3px 1px rgba(0, 0, 0, 0.15);\n",
              "      filter: drop-shadow(0px 1px 2px rgba(0, 0, 0, 0.3));\n",
              "      fill: #FFFFFF;\n",
              "    }\n",
              "  </style>\n",
              "\n",
              "      <script>\n",
              "        const buttonEl =\n",
              "          document.querySelector('#df-8f45da77-27f9-4a9d-bb49-04fd66b3427e button.colab-df-convert');\n",
              "        buttonEl.style.display =\n",
              "          google.colab.kernel.accessAllowed ? 'block' : 'none';\n",
              "\n",
              "        async function convertToInteractive(key) {\n",
              "          const element = document.querySelector('#df-8f45da77-27f9-4a9d-bb49-04fd66b3427e');\n",
              "          const dataTable =\n",
              "            await google.colab.kernel.invokeFunction('convertToInteractive',\n",
              "                                                     [key], {});\n",
              "          if (!dataTable) return;\n",
              "\n",
              "          const docLinkHtml = 'Like what you see? Visit the ' +\n",
              "            '<a target=\"_blank\" href=https://colab.research.google.com/notebooks/data_table.ipynb>data table notebook</a>'\n",
              "            + ' to learn more about interactive tables.';\n",
              "          element.innerHTML = '';\n",
              "          dataTable['output_type'] = 'display_data';\n",
              "          await google.colab.output.renderOutput(dataTable, element);\n",
              "          const docLink = document.createElement('div');\n",
              "          docLink.innerHTML = docLinkHtml;\n",
              "          element.appendChild(docLink);\n",
              "        }\n",
              "      </script>\n",
              "    </div>\n",
              "  </div>\n",
              "  "
            ]
          },
          "metadata": {},
          "execution_count": 51
        }
      ],
      "source": [
        "#Mostrando 5 primeiras linhas do nosso conjunto de dados\n",
        "df.head()"
      ]
    },
    {
      "cell_type": "markdown",
      "id": "65c2bbfe",
      "metadata": {
        "id": "65c2bbfe"
      },
      "source": [
        "Para realizar uma análise mais clara, vou converter o valor de dólares para reais."
      ]
    },
    {
      "cell_type": "code",
      "execution_count": 52,
      "id": "1310a47e",
      "metadata": {
        "id": "1310a47e"
      },
      "outputs": [],
      "source": [
        "#Criando nova coluna\n",
        "df['Preço em R$'] = df['price'] * 5.05"
      ]
    },
    {
      "cell_type": "markdown",
      "id": "bc5afe3d",
      "metadata": {
        "id": "bc5afe3d"
      },
      "source": [
        "Coluna criada, cujo o valor do dolar está R$5,05"
      ]
    },
    {
      "cell_type": "markdown",
      "id": "99f06f44",
      "metadata": {
        "id": "99f06f44"
      },
      "source": [
        "### Q1. Quantas colunas(váriaveis) e quantas linhas(entradas) o nosso dataset possui? E quais são os tipos de dados que nós temos?"
      ]
    },
    {
      "cell_type": "code",
      "execution_count": 53,
      "id": "e8dc8611",
      "metadata": {
        "colab": {
          "base_uri": "https://localhost:8080/"
        },
        "id": "e8dc8611",
        "outputId": "5a2ab398-b0d3-40d7-af38-c5aa82c88ebe"
      },
      "outputs": [
        {
          "output_type": "stream",
          "name": "stdout",
          "text": [
            "Colunas: 17\n",
            "Linhas: 48895\n"
          ]
        }
      ],
      "source": [
        "#Vendo as linhas e colunas \n",
        "print(f'Colunas: {df.shape[1]}')\n",
        "print(f'Linhas: {df.shape[0]}')"
      ]
    },
    {
      "cell_type": "code",
      "execution_count": 54,
      "id": "831cc2e4",
      "metadata": {
        "colab": {
          "base_uri": "https://localhost:8080/",
          "height": 329
        },
        "id": "831cc2e4",
        "outputId": "fa604715-81af-4453-8588-53aba6a322a0"
      },
      "outputs": [
        {
          "output_type": "display_data",
          "data": {
            "text/plain": [
              "id                                  int64\n",
              "name                               object\n",
              "host_id                             int64\n",
              "host_name                          object\n",
              "neighbourhood_group                object\n",
              "neighbourhood                      object\n",
              "latitude                          float64\n",
              "longitude                         float64\n",
              "room_type                          object\n",
              "price                               int64\n",
              "minimum_nights                      int64\n",
              "number_of_reviews                   int64\n",
              "last_review                        object\n",
              "reviews_per_month                 float64\n",
              "calculated_host_listings_count      int64\n",
              "availability_365                    int64\n",
              "Preço em R$                       float64\n",
              "dtype: object"
            ]
          },
          "metadata": {}
        }
      ],
      "source": [
        "#Verificando os tipos de dados\n",
        "display(df.dtypes)"
      ]
    },
    {
      "cell_type": "markdown",
      "id": "0c465cf2",
      "metadata": {
        "id": "0c465cf2"
      },
      "source": [
        "Podemos observar que esse nosso dataset possui um total de 48.895 linhas e 17 colunas. E os tipos dos dados são: Inteiro, Float e Objeto"
      ]
    },
    {
      "cell_type": "markdown",
      "id": "43f610c2",
      "metadata": {
        "id": "43f610c2"
      },
      "source": [
        "### Q2. Qual a porcentagem de valores ausentes  no dataset?"
      ]
    },
    {
      "cell_type": "code",
      "execution_count": 55,
      "id": "438ba858",
      "metadata": {
        "colab": {
          "base_uri": "https://localhost:8080/"
        },
        "id": "438ba858",
        "outputId": "75faedb8-d8ab-483b-9ad5-a49db38ae50d"
      },
      "outputs": [
        {
          "output_type": "execute_result",
          "data": {
            "text/plain": [
              "reviews_per_month                 20.558339\n",
              "last_review                       20.558339\n",
              "host_name                          0.042949\n",
              "name                               0.032723\n",
              "id                                 0.000000\n",
              "minimum_nights                     0.000000\n",
              "availability_365                   0.000000\n",
              "calculated_host_listings_count     0.000000\n",
              "number_of_reviews                  0.000000\n",
              "room_type                          0.000000\n",
              "price                              0.000000\n",
              "longitude                          0.000000\n",
              "latitude                           0.000000\n",
              "neighbourhood                      0.000000\n",
              "neighbourhood_group                0.000000\n",
              "host_id                            0.000000\n",
              "Preço em R$                        0.000000\n",
              "dtype: float64"
            ]
          },
          "metadata": {},
          "execution_count": 55
        }
      ],
      "source": [
        "#Organizando de forma decrescente a porcentagem de dados faltantes de cada coluna \n",
        "((df.isnull().sum() / df.shape[0]).sort_values(ascending=False)) * 100"
      ]
    },
    {
      "cell_type": "markdown",
      "id": "34dd4513",
      "metadata": {
        "id": "34dd4513"
      },
      "source": [
        "É possível observar que as colunas `reviews_per_month` e `last_review` tem exatamente 20,55% dos dados ausentes, e as colunas `host_name` e `name` tem pouca coisa de dados ausentes. E as demais colunas, nenhuma tem dados faltantes"
      ]
    },
    {
      "cell_type": "markdown",
      "id": "ed6aae4f",
      "metadata": {
        "id": "ed6aae4f"
      },
      "source": [
        "### Q3. Distribuição das variáveis "
      ]
    },
    {
      "cell_type": "code",
      "execution_count": 56,
      "id": "4170b943",
      "metadata": {
        "colab": {
          "base_uri": "https://localhost:8080/",
          "height": 716
        },
        "id": "4170b943",
        "outputId": "e9ec8656-771f-4cab-a051-893c181f3f32"
      },
      "outputs": [
        {
          "output_type": "display_data",
          "data": {
            "text/plain": [
              "<Figure size 1080x864 with 12 Axes>"
            ],
            "image/png": "[encoded data removed]"
          },
          "metadata": {
            "needs_background": "light"
          }
        }
      ],
      "source": [
        "#Criando histógrama de todas as váriaveis numéricas\n",
        "df.hist(bins=20, figsize=(15, 12), color='royalblue')\n",
        "plt.show()"
      ]
    },
    {
      "cell_type": "markdown",
      "id": "3d568a7d",
      "metadata": {
        "id": "3d568a7d"
      },
      "source": [
        "Ao realizarmos a observação das distribuições, percebemos que a maioria das variáveis são assimétricas a direita. Sendo assim, provavelmente existem valores discrepantes em relação às variáveis, `price`, `Preço em R$`, `minimum_nights`, `calculated_host_listings_count`. A seguir vou fazer uma análise estatística descritiva e logo em seguida plotarei seus boxplots."
      ]
    },
    {
      "cell_type": "markdown",
      "id": "26139143",
      "metadata": {
        "id": "26139143"
      },
      "source": [
        "### Q4. Existem valores Discrepantes(Outliers)?"
      ]
    },
    {
      "cell_type": "code",
      "execution_count": 57,
      "id": "f797e0ea",
      "metadata": {
        "colab": {
          "base_uri": "https://localhost:8080/",
          "height": 300
        },
        "id": "f797e0ea",
        "outputId": "55ed3621-1c8e-4e02-c043-96ce0d0cfaec"
      },
      "outputs": [
        {
          "output_type": "execute_result",
          "data": {
            "text/plain": [
              "              price   Preço em R$  minimum_nights  number_of_reviews  \\\n",
              "count  48895.000000  48895.000000    48895.000000       48895.000000   \n",
              "mean     152.720687    771.239470        7.029962          23.274466   \n",
              "std      240.154170   1212.778557       20.510550          44.550582   \n",
              "min        0.000000      0.000000        1.000000           0.000000   \n",
              "25%       69.000000    348.450000        1.000000           1.000000   \n",
              "50%      106.000000    535.300000        3.000000           5.000000   \n",
              "75%      175.000000    883.750000        5.000000          24.000000   \n",
              "max    10000.000000  50500.000000     1250.000000         629.000000   \n",
              "\n",
              "       reviews_per_month  calculated_host_listings_count  availability_365  \n",
              "count       38843.000000                    48895.000000      48895.000000  \n",
              "mean            1.373221                        7.143982        112.781327  \n",
              "std             1.680442                       32.952519        131.622289  \n",
              "min             0.010000                        1.000000          0.000000  \n",
              "25%             0.190000                        1.000000          0.000000  \n",
              "50%             0.720000                        1.000000         45.000000  \n",
              "75%             2.020000                        2.000000        227.000000  \n",
              "max            58.500000                      327.000000        365.000000  "
            ],
            "text/html": [
              "\n",
              "  <div id=\"df-6e71b9ec-5c3a-4f69-9db9-34f0be5589b1\">\n",
              "    <div class=\"colab-df-container\">\n",
              "      <div>\n",
              "<style scoped>\n",
              "    .dataframe tbody tr th:only-of-type {\n",
              "        vertical-align: middle;\n",
              "    }\n",
              "\n",
              "    .dataframe tbody tr th {\n",
              "        vertical-align: top;\n",
              "    }\n",
              "\n",
              "    .dataframe thead th {\n",
              "        text-align: right;\n",
              "    }\n",
              "</style>\n",
              "<table border=\"1\" class=\"dataframe\">\n",
              "  <thead>\n",
              "    <tr style=\"text-align: right;\">\n",
              "      <th></th>\n",
              "      <th>price</th>\n",
              "      <th>Preço em R$</th>\n",
              "      <th>minimum_nights</th>\n",
              "      <th>number_of_reviews</th>\n",
              "      <th>reviews_per_month</th>\n",
              "      <th>calculated_host_listings_count</th>\n",
              "      <th>availability_365</th>\n",
              "    </tr>\n",
              "  </thead>\n",
              "  <tbody>\n",
              "    <tr>\n",
              "      <th>count</th>\n",
              "      <td>48895.000000</td>\n",
              "      <td>48895.000000</td>\n",
              "      <td>48895.000000</td>\n",
              "      <td>48895.000000</td>\n",
              "      <td>38843.000000</td>\n",
              "      <td>48895.000000</td>\n",
              "      <td>48895.000000</td>\n",
              "    </tr>\n",
              "    <tr>\n",
              "      <th>mean</th>\n",
              "      <td>152.720687</td>\n",
              "      <td>771.239470</td>\n",
              "      <td>7.029962</td>\n",
              "      <td>23.274466</td>\n",
              "      <td>1.373221</td>\n",
              "      <td>7.143982</td>\n",
              "      <td>112.781327</td>\n",
              "    </tr>\n",
              "    <tr>\n",
              "      <th>std</th>\n",
              "      <td>240.154170</td>\n",
              "      <td>1212.778557</td>\n",
              "      <td>20.510550</td>\n",
              "      <td>44.550582</td>\n",
              "      <td>1.680442</td>\n",
              "      <td>32.952519</td>\n",
              "      <td>131.622289</td>\n",
              "    </tr>\n",
              "    <tr>\n",
              "      <th>min</th>\n",
              "      <td>0.000000</td>\n",
              "      <td>0.000000</td>\n",
              "      <td>1.000000</td>\n",
              "      <td>0.000000</td>\n",
              "      <td>0.010000</td>\n",
              "      <td>1.000000</td>\n",
              "      <td>0.000000</td>\n",
              "    </tr>\n",
              "    <tr>\n",
              "      <th>25%</th>\n",
              "      <td>69.000000</td>\n",
              "      <td>348.450000</td>\n",
              "      <td>1.000000</td>\n",
              "      <td>1.000000</td>\n",
              "      <td>0.190000</td>\n",
              "      <td>1.000000</td>\n",
              "      <td>0.000000</td>\n",
              "    </tr>\n",
              "    <tr>\n",
              "      <th>50%</th>\n",
              "      <td>106.000000</td>\n",
              "      <td>535.300000</td>\n",
              "      <td>3.000000</td>\n",
              "      <td>5.000000</td>\n",
              "      <td>0.720000</td>\n",
              "      <td>1.000000</td>\n",
              "      <td>45.000000</td>\n",
              "    </tr>\n",
              "    <tr>\n",
              "      <th>75%</th>\n",
              "      <td>175.000000</td>\n",
              "      <td>883.750000</td>\n",
              "      <td>5.000000</td>\n",
              "      <td>24.000000</td>\n",
              "      <td>2.020000</td>\n",
              "      <td>2.000000</td>\n",
              "      <td>227.000000</td>\n",
              "    </tr>\n",
              "    <tr>\n",
              "      <th>max</th>\n",
              "      <td>10000.000000</td>\n",
              "      <td>50500.000000</td>\n",
              "      <td>1250.000000</td>\n",
              "      <td>629.000000</td>\n",
              "      <td>58.500000</td>\n",
              "      <td>327.000000</td>\n",
              "      <td>365.000000</td>\n",
              "    </tr>\n",
              "  </tbody>\n",
              "</table>\n",
              "</div>\n",
              "      <button class=\"colab-df-convert\" onclick=\"convertToInteractive('df-6e71b9ec-5c3a-4f69-9db9-34f0be5589b1')\"\n",
              "              title=\"Convert this dataframe to an interactive table.\"\n",
              "              style=\"display:none;\">\n",
              "        \n",
              "  <svg xmlns=\"http://www.w3.org/2000/svg\" height=\"24px\"viewBox=\"0 0 24 24\"\n",
              "       width=\"24px\">\n",
              "    <path d=\"M0 0h24v24H0V0z\" fill=\"none\"/>\n",
              "    <path d=\"M18.56 5.44l.94 2.06.94-2.06 2.06-.94-2.06-.94-.94-2.06-.94 2.06-2.06.94zm-11 1L8.5 8.5l.94-2.06 2.06-.94-2.06-.94L8.5 2.5l-.94 2.06-2.06.94zm10 10l.94 2.06.94-2.06 2.06-.94-2.06-.94-.94-2.06-.94 2.06-2.06.94z\"/><path d=\"M17.41 7.96l-1.37-1.37c-.4-.4-.92-.59-1.43-.59-.52 0-1.04.2-1.43.59L10.3 9.45l-7.72 7.72c-.78.78-.78 2.05 0 2.83L4 21.41c.39.39.9.59 1.41.59.51 0 1.02-.2 1.41-.59l7.78-7.78 2.81-2.81c.8-.78.8-2.07 0-2.86zM5.41 20L4 18.59l7.72-7.72 1.47 1.35L5.41 20z\"/>\n",
              "  </svg>\n",
              "      </button>\n",
              "      \n",
              "  <style>\n",
              "    .colab-df-container {\n",
              "      display:flex;\n",
              "      flex-wrap:wrap;\n",
              "      gap: 12px;\n",
              "    }\n",
              "\n",
              "    .colab-df-convert {\n",
              "      background-color: #E8F0FE;\n",
              "      border: none;\n",
              "      border-radius: 50%;\n",
              "      cursor: pointer;\n",
              "      display: none;\n",
              "      fill: #1967D2;\n",
              "      height: 32px;\n",
              "      padding: 0 0 0 0;\n",
              "      width: 32px;\n",
              "    }\n",
              "\n",
              "    .colab-df-convert:hover {\n",
              "      background-color: #E2EBFA;\n",
              "      box-shadow: 0px 1px 2px rgba(60, 64, 67, 0.3), 0px 1px 3px 1px rgba(60, 64, 67, 0.15);\n",
              "      fill: #174EA6;\n",
              "    }\n",
              "\n",
              "    [theme=dark] .colab-df-convert {\n",
              "      background-color: #3B4455;\n",
              "      fill: #D2E3FC;\n",
              "    }\n",
              "\n",
              "    [theme=dark] .colab-df-convert:hover {\n",
              "      background-color: #434B5C;\n",
              "      box-shadow: 0px 1px 3px 1px rgba(0, 0, 0, 0.15);\n",
              "      filter: drop-shadow(0px 1px 2px rgba(0, 0, 0, 0.3));\n",
              "      fill: #FFFFFF;\n",
              "    }\n",
              "  </style>\n",
              "\n",
              "      <script>\n",
              "        const buttonEl =\n",
              "          document.querySelector('#df-6e71b9ec-5c3a-4f69-9db9-34f0be5589b1 button.colab-df-convert');\n",
              "        buttonEl.style.display =\n",
              "          google.colab.kernel.accessAllowed ? 'block' : 'none';\n",
              "\n",
              "        async function convertToInteractive(key) {\n",
              "          const element = document.querySelector('#df-6e71b9ec-5c3a-4f69-9db9-34f0be5589b1');\n",
              "          const dataTable =\n",
              "            await google.colab.kernel.invokeFunction('convertToInteractive',\n",
              "                                                     [key], {});\n",
              "          if (!dataTable) return;\n",
              "\n",
              "          const docLinkHtml = 'Like what you see? Visit the ' +\n",
              "            '<a target=\"_blank\" href=https://colab.research.google.com/notebooks/data_table.ipynb>data table notebook</a>'\n",
              "            + ' to learn more about interactive tables.';\n",
              "          element.innerHTML = '';\n",
              "          dataTable['output_type'] = 'display_data';\n",
              "          await google.colab.output.renderOutput(dataTable, element);\n",
              "          const docLink = document.createElement('div');\n",
              "          docLink.innerHTML = docLinkHtml;\n",
              "          element.appendChild(docLink);\n",
              "        }\n",
              "      </script>\n",
              "    </div>\n",
              "  </div>\n",
              "  "
            ]
          },
          "metadata": {},
          "execution_count": 57
        }
      ],
      "source": [
        "df[['price', 'Preço em R$', 'minimum_nights', 'number_of_reviews', 'reviews_per_month',\n",
        "    'calculated_host_listings_count', 'availability_365']].describe()"
      ]
    },
    {
      "cell_type": "markdown",
      "id": "e02bf96d",
      "metadata": {
        "id": "e02bf96d"
      },
      "source": [
        "De acordo com a tabela acima, podemos confirmar que existem valores outliers em nosso dataset. Observem que na coluna `minimum_nights` o valor máximo é igual a 1250, muito superior aos dias de um ano. E na coluna de preço, 75% do mesmo está abaixo de 834.75 reais, e o seu valor máximo é R$ 47.700"
      ]
    },
    {
      "cell_type": "markdown",
      "id": "b195542e",
      "metadata": {
        "id": "b195542e"
      },
      "source": [
        "#### Boxplot Preço em R$"
      ]
    },
    {
      "cell_type": "code",
      "execution_count": 58,
      "id": "ccf465f8",
      "metadata": {
        "scrolled": true,
        "colab": {
          "base_uri": "https://localhost:8080/",
          "height": 244
        },
        "id": "ccf465f8",
        "outputId": "f99bbba2-1fb9-4512-b07d-d1bdf6283b65"
      },
      "outputs": [
        {
          "output_type": "display_data",
          "data": {
            "text/plain": [
              "<Figure size 864x144 with 1 Axes>"
            ],
            "image/png": "[encoded data removed]"
          },
          "metadata": {
            "needs_background": "light"
          }
        },
        {
          "output_type": "stream",
          "name": "stdout",
          "text": [
            "Valores acima de 1500:\n",
            "4092 entradas\n",
            "8.37%\n"
          ]
        }
      ],
      "source": [
        "fig = plt.figure(figsize=(12,2))\n",
        "ax = fig.add_axes([0,0,1,1])\n",
        "ax.boxplot(df['Preço em R$'], vert=False)\n",
        "plt.show()\n",
        "\n",
        "print('Valores acima de 1500:')\n",
        "print('{} entradas'.format(len(df[df['Preço em R$'] > 1500])))\n",
        "print('{:.2f}%'.format((len(df[df['Preço em R$'] > 1500]) / df.shape[0])*100))"
      ]
    },
    {
      "cell_type": "markdown",
      "id": "fa3cdbf3",
      "metadata": {
        "id": "fa3cdbf3"
      },
      "source": [
        "Alguns valores extremamente discrepantes"
      ]
    },
    {
      "cell_type": "markdown",
      "id": "96a3a970",
      "metadata": {
        "id": "96a3a970"
      },
      "source": [
        "#### Boxplot minimum_nights"
      ]
    },
    {
      "cell_type": "code",
      "execution_count": 59,
      "id": "8342276b",
      "metadata": {
        "colab": {
          "base_uri": "https://localhost:8080/",
          "height": 244
        },
        "id": "8342276b",
        "outputId": "3dc2fb0c-67be-4f48-a9ee-d7d50740928c"
      },
      "outputs": [
        {
          "output_type": "display_data",
          "data": {
            "text/plain": [
              "<Figure size 864x144 with 1 Axes>"
            ],
            "image/png": "[encoded data removed]"
          },
          "metadata": {
            "needs_background": "light"
          }
        },
        {
          "output_type": "stream",
          "name": "stdout",
          "text": [
            "Valores acima de 30:\n",
            "747 entradas\n",
            "1.53%\n"
          ]
        }
      ],
      "source": [
        "fig = plt.figure(figsize=(12,2))\n",
        "ax = fig.add_axes([0,0,1,1])\n",
        "ax.boxplot(df['minimum_nights'], vert=False)\n",
        "plt.show()\n",
        "\n",
        "print('Valores acima de 30:')\n",
        "print('{} entradas'.format(len(df[df['minimum_nights'] > 30])))\n",
        "print('{:.2f}%'.format((len(df[df['minimum_nights'] > 30]) / df.shape[0])*100))"
      ]
    },
    {
      "cell_type": "markdown",
      "id": "3b04706d",
      "metadata": {
        "id": "3b04706d"
      },
      "source": [
        "Podemos observar que acima de 30 noites, já existem valores outliers. O máximo é 1250, é bem discrepante em relação aos demais"
      ]
    },
    {
      "cell_type": "markdown",
      "id": "db116209",
      "metadata": {
        "id": "db116209"
      },
      "source": [
        "#### Tratando Valores Outliers"
      ]
    },
    {
      "cell_type": "code",
      "execution_count": 60,
      "id": "8efbc821",
      "metadata": {
        "scrolled": true,
        "id": "8efbc821"
      },
      "outputs": [],
      "source": [
        "df_clear = df.copy()\n",
        "df_clear.drop(df_clear[df_clear['Preço em R$'] > 2000].index, axis=0, inplace=True)\n",
        "df_clear.drop(df_clear[df_clear.price > 1500].index, axis=0, inplace=True)\n",
        "df_clear.drop(df_clear[df_clear.minimum_nights > 30].index, axis=0, inplace=True)"
      ]
    },
    {
      "cell_type": "markdown",
      "id": "87b28c9c",
      "metadata": {
        "id": "87b28c9c"
      },
      "source": [
        "Após ter removido os valores discrepantes(outliers), vamos plotar novamente o seu histograma"
      ]
    },
    {
      "cell_type": "code",
      "execution_count": 61,
      "id": "e2b90252",
      "metadata": {
        "colab": {
          "base_uri": "https://localhost:8080/",
          "height": 716
        },
        "id": "e2b90252",
        "outputId": "d62ba6a7-b337-4e18-9959-b9cbb6ba64aa"
      },
      "outputs": [
        {
          "output_type": "display_data",
          "data": {
            "text/plain": [
              "<Figure size 1080x864 with 12 Axes>"
            ],
            "image/png": "[encoded data removed]"
          },
          "metadata": {
            "needs_background": "light"
          }
        }
      ],
      "source": [
        "df_clear.hist(bins=20, figsize=(15, 12), color='royalblue')\n",
        "plt.show()"
      ]
    },
    {
      "cell_type": "markdown",
      "id": "91e6f97f",
      "metadata": {
        "id": "91e6f97f"
      },
      "source": [
        "De maneira muito mais clara, podemos observar os histogramas e que grande parte do intervalo do `Preço em R$` está entre 150 e 750 reais. A quantidade de imóveis com preço maior que isso é bem menor.\n",
        "\n",
        "Finalmente com os valores livres de outliers, é possível extrair informações valiosas para quem quiser passear em Nova York. A seguir farei algumas perguntas relevantes aos dados."
      ]
    },
    {
      "cell_type": "markdown",
      "id": "ef138880",
      "metadata": {
        "id": "ef138880"
      },
      "source": [
        "### Q5. Algumas Perguntas Relevantes "
      ]
    },
    {
      "cell_type": "markdown",
      "id": "846e4743",
      "metadata": {
        "id": "846e4743"
      },
      "source": [
        "#### Qual o valor médio do aluguel na cidade de Nova York?"
      ]
    },
    {
      "cell_type": "code",
      "execution_count": 62,
      "id": "81d52c98",
      "metadata": {
        "colab": {
          "base_uri": "https://localhost:8080/"
        },
        "id": "81d52c98",
        "outputId": "945f93a6-0b9e-4b5c-8160-805cf9e0b51f"
      },
      "outputs": [
        {
          "output_type": "stream",
          "name": "stdout",
          "text": [
            "Média em R$: 628.52\n",
            "Média em US$: 124.46\n"
          ]
        }
      ],
      "source": [
        "#Fazer a média dos preços\n",
        "print('Média em R$: {:.2f}'.format(df_clear['Preço em R$'].mean()))\n",
        "print('Média em US$: {:.2f}'.format(df_clear['price'].mean()))"
      ]
    },
    {
      "cell_type": "markdown",
      "id": "6ffec83c",
      "metadata": {
        "id": "6ffec83c"
      },
      "source": [
        "A média dos preço do aluguel diário na cidade de Nova York é de 126.61 dolares, que é equivalente a aproximadamente 603.92 reais\n",
        "\n",
        "\n",
        "#### Quais os nomes das regiões que existem na cidade de Nova York?"
      ]
    },
    {
      "cell_type": "code",
      "execution_count": 63,
      "id": "3a805116",
      "metadata": {
        "colab": {
          "base_uri": "https://localhost:8080/"
        },
        "id": "3a805116",
        "outputId": "7e7629ed-9d09-486e-abc4-a256460a8d64"
      },
      "outputs": [
        {
          "output_type": "stream",
          "name": "stdout",
          "text": [
            "As regiõs em Nova York são:\n",
            "Brooklyn\n",
            "Manhattan\n",
            "Queens\n",
            "Staten Island\n",
            "Bronx\n"
          ]
        }
      ],
      "source": [
        "#Vamos ver o nome das regiões únicas da coluna \"neighbourhood_group\"\n",
        "unicos = df_clear['neighbourhood_group'].unique()\n",
        "print('As regiõs em Nova York são:')\n",
        "\n",
        "for regiao in unicos:\n",
        "    print(regiao)"
      ]
    },
    {
      "cell_type": "markdown",
      "id": "a73ebaca",
      "metadata": {
        "id": "a73ebaca"
      },
      "source": [
        "#### Qual o valor do aluguel diário mais caro da cidade de Nova York?"
      ]
    },
    {
      "cell_type": "code",
      "execution_count": 64,
      "id": "57a6a056",
      "metadata": {
        "colab": {
          "base_uri": "https://localhost:8080/"
        },
        "id": "57a6a056",
        "outputId": "586a103f-cd97-4122-9067-7d5a371aaddd"
      },
      "outputs": [
        {
          "output_type": "stream",
          "name": "stdout",
          "text": [
            "Mais caro em Dolar: 396\n",
            "Mais caro em Reais: 1999.80\n"
          ]
        }
      ],
      "source": [
        "#Ver o valor máximo do aluguel diário em Dolar e em Reais\n",
        "print('Mais caro em Dolar: {}'.format(df_clear['price'].max()))\n",
        "print('Mais caro em Reais: {:.2f}'.format(df_clear['Preço em R$'].max()))"
      ]
    },
    {
      "cell_type": "markdown",
      "id": "65ddeff4",
      "metadata": {
        "id": "65ddeff4"
      },
      "source": [
        "#### Quais são as categorias de imóveis que estão cadastradas dentro da base de dados da cidade de Nova York? \n"
      ]
    },
    {
      "cell_type": "code",
      "execution_count": 65,
      "id": "87c884a2",
      "metadata": {
        "colab": {
          "base_uri": "https://localhost:8080/"
        },
        "id": "87c884a2",
        "outputId": "b0696838-f145-4eff-f21a-a068dd7ffa17"
      },
      "outputs": [
        {
          "output_type": "stream",
          "name": "stdout",
          "text": [
            "Os tipos de locações que existem são: \n",
            "Private room\n",
            "Entire home/apt\n",
            "Shared room\n"
          ]
        }
      ],
      "source": [
        "#Para respondermos essa pergunta, vamos utilizar a coluna 'room_type'\n",
        "unico = df_clear['room_type'].unique()\n",
        "print('Os tipos de locações que existem são: ')\n",
        "\n",
        "for tipo in unico:\n",
        "    print(tipo)"
      ]
    },
    {
      "cell_type": "markdown",
      "id": "0eb495b1",
      "metadata": {
        "id": "0eb495b1"
      },
      "source": [
        "Os tipos acima correspondem a: \n",
        "* `Private room` - Apenas um quarto\n",
        "* `Entire home/apt` - Apartamento inteiro\n",
        "* `Shared room` - Quarto compartilhado"
      ]
    },
    {
      "cell_type": "markdown",
      "id": "f34f7e12",
      "metadata": {
        "id": "f34f7e12"
      },
      "source": [
        "#### Existem mais imóveis baratos ou caros?"
      ]
    },
    {
      "cell_type": "code",
      "execution_count": 66,
      "id": "b7071446",
      "metadata": {
        "colab": {
          "base_uri": "https://localhost:8080/",
          "height": 451
        },
        "id": "b7071446",
        "outputId": "e7087459-73d0-4fd0-9b08-63e16d20d78c"
      },
      "outputs": [
        {
          "output_type": "display_data",
          "data": {
            "text/plain": [
              "<Figure size 576x360 with 1 Axes>"
            ],
            "image/png": "[encoded data removed]"
          },
          "metadata": {
            "needs_background": "light"
          }
        }
      ],
      "source": [
        "#Vamos fazer uma vizualização para um mais fácil entendimento\n",
        "df_org = df_clear['price'].value_counts()\n",
        "\n",
        "fig = plt.figure(figsize=(8, 5))\n",
        "ax = fig.add_axes([0,0,1,1])\n",
        "\n",
        "ax.set_title('Comparação Imóveis: Baratos x Caros', fontsize=18, pad=10)\n",
        "ax.set_xlabel('Preço', fontsize=15)\n",
        "ax.set_ylabel('Quantidade', fontsize=15)\n",
        "\n",
        "ax.set_yticks([0, 50, 100, 150, 200])\n",
        "ax.set_yticklabels(['0', '50', '100', '150', '200'])\n",
        "\n",
        "ax.hist(df_org, bins=50)\n",
        "plt.show()"
      ]
    },
    {
      "cell_type": "markdown",
      "id": "c9f10bd0",
      "metadata": {
        "id": "c9f10bd0"
      },
      "source": [
        "Com este histograma, podemos perceber que existem mais imóveis baratos do que caros. Ficando a maioria de 30(140 reais) a 200(900 reais) dólares a diária."
      ]
    },
    {
      "cell_type": "markdown",
      "id": "c1ae8f8f",
      "metadata": {
        "id": "c1ae8f8f"
      },
      "source": [
        "#### Qual é o valor do aluguel mais caro de cada região? E o mais barato?"
      ]
    },
    {
      "cell_type": "code",
      "execution_count": 67,
      "id": "477880d5",
      "metadata": {
        "colab": {
          "base_uri": "https://localhost:8080/"
        },
        "id": "477880d5",
        "outputId": "c2b13646-0315-456d-c6cb-708f57d1db71"
      },
      "outputs": [
        {
          "output_type": "stream",
          "name": "stdout",
          "text": [
            "Em dolar: neighbourhood_group\n",
            "Bronx            390\n",
            "Brooklyn         395\n",
            "Manhattan        396\n",
            "Queens           396\n",
            "Staten Island    300\n",
            "Name: price, dtype: int64\n",
            "\n",
            "Em Real: neighbourhood_group\n",
            "Bronx            1969.50\n",
            "Brooklyn         1994.75\n",
            "Manhattan        1999.80\n",
            "Queens           1999.80\n",
            "Staten Island    1515.00\n",
            "Name: Preço em R$, dtype: float64\n"
          ]
        }
      ],
      "source": [
        "#Mais caro por região\n",
        "print('Em dolar: {}'.format(df_clear.groupby('neighbourhood_group')['price'].max()))\n",
        "print('\\nEm Real: {}'.format(df_clear.groupby('neighbourhood_group')['Preço em R$'].max()))"
      ]
    },
    {
      "cell_type": "code",
      "execution_count": 68,
      "id": "c9173d46",
      "metadata": {
        "colab": {
          "base_uri": "https://localhost:8080/"
        },
        "id": "c9173d46",
        "outputId": "49b21391-884b-4499-ae87-e0bc289e4935"
      },
      "outputs": [
        {
          "output_type": "stream",
          "name": "stdout",
          "text": [
            "Em dolar: neighbourhood_group\n",
            "Bronx            10\n",
            "Brooklyn         10\n",
            "Manhattan        10\n",
            "Queens           10\n",
            "Staten Island    13\n",
            "Name: price, dtype: int64\n",
            "\n",
            "Em Real: neighbourhood_group\n",
            "Bronx            50.50\n",
            "Brooklyn         50.50\n",
            "Manhattan        50.50\n",
            "Queens           50.50\n",
            "Staten Island    65.65\n",
            "Name: Preço em R$, dtype: float64\n"
          ]
        }
      ],
      "source": [
        "#Mais barato por região\n",
        "price = df_clear[df_clear['price'] > 0]\n",
        "preco = df_clear[df_clear['Preço em R$'] > 0]\n",
        "\n",
        "print('Em dolar: {}'.format(price.groupby('neighbourhood_group')['price'].min()))\n",
        "print('\\nEm Real: {}'.format(preco.groupby('neighbourhood_group')['Preço em R$'].min()))"
      ]
    },
    {
      "cell_type": "markdown",
      "id": "433c22c8",
      "metadata": {
        "id": "433c22c8"
      },
      "source": [
        "#### Qual a soma dos valores do aluguel por região? E qual o mais caro?"
      ]
    },
    {
      "cell_type": "code",
      "execution_count": 69,
      "id": "dc1c7da4",
      "metadata": {
        "colab": {
          "base_uri": "https://localhost:8080/",
          "height": 578
        },
        "id": "dc1c7da4",
        "outputId": "f78a12d8-d361-4e9b-a0c4-deede863a357"
      },
      "outputs": [
        {
          "output_type": "display_data",
          "data": {
            "text/plain": [
              "<Figure size 576x360 with 1 Axes>"
            ],
            "image/png": "[encoded data removed]"
          },
          "metadata": {
            "needs_background": "light"
          }
        },
        {
          "output_type": "stream",
          "name": "stdout",
          "text": [
            "neighbourhood_group\n",
            "Manhattan        3015135\n",
            "Brooklyn         2104635\n",
            "Queens            502642\n",
            "Bronx              84066\n",
            "Staten Island      32311\n",
            "Name: price, dtype: int64\n"
          ]
        }
      ],
      "source": [
        "#Vamos plotar um gráfico de barras para melhor vizualização\n",
        "cores = {'Manhattan': 'red',\n",
        "         'Brooklyn': 'darkorange',\n",
        "         'Queens': 'yellow',\n",
        "         'Bronx': 'lawngreen',\n",
        "         'Staten Island':'dodgerblue'}\n",
        "labels = list(cores.keys())\n",
        "\n",
        "y = (df_clear.groupby('neighbourhood_group')['price'].sum()).sort_values(ascending=False)\n",
        "\n",
        "fig = plt.figure(figsize=(8,5))\n",
        "ax = fig.add_axes([1,1,1,1])\n",
        "\n",
        "ax.bar(labels, y, color=cores.values(), alpha=0.9)\n",
        "ax.set_title('Regiões mais carass (Ordem decrescente)', fontsize=18, pad=15)\n",
        "ax.set_xlabel('Regiões', fontsize=15)\n",
        "ax.set_ylabel('Preço Em Dolar', fontsize=15)\n",
        "\n",
        "ax.set_yticks([0, 500000, 1000000, 1500000, 2000000, 2500000, 3000000])\n",
        "ax.set_yticklabels(['0', '500.000', '1.000.000', '1.500.000', '2.000.000', '2.500.000', '3.000.000'])\n",
        "\n",
        "handles = [plt.Rectangle((0,0),1,1, color=cores[label]) for label in labels]\n",
        "ax.legend(handles, labels)\n",
        "plt.show()\n",
        "\n",
        "print(y)"
      ]
    },
    {
      "cell_type": "markdown",
      "id": "17b67c95",
      "metadata": {
        "id": "17b67c95"
      },
      "source": [
        "Após contruirmos o gráfico, podemos concluir que a região em que se é mais caro para alugar é Manhattan.\n",
        "\n",
        "\n",
        "### Por que Manhattan é a região mais cara?"
      ]
    },
    {
      "cell_type": "markdown",
      "id": "58fc3fef",
      "metadata": {
        "id": "58fc3fef"
      },
      "source": [
        "Considerado o coração de Nova York, Manhattan é um distrito rico, cosmopolita e efervescente, que apresenta bem o que esperar de uma viagem à chamada Big Apple, na Costa Leste dos Estados Unidos. Recebendo um total de 34,6 milhões de visitantes no ano de 2021.\n",
        "\n",
        "\n",
        "<center><img alt=\"Analisando Airbnb\" width=\"10%\" src=\"https://www.area360.com.au/wp-content/uploads/2017/09/airbnb-logo.jpg\"></center>\n",
        "\n",
        "<img src=\"https://images.alphacoders.com/102/1026379.jpg\"/>\n",
        "\n",
        "\n",
        "Manhattan possui alguns dos pontos turisticos mais movimentados do mundo, tais como: \n",
        "* `Times Square` -  É uma imensa avenida onde letreiros coloridos e outdoors chamativos disputam espaço com artistas de rua, lojas, trânsito e várias atrações incríveis, onde mais de 300 mil pessoas visitam a avenida todos os dias.\n",
        "\n",
        "\n",
        "* `Central Park` - O parque mais famoso do planeta ocupa uma área de mais de 3,4 km² no coração da cidade, como se fosse um grande oásis em meio à selva urbana.\n",
        "\n",
        "\n",
        "* `Empire State Building` - Um dos edifícios mais famosos do mundo, o Empire State Building foi construído no começo da década de 1930 e reinou absoluto sobre Nova York até meados da década de 1972, quando as Torres Gêmeas foram construídas\n",
        "\n",
        "\n",
        "* `Museus` - Os principais museus de Nova York ficam no distrito, como o Metropolitan Museum of Art (MET), o Museu de Arte Moderna (MoMa) e o Whitney Museum of Art.\n",
        "\n",
        "\n",
        "\n",
        "Devidos a essas e muitas outras atrações, que contribuem para que Manhattan se torne a região mais cara de Nova York."
      ]
    },
    {
      "cell_type": "markdown",
      "id": "5de3e2a2",
      "metadata": {
        "id": "5de3e2a2"
      },
      "source": [
        "### Q6. Conseguimos saber onde estão localizados os imóveis com o valor do aluguel mais caro?\n",
        "\n",
        "Para finalizar nossa análise, vou montar um mapa aonde estão localizados os imóveis com o valor do aluguel mais caro."
      ]
    },
    {
      "cell_type": "code",
      "execution_count": 70,
      "id": "4bf55036",
      "metadata": {
        "colab": {
          "base_uri": "https://localhost:8080/",
          "height": 760
        },
        "id": "4bf55036",
        "outputId": "c7353095-19f4-408e-8e67-a05962792ad2"
      },
      "outputs": [
        {
          "output_type": "execute_result",
          "data": {
            "text/plain": [
              "<folium.folium.Map at 0x7fdc8431c460>"
            ],
            "text/html": [
              "<div style=\"width:100%;\"><div style=\"position:relative;width:100%;height:0;padding-bottom:60%;\"><span style=\"color:#565656\">Make this Notebook Trusted to load map: File -> Trust Notebook</span><iframe srcdoc=\"&lt;!DOCTYPE html&gt;\n",
              "&lt;html&gt;\n",
              "&lt;head&gt;\n",
              "    \n",
              "    &lt;meta http-equiv=&quot;content-type&quot; content=&quot;text/html; charset=UTF-8&quot; /&gt;\n",
              "    \n",
              "        &lt;script&gt;\n",
              "            L_NO_TOUCH = false;\n",
              "            L_DISABLE_3D = false;\n",
              "        &lt;/script&gt;\n",
              "    \n",
              "    &lt;style&gt;html, body {width: 100%;height: 100%;margin: 0;padding: 0;}&lt;/style&gt;\n",
              "    &lt;style&gt;#map {position:absolute;top:0;bottom:0;right:0;left:0;}&lt;/style&gt;\n",
              "    &lt;script src=&quot;https://cdn.jsdelivr.net/npm/leaflet@1.6.0/dist/leaflet.js&quot;&gt;&lt;/script&gt;\n",
              "    &lt;script src=&quot;https://code.jquery.com/jquery-1.12.4.min.js&quot;&gt;&lt;/script&gt;\n",
              "    &lt;script src=&quot;https://maxcdn.bootstrapcdn.com/bootstrap/3.2.0/js/bootstrap.min.js&quot;&gt;&lt;/script&gt;\n",
              "    &lt;script src=&quot;https://cdnjs.cloudflare.com/ajax/libs/Leaflet.awesome-markers/2.0.2/leaflet.awesome-markers.js&quot;&gt;&lt;/script&gt;\n",
              "    &lt;link rel=&quot;stylesheet&quot; href=&quot;https://cdn.jsdelivr.net/npm/leaflet@1.6.0/dist/leaflet.css&quot;/&gt;\n",
              "    &lt;link rel=&quot;stylesheet&quot; href=&quot;https://maxcdn.bootstrapcdn.com/bootstrap/3.2.0/css/bootstrap.min.css&quot;/&gt;\n",
              "    &lt;link rel=&quot;stylesheet&quot; href=&quot;https://maxcdn.bootstrapcdn.com/bootstrap/3.2.0/css/bootstrap-theme.min.css&quot;/&gt;\n",
              "    &lt;link rel=&quot;stylesheet&quot; href=&quot;https://maxcdn.bootstrapcdn.com/font-awesome/4.6.3/css/font-awesome.min.css&quot;/&gt;\n",
              "    &lt;link rel=&quot;stylesheet&quot; href=&quot;https://cdnjs.cloudflare.com/ajax/libs/Leaflet.awesome-markers/2.0.2/leaflet.awesome-markers.css&quot;/&gt;\n",
              "    &lt;link rel=&quot;stylesheet&quot; href=&quot;https://cdn.jsdelivr.net/gh/python-visualization/folium/folium/templates/leaflet.awesome.rotate.min.css&quot;/&gt;\n",
              "    \n",
              "            &lt;meta name=&quot;viewport&quot; content=&quot;width=device-width,\n",
              "                initial-scale=1.0, maximum-scale=1.0, user-scalable=no&quot; /&gt;\n",
              "            &lt;style&gt;\n",
              "                #map_6499b0388f9f43cd3ccac769a19c7715 {\n",
              "                    position: relative;\n",
              "                    width: 100.0%;\n",
              "                    height: 100.0%;\n",
              "                    left: 0.0%;\n",
              "                    top: 0.0%;\n",
              "                }\n",
              "            &lt;/style&gt;\n",
              "        \n",
              "&lt;/head&gt;\n",
              "&lt;body&gt;\n",
              "    \n",
              "    \n",
              "            &lt;div class=&quot;folium-map&quot; id=&quot;map_6499b0388f9f43cd3ccac769a19c7715&quot; &gt;&lt;/div&gt;\n",
              "        \n",
              "&lt;/body&gt;\n",
              "&lt;script&gt;\n",
              "    \n",
              "    \n",
              "            var map_6499b0388f9f43cd3ccac769a19c7715 = L.map(\n",
              "                &quot;map_6499b0388f9f43cd3ccac769a19c7715&quot;,\n",
              "                {\n",
              "                    center: [0, 0],\n",
              "                    crs: L.CRS.EPSG3857,\n",
              "                    zoom: 1,\n",
              "                    zoomControl: true,\n",
              "                    preferCanvas: false,\n",
              "                }\n",
              "            );\n",
              "\n",
              "            \n",
              "\n",
              "        \n",
              "    \n",
              "            var tile_layer_4ad381dfe16cf1c869971d2e2feefd36 = L.tileLayer(\n",
              "                &quot;https://{s}.tile.openstreetmap.org/{z}/{x}/{y}.png&quot;,\n",
              "                {&quot;attribution&quot;: &quot;Data by \\u0026copy; \\u003ca href=\\&quot;http://openstreetmap.org\\&quot;\\u003eOpenStreetMap\\u003c/a\\u003e, under \\u003ca href=\\&quot;http://www.openstreetmap.org/copyright\\&quot;\\u003eODbL\\u003c/a\\u003e.&quot;, &quot;detectRetina&quot;: false, &quot;maxNativeZoom&quot;: 18, &quot;maxZoom&quot;: 18, &quot;minZoom&quot;: 0, &quot;noWrap&quot;: false, &quot;opacity&quot;: 1, &quot;subdomains&quot;: &quot;abc&quot;, &quot;tms&quot;: false}\n",
              "            ).addTo(map_6499b0388f9f43cd3ccac769a19c7715);\n",
              "        \n",
              "    \n",
              "            var marker_e79d32c7290c0f19a7c35cc2b78a224d = L.marker(\n",
              "                [40.91306, -73.78158],\n",
              "                {}\n",
              "            ).addTo(map_6499b0388f9f43cd3ccac769a19c7715);\n",
              "        \n",
              "    \n",
              "        var popup_49bfe833626d20a61fa92f600a7c50f0 = L.popup({&quot;maxWidth&quot;: &quot;100%&quot;});\n",
              "\n",
              "        \n",
              "            var html_67639da2cfadd8cb789a8222749e5af0 = $(`&lt;div id=&quot;html_67639da2cfadd8cb789a8222749e5af0&quot; style=&quot;width: 100.0%; height: 100.0%;&quot;&gt;Bronx&lt;/div&gt;`)[0];\n",
              "            popup_49bfe833626d20a61fa92f600a7c50f0.setContent(html_67639da2cfadd8cb789a8222749e5af0);\n",
              "        \n",
              "\n",
              "        marker_e79d32c7290c0f19a7c35cc2b78a224d.bindPopup(popup_49bfe833626d20a61fa92f600a7c50f0)\n",
              "        ;\n",
              "\n",
              "        \n",
              "    \n",
              "    \n",
              "            var marker_879a5a9dd5a3bcd350c8a23718bb3244 = L.marker(\n",
              "                [40.7389, -73.85676],\n",
              "                {}\n",
              "            ).addTo(map_6499b0388f9f43cd3ccac769a19c7715);\n",
              "        \n",
              "    \n",
              "        var popup_9000a098f7028f29c095fa540bd569be = L.popup({&quot;maxWidth&quot;: &quot;100%&quot;});\n",
              "\n",
              "        \n",
              "            var html_c242cd356abc894904c7a5247ad6094a = $(`&lt;div id=&quot;html_c242cd356abc894904c7a5247ad6094a&quot; style=&quot;width: 100.0%; height: 100.0%;&quot;&gt;Brooklyn&lt;/div&gt;`)[0];\n",
              "            popup_9000a098f7028f29c095fa540bd569be.setContent(html_c242cd356abc894904c7a5247ad6094a);\n",
              "        \n",
              "\n",
              "        marker_879a5a9dd5a3bcd350c8a23718bb3244.bindPopup(popup_9000a098f7028f29c095fa540bd569be)\n",
              "        ;\n",
              "\n",
              "        \n",
              "    \n",
              "    \n",
              "            var marker_df248a74329c43d61464ec98590a1da9 = L.marker(\n",
              "                [40.87665, -73.90855],\n",
              "                {}\n",
              "            ).addTo(map_6499b0388f9f43cd3ccac769a19c7715);\n",
              "        \n",
              "    \n",
              "        var popup_7563d2b557baba2807ca025bd32b6218 = L.popup({&quot;maxWidth&quot;: &quot;100%&quot;});\n",
              "\n",
              "        \n",
              "            var html_2f0fe1fddc11e4d41a384d7558003f75 = $(`&lt;div id=&quot;html_2f0fe1fddc11e4d41a384d7558003f75&quot; style=&quot;width: 100.0%; height: 100.0%;&quot;&gt;Manhattan&lt;/div&gt;`)[0];\n",
              "            popup_7563d2b557baba2807ca025bd32b6218.setContent(html_2f0fe1fddc11e4d41a384d7558003f75);\n",
              "        \n",
              "\n",
              "        marker_df248a74329c43d61464ec98590a1da9.bindPopup(popup_7563d2b557baba2807ca025bd32b6218)\n",
              "        ;\n",
              "\n",
              "        \n",
              "    \n",
              "    \n",
              "            var marker_be3a1afaa8ec61b2111a6273039d9f8c = L.marker(\n",
              "                [40.79511, -73.71299],\n",
              "                {}\n",
              "            ).addTo(map_6499b0388f9f43cd3ccac769a19c7715);\n",
              "        \n",
              "    \n",
              "        var popup_8b94742e85acfce53e971ae21498b649 = L.popup({&quot;maxWidth&quot;: &quot;100%&quot;});\n",
              "\n",
              "        \n",
              "            var html_90d3d810a9f8594bdc05fad3f580e4ae = $(`&lt;div id=&quot;html_90d3d810a9f8594bdc05fad3f580e4ae&quot; style=&quot;width: 100.0%; height: 100.0%;&quot;&gt;Queens&lt;/div&gt;`)[0];\n",
              "            popup_8b94742e85acfce53e971ae21498b649.setContent(html_90d3d810a9f8594bdc05fad3f580e4ae);\n",
              "        \n",
              "\n",
              "        marker_be3a1afaa8ec61b2111a6273039d9f8c.bindPopup(popup_8b94742e85acfce53e971ae21498b649)\n",
              "        ;\n",
              "\n",
              "        \n",
              "    \n",
              "    \n",
              "            var marker_b36373967849e93da7c4f644e4dfe6ce = L.marker(\n",
              "                [40.64779, -74.06208],\n",
              "                {}\n",
              "            ).addTo(map_6499b0388f9f43cd3ccac769a19c7715);\n",
              "        \n",
              "    \n",
              "        var popup_1c50f5a94f512a2655a56459d36d46e2 = L.popup({&quot;maxWidth&quot;: &quot;100%&quot;});\n",
              "\n",
              "        \n",
              "            var html_a76817419bafe367806dbae5d67c59bf = $(`&lt;div id=&quot;html_a76817419bafe367806dbae5d67c59bf&quot; style=&quot;width: 100.0%; height: 100.0%;&quot;&gt;Staten Island&lt;/div&gt;`)[0];\n",
              "            popup_1c50f5a94f512a2655a56459d36d46e2.setContent(html_a76817419bafe367806dbae5d67c59bf);\n",
              "        \n",
              "\n",
              "        marker_b36373967849e93da7c4f644e4dfe6ce.bindPopup(popup_1c50f5a94f512a2655a56459d36d46e2)\n",
              "        ;\n",
              "\n",
              "        \n",
              "    \n",
              "&lt;/script&gt;\n",
              "&lt;/html&gt;\" style=\"position:absolute;width:100%;height:100%;left:0;top:0;border:none !important;\" allowfullscreen webkitallowfullscreen mozallowfullscreen></iframe></div></div>"
            ]
          },
          "metadata": {},
          "execution_count": 70
        }
      ],
      "source": [
        "#Conjunto de dados com as coordenadas\n",
        "colunas = ['price','neighbourhood_group','latitude','longitude']\n",
        "data_plot = df_clear.loc[:, colunas].groupby('neighbourhood_group').max().reset_index()\n",
        "\n",
        "#Um comando para desenhar um mapa\n",
        "mapa = folium.Map()\n",
        "\n",
        "#Colocar os pontos de latitude e longitude dentro do mapa\n",
        "for index, location_info in data_plot.iterrows():\n",
        "    folium.Marker([location_info['latitude'], location_info['longitude']],\n",
        "                  popup=location_info['neighbourhood_group']).add_to(mapa)\n",
        "    \n",
        "mapa"
      ]
    },
    {
      "cell_type": "markdown",
      "id": "a729d073",
      "metadata": {
        "id": "a729d073"
      },
      "source": [
        "E assim de forma clara com este mapa, que finalizo este projeto. Logo abaixo segue algumas conclusões dessas análises feitas."
      ]
    },
    {
      "cell_type": "markdown",
      "id": "963937bd",
      "metadata": {
        "id": "963937bd"
      },
      "source": [
        "## Conclusões"
      ]
    },
    {
      "cell_type": "markdown",
      "id": "3e10868d",
      "metadata": {
        "id": "3e10868d"
      },
      "source": [
        "Podemos concluir que uma análise de dados bem feita, é muito importante e é possivel retirar informações relevantes para responder não só uma, mas várias perguntas. Por exemplo, nós vemos a média dos preços dos imóveis, detectamos valores outliers, removemos os mesmos, fizemos uma vizualização de dados. Respondemos perguntas que, para quem tem interesse de conhcer a cidade de Nova York, já vai ter uma noção bem ampla sobre os locais onde quiserem se hospedar.\n",
        "\n",
        "E por fim, montei um mapa para podermos vizualizar exatamente onde estão os imóveis mais caros de cada região de Nova York."
      ]
    }
  ],
  "metadata": {
    "kernelspec": {
      "display_name": "Python 3 (ipykernel)",
      "language": "python",
      "name": "python3"
    },
    "language_info": {
      "codemirror_mode": {
        "name": "ipython",
        "version": 3
      },
      "file_extension": ".py",
      "mimetype": "text/x-python",
      "name": "python",
      "nbconvert_exporter": "python",
      "pygments_lexer": "ipython3",
      "version": "3.9.7"
    },
    "colab": {
      "provenance": [],
      "include_colab_link": true
    }
  },
  "nbformat": 4,
  "nbformat_minor": 5
}