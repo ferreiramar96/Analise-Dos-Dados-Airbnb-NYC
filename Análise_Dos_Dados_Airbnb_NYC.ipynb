{
  "cells": [
    {
      "cell_type": "markdown",
      "metadata": {
        "id": "view-in-github",
        "colab_type": "text"
      },
      "source": [
        "<a href=\"https://colab.research.google.com/github/ferreiramar96/Analise-Dos-Dados-Airbnb-NYC/blob/main/An%C3%A1lise_Dos_Dados_Airbnb_NYC.ipynb\" target=\"_parent\"><img src=\"https://colab.research.google.com/assets/colab-badge.svg\" alt=\"Open In Colab\"/></a>"
      ]
    },
    {
      "cell_type": "markdown",
      "id": "ed15c675",
      "metadata": {
        "id": "ed15c675"
      },
      "source": [
        "# Análise dos Dados do Airbnb - *Nova York*\n",
        "\n",
        "O [Airbnb](https://www.airbnb.com.br/) é uma plataforma para alugar acomodação por temporada e promover experiências únicas. Só que tem um fato curioso sobre esta empresa, **eles não possuem nenhum hotel**!\n",
        "\n",
        "A empresa ajuda a tornar o compartilhamento fácil, agradável e seguro. Perfis pessoais e anúncios são verificados, eles matém um sistema de mensagens inteligente para que anfitriões e hóspedes possam se comunicar com segurança e gerenciam uma plataforma confiável para recolher e transferir pagamentos.\n",
        "\n",
        "Em meados de 2021, A Startup fundada 13 anos atrás(2008), chegou a marca impressionante de **1 bilhão de pessoas hospedadas**, e bem na semana em que se comemora o Dia Mundia do Turismo.\n",
        "\n",
        "Uma das iniciativas do Airbnb é disponibilizar dados de sua empresa em algumas cidades. Por meio do site [Inside Airbnb](http://insideairbnb.com/get-the-data/), Dessa forma sendo possivel realizar o download desses dados e serem feitos projetos e análise de dados de *Data Science*.\n",
        "\n",
        "<center><img alt=\"Analisando Airbnb\" width=\"10%\" src=\"https://www.area360.com.au/wp-content/uploads/2017/09/airbnb-logo.jpg\"></center>\n",
        "\n",
        "\n",
        "<center><b>O PROJETO A SEGUIR SERÁ REALIZADO UTILIZANDO OS DADOS DO AIRBNB DE NOVA YORK</b></center>\n",
        "\n",
        "\n",
        "<img src=\"new_york_city_10.png\"/>\n",
        "\n",
        "Segundo o site [Melhores Destinos](https://www.melhoresdestinos.com.br/cidades-mais-visitadas-do-mundo.html) a cidade de Nova York é impressionante por diversos motivos. É um lugar onde ao lado de arranha-céus, vivem parques extremamente arborizados. Além disso temos também vários pontos turísticos como: A Estátua da Liberdade, Times Square, Central Park e Empire State, Entre muitos outros.\n",
        "\n",
        "Com **mais de 50 milhões de visitantes por ano**, mais de 8 milhões de moradores, mais de 400 estações de metrô, milhares de restaurantes, diversos museus, muitas lojas e uma infinidade de pontos turísticos para conhecer - Nova York é assim, uma das cidades mais espetaculares do mundo, com uma variedade incrível de coisas para ver e fazer. Ela é a **cidade mais populosa dos Estados Unidos**, cenário de centenas filmes e um destino capaz de agradar pessoas com gostos completamente distintos.\n",
        "\n",
        "Como a cidade é muito visitada, é importante obtermos informações à respeito dos imóveis.Imagine que você queira visita-la, mas não tem nenhuma informação sobre preço das diárias dos hoteis, quantos dias ficar na cidade, quais os mais caros ou mais baratos, etc. Sendo assim, uma análise exploratória dos dados se faz crucial. Este é o objetivo do presente projeto."
      ]
    },
    {
      "cell_type": "markdown",
      "id": "7c2c4323",
      "metadata": {
        "id": "7c2c4323"
      },
      "source": [
        "## Obtenção dos Dados\n",
        "\n",
        "Todos os dados foram retirados do site do [Inside Airbnb](http://insideairbnb.com/get-the-data.html). Está é uma versão dos dados atualizados de 2019"
      ]
    },
    {
      "cell_type": "code",
      "execution_count": null,
      "id": "70eab2a9",
      "metadata": {
        "id": "70eab2a9"
      },
      "outputs": [],
      "source": [
        "# Importando os pacotes nescessários\n",
        "import pandas as pd\n",
        "import numpy as np\n",
        "import matplotlib.pyplot as plt\n",
        "import folium\n",
        "\n",
        "%matplotlib inline"
      ]
    },
    {
      "cell_type": "code",
      "execution_count": null,
      "id": "209b0bf7",
      "metadata": {
        "id": "209b0bf7"
      },
      "outputs": [],
      "source": [
        "# Importandos os dados para o nosso notebook\n",
        "df = pd.read_csv('airbnb_nyc_2019.csv')"
      ]
    },
    {
      "cell_type": "markdown",
      "id": "eb3e9cc2",
      "metadata": {
        "id": "eb3e9cc2"
      },
      "source": [
        "## Análise dos Dados"
      ]
    },
    {
      "cell_type": "markdown",
      "id": "0a4a9406",
      "metadata": {
        "id": "0a4a9406"
      },
      "source": [
        "Começando aqui nossa análise de dados, para podermos extrair informações relevantes para quem quiser conhcer a cidade americana."
      ]
    },
    {
      "cell_type": "markdown",
      "id": "67369aa5",
      "metadata": {
        "id": "67369aa5"
      },
      "source": [
        "**Colunas do Dataset**\n",
        "\n",
        "* `id` - Identificador do registro na base de dados\n",
        "* `name` - Nome do Anúncio na plataforma do Airbnb\n",
        "* `host_id` - Número de id do proprietário (anfitrião) da propriedade\n",
        "* `host_name` - Nome do anfitrião\n",
        "* `neighbourhood_group` - Região da Cidade de Nova York\n",
        "* `neighbourhood` - Bairro (Está dentro de uma das Regiões)\n",
        "* `latitude` - Coordenada da latitude da propriedade\n",
        "* `longitude` - Coordenada da longitude da propriedade\n",
        "* `room_type` - Tipo da Locação (Quarto, Casa inteira, etc)\n",
        "* `price` - Preço do aluguel (diária)\n",
        "* `minimum_nights` - Diárias Mínimas para Locação\n",
        "* `number_of_reviews` - Quantidade de Avaliações\n",
        "* `last_review` - Data do último review\n",
        "* `reviews_per_month` - Quantidade de reviews por mês\n",
        "* `calculated_host_listings_count` - Quantidade de Anúncios do Host do Imóvel\n",
        "* `availability_365` - Tempo (dias) em que o anúncio está disponível\n",
        "\n",
        "\n",
        "A seguir vamos verificar as 5 primeiras linhas do nosso dataset"
      ]
    },
    {
      "cell_type": "code",
      "execution_count": null,
      "id": "75143dd9",
      "metadata": {
        "id": "75143dd9",
        "outputId": "28e9c801-a296-4142-893b-edf425829011"
      },
      "outputs": [
        {
          "data": {
            "text/html": [
              "<div>\n",
              "<style scoped>\n",
              "    .dataframe tbody tr th:only-of-type {\n",
              "        vertical-align: middle;\n",
              "    }\n",
              "\n",
              "    .dataframe tbody tr th {\n",
              "        vertical-align: top;\n",
              "    }\n",
              "\n",
              "    .dataframe thead th {\n",
              "        text-align: right;\n",
              "    }\n",
              "</style>\n",
              "<table border=\"1\" class=\"dataframe\">\n",
              "  <thead>\n",
              "    <tr style=\"text-align: right;\">\n",
              "      <th></th>\n",
              "      <th>id</th>\n",
              "      <th>name</th>\n",
              "      <th>host_id</th>\n",
              "      <th>host_name</th>\n",
              "      <th>neighbourhood_group</th>\n",
              "      <th>neighbourhood</th>\n",
              "      <th>latitude</th>\n",
              "      <th>longitude</th>\n",
              "      <th>room_type</th>\n",
              "      <th>price</th>\n",
              "      <th>minimum_nights</th>\n",
              "      <th>number_of_reviews</th>\n",
              "      <th>last_review</th>\n",
              "      <th>reviews_per_month</th>\n",
              "      <th>calculated_host_listings_count</th>\n",
              "      <th>availability_365</th>\n",
              "    </tr>\n",
              "  </thead>\n",
              "  <tbody>\n",
              "    <tr>\n",
              "      <th>0</th>\n",
              "      <td>2539</td>\n",
              "      <td>Clean &amp; quiet apt home by the park</td>\n",
              "      <td>2787</td>\n",
              "      <td>John</td>\n",
              "      <td>Brooklyn</td>\n",
              "      <td>Kensington</td>\n",
              "      <td>40.64749</td>\n",
              "      <td>-73.97237</td>\n",
              "      <td>Private room</td>\n",
              "      <td>149</td>\n",
              "      <td>1</td>\n",
              "      <td>9</td>\n",
              "      <td>2018-10-19</td>\n",
              "      <td>0.21</td>\n",
              "      <td>6</td>\n",
              "      <td>365</td>\n",
              "    </tr>\n",
              "    <tr>\n",
              "      <th>1</th>\n",
              "      <td>2595</td>\n",
              "      <td>Skylit Midtown Castle</td>\n",
              "      <td>2845</td>\n",
              "      <td>Jennifer</td>\n",
              "      <td>Manhattan</td>\n",
              "      <td>Midtown</td>\n",
              "      <td>40.75362</td>\n",
              "      <td>-73.98377</td>\n",
              "      <td>Entire home/apt</td>\n",
              "      <td>225</td>\n",
              "      <td>1</td>\n",
              "      <td>45</td>\n",
              "      <td>2019-05-21</td>\n",
              "      <td>0.38</td>\n",
              "      <td>2</td>\n",
              "      <td>355</td>\n",
              "    </tr>\n",
              "    <tr>\n",
              "      <th>2</th>\n",
              "      <td>3647</td>\n",
              "      <td>THE VILLAGE OF HARLEM....NEW YORK !</td>\n",
              "      <td>4632</td>\n",
              "      <td>Elisabeth</td>\n",
              "      <td>Manhattan</td>\n",
              "      <td>Harlem</td>\n",
              "      <td>40.80902</td>\n",
              "      <td>-73.94190</td>\n",
              "      <td>Private room</td>\n",
              "      <td>150</td>\n",
              "      <td>3</td>\n",
              "      <td>0</td>\n",
              "      <td>NaN</td>\n",
              "      <td>NaN</td>\n",
              "      <td>1</td>\n",
              "      <td>365</td>\n",
              "    </tr>\n",
              "    <tr>\n",
              "      <th>3</th>\n",
              "      <td>3831</td>\n",
              "      <td>Cozy Entire Floor of Brownstone</td>\n",
              "      <td>4869</td>\n",
              "      <td>LisaRoxanne</td>\n",
              "      <td>Brooklyn</td>\n",
              "      <td>Clinton Hill</td>\n",
              "      <td>40.68514</td>\n",
              "      <td>-73.95976</td>\n",
              "      <td>Entire home/apt</td>\n",
              "      <td>89</td>\n",
              "      <td>1</td>\n",
              "      <td>270</td>\n",
              "      <td>2019-07-05</td>\n",
              "      <td>4.64</td>\n",
              "      <td>1</td>\n",
              "      <td>194</td>\n",
              "    </tr>\n",
              "    <tr>\n",
              "      <th>4</th>\n",
              "      <td>5022</td>\n",
              "      <td>Entire Apt: Spacious Studio/Loft by central park</td>\n",
              "      <td>7192</td>\n",
              "      <td>Laura</td>\n",
              "      <td>Manhattan</td>\n",
              "      <td>East Harlem</td>\n",
              "      <td>40.79851</td>\n",
              "      <td>-73.94399</td>\n",
              "      <td>Entire home/apt</td>\n",
              "      <td>80</td>\n",
              "      <td>10</td>\n",
              "      <td>9</td>\n",
              "      <td>2018-11-19</td>\n",
              "      <td>0.10</td>\n",
              "      <td>1</td>\n",
              "      <td>0</td>\n",
              "    </tr>\n",
              "  </tbody>\n",
              "</table>\n",
              "</div>"
            ],
            "text/plain": [
              "     id                                              name  host_id  \\\n",
              "0  2539                Clean & quiet apt home by the park     2787   \n",
              "1  2595                             Skylit Midtown Castle     2845   \n",
              "2  3647               THE VILLAGE OF HARLEM....NEW YORK !     4632   \n",
              "3  3831                   Cozy Entire Floor of Brownstone     4869   \n",
              "4  5022  Entire Apt: Spacious Studio/Loft by central park     7192   \n",
              "\n",
              "     host_name neighbourhood_group neighbourhood  latitude  longitude  \\\n",
              "0         John            Brooklyn    Kensington  40.64749  -73.97237   \n",
              "1     Jennifer           Manhattan       Midtown  40.75362  -73.98377   \n",
              "2    Elisabeth           Manhattan        Harlem  40.80902  -73.94190   \n",
              "3  LisaRoxanne            Brooklyn  Clinton Hill  40.68514  -73.95976   \n",
              "4        Laura           Manhattan   East Harlem  40.79851  -73.94399   \n",
              "\n",
              "         room_type  price  minimum_nights  number_of_reviews last_review  \\\n",
              "0     Private room    149               1                  9  2018-10-19   \n",
              "1  Entire home/apt    225               1                 45  2019-05-21   \n",
              "2     Private room    150               3                  0         NaN   \n",
              "3  Entire home/apt     89               1                270  2019-07-05   \n",
              "4  Entire home/apt     80              10                  9  2018-11-19   \n",
              "\n",
              "   reviews_per_month  calculated_host_listings_count  availability_365  \n",
              "0               0.21                               6               365  \n",
              "1               0.38                               2               355  \n",
              "2                NaN                               1               365  \n",
              "3               4.64                               1               194  \n",
              "4               0.10                               1                 0  "
            ]
          },
          "execution_count": 125,
          "metadata": {},
          "output_type": "execute_result"
        }
      ],
      "source": [
        "#Mostrando 5 primeiras linhas do nosso conjunto de dados\n",
        "df.head()"
      ]
    },
    {
      "cell_type": "markdown",
      "id": "65c2bbfe",
      "metadata": {
        "id": "65c2bbfe"
      },
      "source": [
        "Para realizar uma análise mais clara, vou converter o valor de dólares para reais."
      ]
    },
    {
      "cell_type": "code",
      "execution_count": null,
      "id": "1310a47e",
      "metadata": {
        "id": "1310a47e"
      },
      "outputs": [],
      "source": [
        "#Criando nova coluna\n",
        "df['Preço em R$'] = df['price'] * 4.77"
      ]
    },
    {
      "cell_type": "markdown",
      "id": "bc5afe3d",
      "metadata": {
        "id": "bc5afe3d"
      },
      "source": [
        "Coluna criada, cujo o valor do dolar está R$4,77"
      ]
    },
    {
      "cell_type": "markdown",
      "id": "99f06f44",
      "metadata": {
        "id": "99f06f44"
      },
      "source": [
        "### Q1. Quantas colunas(váriaveis) e quantas linhas(entradas) o nosso dataset possui? E quais são os tipos de dados que nós temos?"
      ]
    },
    {
      "cell_type": "code",
      "execution_count": null,
      "id": "e8dc8611",
      "metadata": {
        "id": "e8dc8611",
        "outputId": "31477c7f-7e00-48c9-8bf7-4f25947872bc"
      },
      "outputs": [
        {
          "name": "stdout",
          "output_type": "stream",
          "text": [
            "Colunas: 17\n",
            "Linhas: 48895\n"
          ]
        }
      ],
      "source": [
        "#Vendo as linhas e colunas \n",
        "print(f'Colunas: {df.shape[1]}')\n",
        "print(f'Linhas: {df.shape[0]}')"
      ]
    },
    {
      "cell_type": "code",
      "execution_count": null,
      "id": "831cc2e4",
      "metadata": {
        "id": "831cc2e4",
        "outputId": "15fcfaf8-4a4c-42ee-c70d-9faf3106178b"
      },
      "outputs": [
        {
          "data": {
            "text/plain": [
              "id                                  int64\n",
              "name                               object\n",
              "host_id                             int64\n",
              "host_name                          object\n",
              "neighbourhood_group                object\n",
              "neighbourhood                      object\n",
              "latitude                          float64\n",
              "longitude                         float64\n",
              "room_type                          object\n",
              "price                               int64\n",
              "minimum_nights                      int64\n",
              "number_of_reviews                   int64\n",
              "last_review                        object\n",
              "reviews_per_month                 float64\n",
              "calculated_host_listings_count      int64\n",
              "availability_365                    int64\n",
              "Preço em R$                       float64\n",
              "dtype: object"
            ]
          },
          "metadata": {},
          "output_type": "display_data"
        }
      ],
      "source": [
        "#Verificando os tipos de dados\n",
        "display(df.dtypes)"
      ]
    },
    {
      "cell_type": "markdown",
      "id": "0c465cf2",
      "metadata": {
        "id": "0c465cf2"
      },
      "source": [
        "Podemos observar que esse nosso dataset possui um total de 48.895 linhas e 17 colunas. E os tipos dos dados são: Inteiro, Float e Objeto"
      ]
    },
    {
      "cell_type": "markdown",
      "id": "43f610c2",
      "metadata": {
        "id": "43f610c2"
      },
      "source": [
        "### Q2. Qual a porcentagem de valores ausentes  no dataset?"
      ]
    },
    {
      "cell_type": "code",
      "execution_count": null,
      "id": "438ba858",
      "metadata": {
        "id": "438ba858",
        "outputId": "a0a5fcfd-f0c2-4f6c-80ff-88387a5c92b4"
      },
      "outputs": [
        {
          "data": {
            "text/plain": [
              "reviews_per_month                 20.558339\n",
              "last_review                       20.558339\n",
              "host_name                          0.042949\n",
              "name                               0.032723\n",
              "id                                 0.000000\n",
              "minimum_nights                     0.000000\n",
              "availability_365                   0.000000\n",
              "calculated_host_listings_count     0.000000\n",
              "number_of_reviews                  0.000000\n",
              "room_type                          0.000000\n",
              "price                              0.000000\n",
              "longitude                          0.000000\n",
              "latitude                           0.000000\n",
              "neighbourhood                      0.000000\n",
              "neighbourhood_group                0.000000\n",
              "host_id                            0.000000\n",
              "Preço em R$                        0.000000\n",
              "dtype: float64"
            ]
          },
          "execution_count": 129,
          "metadata": {},
          "output_type": "execute_result"
        }
      ],
      "source": [
        "#Organizando de forma decrescente a porcentagem de dados faltantes de cada coluna \n",
        "((df.isnull().sum() / df.shape[0]).sort_values(ascending=False)) * 100"
      ]
    },
    {
      "cell_type": "markdown",
      "id": "34dd4513",
      "metadata": {
        "id": "34dd4513"
      },
      "source": [
        "É possível observar que as colunas `reviews_per_month` e `last_review` tem exatamente 20,55% dos dados ausentes, e as colunas `host_name` e `name` tem pouca coisa de dados ausentes. E as demais colunas, nenhuma tem dados faltantes"
      ]
    },
    {
      "cell_type": "markdown",
      "id": "ed6aae4f",
      "metadata": {
        "id": "ed6aae4f"
      },
      "source": [
        "### Q3. Distribuição das variáveis "
      ]
    },
    {
      "cell_type": "code",
      "execution_count": null,
      "id": "4170b943",
      "metadata": {
        "id": "4170b943",
        "outputId": "4206af1d-cc83-432b-a20c-2f2df67b5657"
      },
      "outputs": [
        {
          "data": {
            "image/png": "[encoded data removed]",
            "text/plain": [
              "<Figure size 1080x864 with 12 Axes>"
            ]
          },
          "metadata": {
            "needs_background": "light"
          },
          "output_type": "display_data"
        }
      ],
      "source": [
        "#Criando histógrama de todas as váriaveis numéricas\n",
        "df.hist(bins=20, figsize=(15, 12), color='royalblue')\n",
        "plt.show()"
      ]
    },
    {
      "cell_type": "markdown",
      "id": "3d568a7d",
      "metadata": {
        "id": "3d568a7d"
      },
      "source": [
        "Ao realizarmos a observação das distribuições, percebemos que a maioria das variáveis são assimétricas a direita. Sendo assim, provavelmente existem valores discrepantes em relação às variáveis, `price`, `Preço em R$`, `minimum_nights`, `calculated_host_listings_count`. A seguir vou fazer uma análise estatística descritiva e logo em seguida plotarei seus boxplots."
      ]
    },
    {
      "cell_type": "markdown",
      "id": "26139143",
      "metadata": {
        "id": "26139143"
      },
      "source": [
        "### Q4. Existem valores Discrepantes(Outliers)?"
      ]
    },
    {
      "cell_type": "code",
      "execution_count": null,
      "id": "f797e0ea",
      "metadata": {
        "id": "f797e0ea",
        "outputId": "7affa973-9e76-4553-d50b-ddf87ff2011f"
      },
      "outputs": [
        {
          "data": {
            "text/html": [
              "<div>\n",
              "<style scoped>\n",
              "    .dataframe tbody tr th:only-of-type {\n",
              "        vertical-align: middle;\n",
              "    }\n",
              "\n",
              "    .dataframe tbody tr th {\n",
              "        vertical-align: top;\n",
              "    }\n",
              "\n",
              "    .dataframe thead th {\n",
              "        text-align: right;\n",
              "    }\n",
              "</style>\n",
              "<table border=\"1\" class=\"dataframe\">\n",
              "  <thead>\n",
              "    <tr style=\"text-align: right;\">\n",
              "      <th></th>\n",
              "      <th>price</th>\n",
              "      <th>Preço em R$</th>\n",
              "      <th>minimum_nights</th>\n",
              "      <th>number_of_reviews</th>\n",
              "      <th>reviews_per_month</th>\n",
              "      <th>calculated_host_listings_count</th>\n",
              "      <th>availability_365</th>\n",
              "    </tr>\n",
              "  </thead>\n",
              "  <tbody>\n",
              "    <tr>\n",
              "      <th>count</th>\n",
              "      <td>48895.000000</td>\n",
              "      <td>48895.000000</td>\n",
              "      <td>48895.000000</td>\n",
              "      <td>48895.000000</td>\n",
              "      <td>38843.000000</td>\n",
              "      <td>48895.000000</td>\n",
              "      <td>48895.000000</td>\n",
              "    </tr>\n",
              "    <tr>\n",
              "      <th>mean</th>\n",
              "      <td>152.720687</td>\n",
              "      <td>728.477678</td>\n",
              "      <td>7.029962</td>\n",
              "      <td>23.274466</td>\n",
              "      <td>1.373221</td>\n",
              "      <td>7.143982</td>\n",
              "      <td>112.781327</td>\n",
              "    </tr>\n",
              "    <tr>\n",
              "      <th>std</th>\n",
              "      <td>240.154170</td>\n",
              "      <td>1145.535390</td>\n",
              "      <td>20.510550</td>\n",
              "      <td>44.550582</td>\n",
              "      <td>1.680442</td>\n",
              "      <td>32.952519</td>\n",
              "      <td>131.622289</td>\n",
              "    </tr>\n",
              "    <tr>\n",
              "      <th>min</th>\n",
              "      <td>0.000000</td>\n",
              "      <td>0.000000</td>\n",
              "      <td>1.000000</td>\n",
              "      <td>0.000000</td>\n",
              "      <td>0.010000</td>\n",
              "      <td>1.000000</td>\n",
              "      <td>0.000000</td>\n",
              "    </tr>\n",
              "    <tr>\n",
              "      <th>25%</th>\n",
              "      <td>69.000000</td>\n",
              "      <td>329.130000</td>\n",
              "      <td>1.000000</td>\n",
              "      <td>1.000000</td>\n",
              "      <td>0.190000</td>\n",
              "      <td>1.000000</td>\n",
              "      <td>0.000000</td>\n",
              "    </tr>\n",
              "    <tr>\n",
              "      <th>50%</th>\n",
              "      <td>106.000000</td>\n",
              "      <td>505.620000</td>\n",
              "      <td>3.000000</td>\n",
              "      <td>5.000000</td>\n",
              "      <td>0.720000</td>\n",
              "      <td>1.000000</td>\n",
              "      <td>45.000000</td>\n",
              "    </tr>\n",
              "    <tr>\n",
              "      <th>75%</th>\n",
              "      <td>175.000000</td>\n",
              "      <td>834.750000</td>\n",
              "      <td>5.000000</td>\n",
              "      <td>24.000000</td>\n",
              "      <td>2.020000</td>\n",
              "      <td>2.000000</td>\n",
              "      <td>227.000000</td>\n",
              "    </tr>\n",
              "    <tr>\n",
              "      <th>max</th>\n",
              "      <td>10000.000000</td>\n",
              "      <td>47700.000000</td>\n",
              "      <td>1250.000000</td>\n",
              "      <td>629.000000</td>\n",
              "      <td>58.500000</td>\n",
              "      <td>327.000000</td>\n",
              "      <td>365.000000</td>\n",
              "    </tr>\n",
              "  </tbody>\n",
              "</table>\n",
              "</div>"
            ],
            "text/plain": [
              "              price   Preço em R$  minimum_nights  number_of_reviews  \\\n",
              "count  48895.000000  48895.000000    48895.000000       48895.000000   \n",
              "mean     152.720687    728.477678        7.029962          23.274466   \n",
              "std      240.154170   1145.535390       20.510550          44.550582   \n",
              "min        0.000000      0.000000        1.000000           0.000000   \n",
              "25%       69.000000    329.130000        1.000000           1.000000   \n",
              "50%      106.000000    505.620000        3.000000           5.000000   \n",
              "75%      175.000000    834.750000        5.000000          24.000000   \n",
              "max    10000.000000  47700.000000     1250.000000         629.000000   \n",
              "\n",
              "       reviews_per_month  calculated_host_listings_count  availability_365  \n",
              "count       38843.000000                    48895.000000      48895.000000  \n",
              "mean            1.373221                        7.143982        112.781327  \n",
              "std             1.680442                       32.952519        131.622289  \n",
              "min             0.010000                        1.000000          0.000000  \n",
              "25%             0.190000                        1.000000          0.000000  \n",
              "50%             0.720000                        1.000000         45.000000  \n",
              "75%             2.020000                        2.000000        227.000000  \n",
              "max            58.500000                      327.000000        365.000000  "
            ]
          },
          "execution_count": 131,
          "metadata": {},
          "output_type": "execute_result"
        }
      ],
      "source": [
        "df[['price', 'Preço em R$', 'minimum_nights', 'number_of_reviews', 'reviews_per_month',\n",
        "    'calculated_host_listings_count', 'availability_365']].describe()"
      ]
    },
    {
      "cell_type": "markdown",
      "id": "e02bf96d",
      "metadata": {
        "id": "e02bf96d"
      },
      "source": [
        "De acordo com a tabela acima, podemos confirmar que existem valores outliers em nosso dataset. Observem que na coluna `minimum_nights` o valor máximo é igual a 1250, muito superior aos dias de um ano. E na coluna de preço, 75% do mesmo está abaixo de 834.75 reais, e o seu valor máximo é R$ 47.700"
      ]
    },
    {
      "cell_type": "markdown",
      "id": "b195542e",
      "metadata": {
        "id": "b195542e"
      },
      "source": [
        "#### Boxplot Preço em R$"
      ]
    },
    {
      "cell_type": "code",
      "execution_count": null,
      "id": "ccf465f8",
      "metadata": {
        "scrolled": true,
        "id": "ccf465f8",
        "outputId": "86d36ee5-aa0a-4f82-f935-e36d9fb8068c"
      },
      "outputs": [
        {
          "data": {
            "image/png": "[encoded data removed]",
            "text/plain": [
              "<Figure size 864x144 with 1 Axes>"
            ]
          },
          "metadata": {
            "needs_background": "light"
          },
          "output_type": "display_data"
        },
        {
          "name": "stdout",
          "output_type": "stream",
          "text": [
            "Valores acima de 1500:\n",
            "3249 entradas\n",
            "6.64%\n"
          ]
        }
      ],
      "source": [
        "fig = plt.figure(figsize=(12,2))\n",
        "ax = fig.add_axes([0,0,1,1])\n",
        "ax.boxplot(df['Preço em R$'], vert=False)\n",
        "plt.show()\n",
        "\n",
        "print('Valores acima de 1500:')\n",
        "print('{} entradas'.format(len(df[df['Preço em R$'] > 1500])))\n",
        "print('{:.2f}%'.format((len(df[df['Preço em R$'] > 1500]) / df.shape[0])*100))"
      ]
    },
    {
      "cell_type": "markdown",
      "id": "fa3cdbf3",
      "metadata": {
        "id": "fa3cdbf3"
      },
      "source": [
        "Alguns valores extremamente discrepantes"
      ]
    },
    {
      "cell_type": "markdown",
      "id": "96a3a970",
      "metadata": {
        "id": "96a3a970"
      },
      "source": [
        "#### Boxplot minimum_nights"
      ]
    },
    {
      "cell_type": "code",
      "execution_count": null,
      "id": "8342276b",
      "metadata": {
        "id": "8342276b",
        "outputId": "c52d3761-d9e5-4c34-dd59-c060cb75bd0a"
      },
      "outputs": [
        {
          "data": {
            "image/png": "[encoded data removed]",
            "text/plain": [
              "<Figure size 864x144 with 1 Axes>"
            ]
          },
          "metadata": {
            "needs_background": "light"
          },
          "output_type": "display_data"
        },
        {
          "name": "stdout",
          "output_type": "stream",
          "text": [
            "Valores acima de 30:\n",
            "747 entradas\n",
            "1.53%\n"
          ]
        }
      ],
      "source": [
        "fig = plt.figure(figsize=(12,2))\n",
        "ax = fig.add_axes([0,0,1,1])\n",
        "ax.boxplot(df['minimum_nights'], vert=False)\n",
        "plt.show()\n",
        "\n",
        "print('Valores acima de 30:')\n",
        "print('{} entradas'.format(len(df[df['minimum_nights'] > 30])))\n",
        "print('{:.2f}%'.format((len(df[df['minimum_nights'] > 30]) / df.shape[0])*100))"
      ]
    },
    {
      "cell_type": "markdown",
      "id": "3b04706d",
      "metadata": {
        "id": "3b04706d"
      },
      "source": [
        "Podemos observar que acima de 30 noites, já existem valores outliers. O máximo é 1250, é bem discrepante em relação aos demais"
      ]
    },
    {
      "cell_type": "markdown",
      "id": "db116209",
      "metadata": {
        "id": "db116209"
      },
      "source": [
        "#### Tratando Valores Outliers"
      ]
    },
    {
      "cell_type": "code",
      "execution_count": null,
      "id": "8efbc821",
      "metadata": {
        "scrolled": true,
        "id": "8efbc821"
      },
      "outputs": [],
      "source": [
        "df_clear = df.copy()\n",
        "df_clear.drop(df_clear[df_clear['Preço em R$'] > 2000].index, axis=0, inplace=True)\n",
        "df_clear.drop(df_clear[df_clear.price > 1500].index, axis=0, inplace=True)\n",
        "df_clear.drop(df_clear[df_clear.minimum_nights > 30].index, axis=0, inplace=True)"
      ]
    },
    {
      "cell_type": "markdown",
      "id": "87b28c9c",
      "metadata": {
        "id": "87b28c9c"
      },
      "source": [
        "Após ter removido os valores discrepantes(outliers), vamos plotar novamente o seu histograma"
      ]
    },
    {
      "cell_type": "code",
      "execution_count": null,
      "id": "e2b90252",
      "metadata": {
        "id": "e2b90252",
        "outputId": "90f09618-3aa2-4f3d-a80e-c969895f800e"
      },
      "outputs": [
        {
          "data": {
            "image/png": "[encoded data removed]",
            "text/plain": [
              "<Figure size 1080x864 with 12 Axes>"
            ]
          },
          "metadata": {
            "needs_background": "light"
          },
          "output_type": "display_data"
        }
      ],
      "source": [
        "df_clear.hist(bins=20, figsize=(15, 12), color='royalblue')\n",
        "plt.show()"
      ]
    },
    {
      "cell_type": "markdown",
      "id": "91e6f97f",
      "metadata": {
        "id": "91e6f97f"
      },
      "source": [
        "De maneira muito mais clara, podemos observar os histogramas e que grande parte do intervalo do `Preço em R$` está entre 150 e 750 reais. A quantidade de imóveis com preço maior que isso é bem menor.\n",
        "\n",
        "Finalmente com os valores livres de outliers, é possível extrair informações valiosas para quem quiser passear em Nova York. A seguir farei algumas perguntas relevantes aos dados."
      ]
    },
    {
      "cell_type": "markdown",
      "id": "ef138880",
      "metadata": {
        "id": "ef138880"
      },
      "source": [
        "### Q5. Algumas Perguntas Relevantes "
      ]
    },
    {
      "cell_type": "markdown",
      "id": "846e4743",
      "metadata": {
        "id": "846e4743"
      },
      "source": [
        "#### Qual o valor médio do aluguel na cidade de Nova York?"
      ]
    },
    {
      "cell_type": "code",
      "execution_count": null,
      "id": "81d52c98",
      "metadata": {
        "id": "81d52c98",
        "outputId": "44c93a19-72fd-44f8-a5b3-149cb777889e"
      },
      "outputs": [
        {
          "name": "stdout",
          "output_type": "stream",
          "text": [
            "Média em R$: 603.92\n",
            "Média em US$: 126.61\n"
          ]
        }
      ],
      "source": [
        "#Fazer a média dos preços\n",
        "print('Média em R$: {:.2f}'.format(df_clear['Preço em R$'].mean()))\n",
        "print('Média em US$: {:.2f}'.format(df_clear['price'].mean()))"
      ]
    },
    {
      "cell_type": "markdown",
      "id": "6ffec83c",
      "metadata": {
        "id": "6ffec83c"
      },
      "source": [
        "A média dos preço do aluguel diário na cidade de Nova York é de 126.61 dolares, que é equivalente a aproximadamente 603.92 reais\n",
        "\n",
        "\n",
        "#### Quais os nomes das regiões que existem na cidade de Nova York?"
      ]
    },
    {
      "cell_type": "code",
      "execution_count": null,
      "id": "3a805116",
      "metadata": {
        "id": "3a805116",
        "outputId": "68fb2d6f-132c-4bad-e90c-3206dad6bff1"
      },
      "outputs": [
        {
          "name": "stdout",
          "output_type": "stream",
          "text": [
            "As regiõs em Nova York são:\n",
            "Brooklyn\n",
            "Manhattan\n",
            "Queens\n",
            "Staten Island\n",
            "Bronx\n"
          ]
        }
      ],
      "source": [
        "#Vamos ver o nome das regiões únicas da coluna \"neighbourhood_group\"\n",
        "unicos = df_clear['neighbourhood_group'].unique()\n",
        "print('As regiõs em Nova York são:')\n",
        "\n",
        "for regiao in unicos:\n",
        "    print(regiao)"
      ]
    },
    {
      "cell_type": "markdown",
      "id": "a73ebaca",
      "metadata": {
        "id": "a73ebaca"
      },
      "source": [
        "#### Qual o valor do aluguel diário mais caro da cidade de Nova York?"
      ]
    },
    {
      "cell_type": "code",
      "execution_count": null,
      "id": "57a6a056",
      "metadata": {
        "id": "57a6a056",
        "outputId": "dc862d38-74ee-4e64-9edb-734418728be9"
      },
      "outputs": [
        {
          "name": "stdout",
          "output_type": "stream",
          "text": [
            "Mais caro em Dolar: 419\n",
            "Mais caro em Reais: 1998.63\n"
          ]
        }
      ],
      "source": [
        "#Ver o valor máximo do aluguel diário em Dolar e em Reais\n",
        "print('Mais caro em Dolar: {}'.format(df_clear['price'].max()))\n",
        "print('Mais caro em Reais: {:.2f}'.format(df_clear['Preço em R$'].max()))"
      ]
    },
    {
      "cell_type": "markdown",
      "id": "65ddeff4",
      "metadata": {
        "id": "65ddeff4"
      },
      "source": [
        "#### Quais são as categorias de imóveis que estão cadastradas dentro da base de dados da cidade de Nova York? \n"
      ]
    },
    {
      "cell_type": "code",
      "execution_count": null,
      "id": "87c884a2",
      "metadata": {
        "id": "87c884a2",
        "outputId": "dee070f9-c8e5-448c-f62a-b21fc863b672"
      },
      "outputs": [
        {
          "name": "stdout",
          "output_type": "stream",
          "text": [
            "Os tipos de locações que existem são: \n",
            "Private room\n",
            "Entire home/apt\n",
            "Shared room\n"
          ]
        }
      ],
      "source": [
        "#Para respondermos essa pergunta, vamos utilizar a coluna 'room_type'\n",
        "unico = df_clear['room_type'].unique()\n",
        "print('Os tipos de locações que existem são: ')\n",
        "\n",
        "for tipo in unico:\n",
        "    print(tipo)"
      ]
    },
    {
      "cell_type": "markdown",
      "id": "0eb495b1",
      "metadata": {
        "id": "0eb495b1"
      },
      "source": [
        "Os tipos acima correspondem a: \n",
        "* `Private room` - Apenas um quarto\n",
        "* `Entire home/apt` - Apartamento inteiro\n",
        "* `Shared room` - Quarto compartilhado"
      ]
    },
    {
      "cell_type": "markdown",
      "id": "f34f7e12",
      "metadata": {
        "id": "f34f7e12"
      },
      "source": [
        "#### Existem mais imóveis baratos ou caros?"
      ]
    },
    {
      "cell_type": "code",
      "execution_count": null,
      "id": "b7071446",
      "metadata": {
        "id": "b7071446",
        "outputId": "bfd63d6d-bb43-42c4-d9df-1409def57dd4"
      },
      "outputs": [
        {
          "data": {
            "image/png": "[encoded data removed]",
            "text/plain": [
              "<Figure size 576x360 with 1 Axes>"
            ]
          },
          "metadata": {
            "needs_background": "light"
          },
          "output_type": "display_data"
        }
      ],
      "source": [
        "#Vamos fazer uma vizualização para um mais fácil entendimento\n",
        "df_org = df_clear['price'].value_counts()\n",
        "\n",
        "fig = plt.figure(figsize=(8, 5))\n",
        "ax = fig.add_axes([0,0,1,1])\n",
        "\n",
        "ax.set_title('Comparação Imóveis: Baratos x Caros', fontsize=18, pad=10)\n",
        "ax.set_xlabel('Preço', fontsize=15)\n",
        "ax.set_ylabel('Quantidade', fontsize=15)\n",
        "\n",
        "ax.set_yticks([0, 50, 100, 150, 200])\n",
        "ax.set_yticklabels(['0', '50', '100', '150', '200'])\n",
        "\n",
        "ax.hist(df_org, bins=50)\n",
        "plt.show()"
      ]
    },
    {
      "cell_type": "markdown",
      "id": "c9f10bd0",
      "metadata": {
        "id": "c9f10bd0"
      },
      "source": [
        "Com este histograma, podemos perceber que existem mais imóveis baratos do que caros. Ficando a maioria de 30(140 reais) a 200(900 reais) dólares a diária."
      ]
    },
    {
      "cell_type": "markdown",
      "id": "c1ae8f8f",
      "metadata": {
        "id": "c1ae8f8f"
      },
      "source": [
        "#### Qual é o valor do aluguel mais caro de cada região? E o mais barato?"
      ]
    },
    {
      "cell_type": "code",
      "execution_count": null,
      "id": "477880d5",
      "metadata": {
        "id": "477880d5",
        "outputId": "6146af40-9648-4ec7-e228-9f476e33df6b"
      },
      "outputs": [
        {
          "name": "stdout",
          "output_type": "stream",
          "text": [
            "Em dolar: neighbourhood_group\n",
            "Bronx            399\n",
            "Brooklyn         418\n",
            "Manhattan        419\n",
            "Queens           400\n",
            "Staten Island    300\n",
            "Name: price, dtype: int64\n",
            "\n",
            "Em Real: neighbourhood_group\n",
            "Bronx            1903.23\n",
            "Brooklyn         1993.86\n",
            "Manhattan        1998.63\n",
            "Queens           1908.00\n",
            "Staten Island    1431.00\n",
            "Name: Preço em R$, dtype: float64\n"
          ]
        }
      ],
      "source": [
        "#Mais caro por região\n",
        "print('Em dolar: {}'.format(df_clear.groupby('neighbourhood_group')['price'].max()))\n",
        "print('\\nEm Real: {}'.format(df_clear.groupby('neighbourhood_group')['Preço em R$'].max()))"
      ]
    },
    {
      "cell_type": "code",
      "execution_count": null,
      "id": "c9173d46",
      "metadata": {
        "id": "c9173d46",
        "outputId": "31fa06c4-c314-4d4c-a2ec-2666d686c4db"
      },
      "outputs": [
        {
          "name": "stdout",
          "output_type": "stream",
          "text": [
            "Em dolar: neighbourhood_group\n",
            "Bronx            10\n",
            "Brooklyn         10\n",
            "Manhattan        10\n",
            "Queens           10\n",
            "Staten Island    13\n",
            "Name: price, dtype: int64\n",
            "\n",
            "Em Real: neighbourhood_group\n",
            "Bronx            47.70\n",
            "Brooklyn         47.70\n",
            "Manhattan        47.70\n",
            "Queens           47.70\n",
            "Staten Island    62.01\n",
            "Name: Preço em R$, dtype: float64\n"
          ]
        }
      ],
      "source": [
        "#Mais barato por região\n",
        "price = df_clear[df_clear['price'] > 0]\n",
        "preco = df_clear[df_clear['Preço em R$'] > 0]\n",
        "\n",
        "print('Em dolar: {}'.format(price.groupby('neighbourhood_group')['price'].min()))\n",
        "print('\\nEm Real: {}'.format(preco.groupby('neighbourhood_group')['Preço em R$'].min()))"
      ]
    },
    {
      "cell_type": "markdown",
      "id": "433c22c8",
      "metadata": {
        "id": "433c22c8"
      },
      "source": [
        "#### Qual a soma dos valores do aluguel por região? E qual o mais caro?"
      ]
    },
    {
      "cell_type": "code",
      "execution_count": null,
      "id": "dc1c7da4",
      "metadata": {
        "id": "dc1c7da4",
        "outputId": "90d29a6b-cf10-459e-9854-b56d15f64ea9"
      },
      "outputs": [
        {
          "data": {
            "image/png": "[encoded data removed]",
            "text/plain": [
              "<Figure size 576x360 with 1 Axes>"
            ]
          },
          "metadata": {
            "needs_background": "light"
          },
          "output_type": "display_data"
        },
        {
          "name": "stdout",
          "output_type": "stream",
          "text": [
            "neighbourhood_group\n",
            "Manhattan        3119875\n",
            "Brooklyn         2139120\n",
            "Queens            507836\n",
            "Bronx              84465\n",
            "Staten Island      32311\n",
            "Name: price, dtype: int64\n"
          ]
        }
      ],
      "source": [
        "#Vamos plotar um gráfico de barras para melhor vizualização\n",
        "cores = {'Manhattan': 'red',\n",
        "         'Brooklyn': 'darkorange',\n",
        "         'Queens': 'yellow',\n",
        "         'Bronx': 'lawngreen',\n",
        "         'Staten Island':'dodgerblue'}\n",
        "labels = list(cores.keys())\n",
        "\n",
        "y = (df_clear.groupby('neighbourhood_group')['price'].sum()).sort_values(ascending=False)\n",
        "\n",
        "fig = plt.figure(figsize=(8,5))\n",
        "ax = fig.add_axes([1,1,1,1])\n",
        "\n",
        "ax.bar(label, y, color=cores.values(), alpha=0.9)\n",
        "ax.set_title('Regiões mais carass (Ordem decrescente)', fontsize=18, pad=15)\n",
        "ax.set_xlabel('Regiões', fontsize=15)\n",
        "ax.set_ylabel('Preço Em Dolar', fontsize=15)\n",
        "\n",
        "ax.set_yticks([0, 500000, 1000000, 1500000, 2000000, 2500000, 3000000])\n",
        "ax.set_yticklabels(['0', '500.000', '1.000.000', '1.500.000', '2.000.000', '2.500.000', '3.000.000'])\n",
        "\n",
        "handles = [plt.Rectangle((0,0),1,1, color=cores[label]) for label in labels]\n",
        "ax.legend(handles, labels)\n",
        "plt.show()\n",
        "\n",
        "print(y)"
      ]
    },
    {
      "cell_type": "markdown",
      "id": "17b67c95",
      "metadata": {
        "id": "17b67c95"
      },
      "source": [
        "Após contruirmos o gráfico, podemos concluir que a região em que se é mais caro para alugar é Manhattan.\n",
        "\n",
        "\n",
        "### Por que Manhattan é a região mais cara?"
      ]
    },
    {
      "cell_type": "markdown",
      "id": "58fc3fef",
      "metadata": {
        "id": "58fc3fef"
      },
      "source": [
        "Considerado o coração de Nova York, Manhattan é um distrito rico, cosmopolita e efervescente, que apresenta bem o que esperar de uma viagem à chamada Big Apple, na Costa Leste dos Estados Unidos. Recebendo um total de 34,6 milhões de visitantes no ano de 2021.\n",
        "\n",
        "\n",
        "<center><img alt=\"Analisando Airbnb\" width=\"10%\" src=\"https://www.area360.com.au/wp-content/uploads/2017/09/airbnb-logo.jpg\"></center>\n",
        "\n",
        "<img src=\"https://images.alphacoders.com/102/1026379.jpg\"/>\n",
        "\n",
        "\n",
        "Manhattan possui alguns dos pontos turisticos mais movimentados do mundo, tais como: \n",
        "* `Times Square` -  É uma imensa avenida onde letreiros coloridos e outdoors chamativos disputam espaço com artistas de rua, lojas, trânsito e várias atrações incríveis, onde mais de 300 mil pessoas visitam a avenida todos os dias.\n",
        "\n",
        "\n",
        "* `Central Park` - O parque mais famoso do planeta ocupa uma área de mais de 3,4 km² no coração da cidade, como se fosse um grande oásis em meio à selva urbana.\n",
        "\n",
        "\n",
        "* `Empire State Building` - Um dos edifícios mais famosos do mundo, o Empire State Building foi construído no começo da década de 1930 e reinou absoluto sobre Nova York até meados da década de 1972, quando as Torres Gêmeas foram construídas\n",
        "\n",
        "\n",
        "* `Museus` - Os principais museus de Nova York ficam no distrito, como o Metropolitan Museum of Art (MET), o Museu de Arte Moderna (MoMa) e o Whitney Museum of Art.\n",
        "\n",
        "\n",
        "\n",
        "Devidos a essas e muitas outras atrações, que contribuem para que Manhattan se torne a região mais cara de Nova York."
      ]
    },
    {
      "cell_type": "markdown",
      "id": "5de3e2a2",
      "metadata": {
        "id": "5de3e2a2"
      },
      "source": [
        "### Q6. Conseguimos saber onde estão localizados os imóveis com o valor do aluguel mais caro?\n",
        "\n",
        "Para finalizar nossa análise, vou montar um mapa aonde estão localizados os imóveis com o valor do aluguel mais caro."
      ]
    },
    {
      "cell_type": "code",
      "execution_count": null,
      "id": "4bf55036",
      "metadata": {
        "id": "4bf55036",
        "outputId": "84746ee0-0baf-4b6a-b62e-16ef0652db56"
      },
      "outputs": [
        {
          "data": {
            "text/html": [
              "<div style=\"width:100%;\"><div style=\"position:relative;width:100%;height:0;padding-bottom:60%;\"><span style=\"color:#565656\">Make this Notebook Trusted to load map: File -> Trust Notebook</span><iframe srcdoc=\"&lt;!DOCTYPE html&gt;\n",
              "&lt;head&gt;    \n",
              "    &lt;meta http-equiv=&quot;content-type&quot; content=&quot;text/html; charset=UTF-8&quot; /&gt;\n",
              "    \n",
              "        &lt;script&gt;\n",
              "            L_NO_TOUCH = false;\n",
              "            L_DISABLE_3D = false;\n",
              "        &lt;/script&gt;\n",
              "    \n",
              "    &lt;style&gt;html, body {width: 100%;height: 100%;margin: 0;padding: 0;}&lt;/style&gt;\n",
              "    &lt;style&gt;#map {position:absolute;top:0;bottom:0;right:0;left:0;}&lt;/style&gt;\n",
              "    &lt;script src=&quot;https://cdn.jsdelivr.net/npm/leaflet@1.6.0/dist/leaflet.js&quot;&gt;&lt;/script&gt;\n",
              "    &lt;script src=&quot;https://code.jquery.com/jquery-1.12.4.min.js&quot;&gt;&lt;/script&gt;\n",
              "    &lt;script src=&quot;https://maxcdn.bootstrapcdn.com/bootstrap/3.2.0/js/bootstrap.min.js&quot;&gt;&lt;/script&gt;\n",
              "    &lt;script src=&quot;https://cdnjs.cloudflare.com/ajax/libs/Leaflet.awesome-markers/2.0.2/leaflet.awesome-markers.js&quot;&gt;&lt;/script&gt;\n",
              "    &lt;link rel=&quot;stylesheet&quot; href=&quot;https://cdn.jsdelivr.net/npm/leaflet@1.6.0/dist/leaflet.css&quot;/&gt;\n",
              "    &lt;link rel=&quot;stylesheet&quot; href=&quot;https://maxcdn.bootstrapcdn.com/bootstrap/3.2.0/css/bootstrap.min.css&quot;/&gt;\n",
              "    &lt;link rel=&quot;stylesheet&quot; href=&quot;https://maxcdn.bootstrapcdn.com/bootstrap/3.2.0/css/bootstrap-theme.min.css&quot;/&gt;\n",
              "    &lt;link rel=&quot;stylesheet&quot; href=&quot;https://maxcdn.bootstrapcdn.com/font-awesome/4.6.3/css/font-awesome.min.css&quot;/&gt;\n",
              "    &lt;link rel=&quot;stylesheet&quot; href=&quot;https://cdnjs.cloudflare.com/ajax/libs/Leaflet.awesome-markers/2.0.2/leaflet.awesome-markers.css&quot;/&gt;\n",
              "    &lt;link rel=&quot;stylesheet&quot; href=&quot;https://cdn.jsdelivr.net/gh/python-visualization/folium/folium/templates/leaflet.awesome.rotate.min.css&quot;/&gt;\n",
              "    \n",
              "            &lt;meta name=&quot;viewport&quot; content=&quot;width=device-width,\n",
              "                initial-scale=1.0, maximum-scale=1.0, user-scalable=no&quot; /&gt;\n",
              "            &lt;style&gt;\n",
              "                #map_38ccc77f11c861c317f5042bcea2353c {\n",
              "                    position: relative;\n",
              "                    width: 100.0%;\n",
              "                    height: 100.0%;\n",
              "                    left: 0.0%;\n",
              "                    top: 0.0%;\n",
              "                }\n",
              "            &lt;/style&gt;\n",
              "        \n",
              "&lt;/head&gt;\n",
              "&lt;body&gt;    \n",
              "    \n",
              "            &lt;div class=&quot;folium-map&quot; id=&quot;map_38ccc77f11c861c317f5042bcea2353c&quot; &gt;&lt;/div&gt;\n",
              "        \n",
              "&lt;/body&gt;\n",
              "&lt;script&gt;    \n",
              "    \n",
              "            var map_38ccc77f11c861c317f5042bcea2353c = L.map(\n",
              "                &quot;map_38ccc77f11c861c317f5042bcea2353c&quot;,\n",
              "                {\n",
              "                    center: [0, 0],\n",
              "                    crs: L.CRS.EPSG3857,\n",
              "                    zoom: 1,\n",
              "                    zoomControl: true,\n",
              "                    preferCanvas: false,\n",
              "                }\n",
              "            );\n",
              "\n",
              "            \n",
              "\n",
              "        \n",
              "    \n",
              "            var tile_layer_d0a8106530b87f49a1055d23215ae923 = L.tileLayer(\n",
              "                &quot;https://{s}.tile.openstreetmap.org/{z}/{x}/{y}.png&quot;,\n",
              "                {&quot;attribution&quot;: &quot;Data by \\u0026copy; \\u003ca href=\\&quot;http://openstreetmap.org\\&quot;\\u003eOpenStreetMap\\u003c/a\\u003e, under \\u003ca href=\\&quot;http://www.openstreetmap.org/copyright\\&quot;\\u003eODbL\\u003c/a\\u003e.&quot;, &quot;detectRetina&quot;: false, &quot;maxNativeZoom&quot;: 18, &quot;maxZoom&quot;: 18, &quot;minZoom&quot;: 0, &quot;noWrap&quot;: false, &quot;opacity&quot;: 1, &quot;subdomains&quot;: &quot;abc&quot;, &quot;tms&quot;: false}\n",
              "            ).addTo(map_38ccc77f11c861c317f5042bcea2353c);\n",
              "        \n",
              "    \n",
              "            var marker_2cfa85e5e09fc43440168f5c41587d3d = L.marker(\n",
              "                [40.91306, -73.78158],\n",
              "                {}\n",
              "            ).addTo(map_38ccc77f11c861c317f5042bcea2353c);\n",
              "        \n",
              "    \n",
              "        var popup_64451ada62b42a2ebdf247cb8a3fffec = L.popup({&quot;maxWidth&quot;: &quot;100%&quot;});\n",
              "\n",
              "        \n",
              "            var html_955900fe290da6390bccccde481d8f81 = $(`&lt;div id=&quot;html_955900fe290da6390bccccde481d8f81&quot; style=&quot;width: 100.0%; height: 100.0%;&quot;&gt;Bronx&lt;/div&gt;`)[0];\n",
              "            popup_64451ada62b42a2ebdf247cb8a3fffec.setContent(html_955900fe290da6390bccccde481d8f81);\n",
              "        \n",
              "\n",
              "        marker_2cfa85e5e09fc43440168f5c41587d3d.bindPopup(popup_64451ada62b42a2ebdf247cb8a3fffec)\n",
              "        ;\n",
              "\n",
              "        \n",
              "    \n",
              "    \n",
              "            var marker_f0d2c4914bbd5c49eed14c4cf12ea4a4 = L.marker(\n",
              "                [40.7389, -73.85676],\n",
              "                {}\n",
              "            ).addTo(map_38ccc77f11c861c317f5042bcea2353c);\n",
              "        \n",
              "    \n",
              "        var popup_2d29c9aef77bacaaa089c263ac569d48 = L.popup({&quot;maxWidth&quot;: &quot;100%&quot;});\n",
              "\n",
              "        \n",
              "            var html_e8c2e84b65aab8673356929f6f80718a = $(`&lt;div id=&quot;html_e8c2e84b65aab8673356929f6f80718a&quot; style=&quot;width: 100.0%; height: 100.0%;&quot;&gt;Brooklyn&lt;/div&gt;`)[0];\n",
              "            popup_2d29c9aef77bacaaa089c263ac569d48.setContent(html_e8c2e84b65aab8673356929f6f80718a);\n",
              "        \n",
              "\n",
              "        marker_f0d2c4914bbd5c49eed14c4cf12ea4a4.bindPopup(popup_2d29c9aef77bacaaa089c263ac569d48)\n",
              "        ;\n",
              "\n",
              "        \n",
              "    \n",
              "    \n",
              "            var marker_2e062849f155717c09f8577bc803bb92 = L.marker(\n",
              "                [40.87665, -73.90855],\n",
              "                {}\n",
              "            ).addTo(map_38ccc77f11c861c317f5042bcea2353c);\n",
              "        \n",
              "    \n",
              "        var popup_d3301f1a4487bb8532460090c1ce1900 = L.popup({&quot;maxWidth&quot;: &quot;100%&quot;});\n",
              "\n",
              "        \n",
              "            var html_8242b54359724d39b2ea61003cbae1a5 = $(`&lt;div id=&quot;html_8242b54359724d39b2ea61003cbae1a5&quot; style=&quot;width: 100.0%; height: 100.0%;&quot;&gt;Manhattan&lt;/div&gt;`)[0];\n",
              "            popup_d3301f1a4487bb8532460090c1ce1900.setContent(html_8242b54359724d39b2ea61003cbae1a5);\n",
              "        \n",
              "\n",
              "        marker_2e062849f155717c09f8577bc803bb92.bindPopup(popup_d3301f1a4487bb8532460090c1ce1900)\n",
              "        ;\n",
              "\n",
              "        \n",
              "    \n",
              "    \n",
              "            var marker_8a37ee4fdccf1c206adbe1803e09f51c = L.marker(\n",
              "                [40.79721, -73.71299],\n",
              "                {}\n",
              "            ).addTo(map_38ccc77f11c861c317f5042bcea2353c);\n",
              "        \n",
              "    \n",
              "        var popup_95a9e4913bc921160d93d8a794d9b0b0 = L.popup({&quot;maxWidth&quot;: &quot;100%&quot;});\n",
              "\n",
              "        \n",
              "            var html_43f9c56cc4580ba643711af12f347b2d = $(`&lt;div id=&quot;html_43f9c56cc4580ba643711af12f347b2d&quot; style=&quot;width: 100.0%; height: 100.0%;&quot;&gt;Queens&lt;/div&gt;`)[0];\n",
              "            popup_95a9e4913bc921160d93d8a794d9b0b0.setContent(html_43f9c56cc4580ba643711af12f347b2d);\n",
              "        \n",
              "\n",
              "        marker_8a37ee4fdccf1c206adbe1803e09f51c.bindPopup(popup_95a9e4913bc921160d93d8a794d9b0b0)\n",
              "        ;\n",
              "\n",
              "        \n",
              "    \n",
              "    \n",
              "            var marker_c3d20d3ec52d923a98c0f73deb13e643 = L.marker(\n",
              "                [40.64779, -74.06208],\n",
              "                {}\n",
              "            ).addTo(map_38ccc77f11c861c317f5042bcea2353c);\n",
              "        \n",
              "    \n",
              "        var popup_0bb3991f5982909a6426d8d9d786bc43 = L.popup({&quot;maxWidth&quot;: &quot;100%&quot;});\n",
              "\n",
              "        \n",
              "            var html_fdea88bbc97ed03e08ac1e419bf4f9e0 = $(`&lt;div id=&quot;html_fdea88bbc97ed03e08ac1e419bf4f9e0&quot; style=&quot;width: 100.0%; height: 100.0%;&quot;&gt;Staten Island&lt;/div&gt;`)[0];\n",
              "            popup_0bb3991f5982909a6426d8d9d786bc43.setContent(html_fdea88bbc97ed03e08ac1e419bf4f9e0);\n",
              "        \n",
              "\n",
              "        marker_c3d20d3ec52d923a98c0f73deb13e643.bindPopup(popup_0bb3991f5982909a6426d8d9d786bc43)\n",
              "        ;\n",
              "\n",
              "        \n",
              "    \n",
              "&lt;/script&gt;\" style=\"position:absolute;width:100%;height:100%;left:0;top:0;border:none !important;\" allowfullscreen webkitallowfullscreen mozallowfullscreen></iframe></div></div>"
            ],
            "text/plain": [
              "<folium.folium.Map at 0x1d701429e20>"
            ]
          },
          "execution_count": 198,
          "metadata": {},
          "output_type": "execute_result"
        }
      ],
      "source": [
        "#Conjunto de dados com as coordenadas\n",
        "colunas = ['price','neighbourhood_group','latitude','longitude']\n",
        "data_plot = df_clear.loc[:, colunas].groupby('neighbourhood_group').max().reset_index()\n",
        "\n",
        "#Um comando para desenhar um mapa\n",
        "mapa = folium.Map()\n",
        "\n",
        "#Colocar os pontos de latitude e longitude dentro do mapa\n",
        "for index, location_info in data_plot.iterrows():\n",
        "    folium.Marker([location_info['latitude'], location_info['longitude']],\n",
        "                  popup=location_info['neighbourhood_group']).add_to(mapa)\n",
        "    \n",
        "mapa"
      ]
    },
    {
      "cell_type": "markdown",
      "id": "a729d073",
      "metadata": {
        "id": "a729d073"
      },
      "source": [
        "E assim de forma clara com este mapa, que finalizo este projeto. Logo abaixo segue algumas conclusões dessas análises feitas."
      ]
    },
    {
      "cell_type": "markdown",
      "id": "963937bd",
      "metadata": {
        "id": "963937bd"
      },
      "source": [
        "## Conclusões"
      ]
    },
    {
      "cell_type": "markdown",
      "id": "3e10868d",
      "metadata": {
        "id": "3e10868d"
      },
      "source": [
        "Podemos concluir que uma análise de dados bem feita, é muito importante e é possivel retirar informações relevantes para responder não só uma, mas várias perguntas. Por exemplo, nós vemos a média dos preços dos imóveis, detectamos valores outliers, removemos os mesmos, fizemos uma vizualização de dados. Respondemos perguntas que, para quem tem interesse de conhcer a cidade de Nova York, já vai ter uma noção bem ampla sobre os locais onde quiserem se hospedar.\n",
        "\n",
        "E por fim, montei um mapa para podermos vizualizar exatamente onde estão os imóveis mais caros de cada região de Nova York."
      ]
    }
  ],
  "metadata": {
    "kernelspec": {
      "display_name": "Python 3 (ipykernel)",
      "language": "python",
      "name": "python3"
    },
    "language_info": {
      "codemirror_mode": {
        "name": "ipython",
        "version": 3
      },
      "file_extension": ".py",
      "mimetype": "text/x-python",
      "name": "python",
      "nbconvert_exporter": "python",
      "pygments_lexer": "ipython3",
      "version": "3.9.7"
    },
    "colab": {
      "name": "Análise_Dos_Dados_Airbnb_NYC.ipynb",
      "provenance": [],
      "include_colab_link": true
    }
  },
  "nbformat": 4,
  "nbformat_minor": 5
}